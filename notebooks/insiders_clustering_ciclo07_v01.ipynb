{
 "cells": [
  {
   "cell_type": "markdown",
   "metadata": {},
   "source": [
    "## 0.1 Imports"
   ]
  },
  {
   "cell_type": "code",
   "execution_count": 7,
   "metadata": {},
   "outputs": [],
   "source": [
    "import numpy as np\n",
    "import pandas as pd\n",
    "import seaborn as sns\n",
    "import umap.umap_ as umap\n",
    "import re\n",
    "\n",
    "from matplotlib import pyplot as plt\n",
    "from datetime import datetime\n",
    "\n",
    "from matplotlib import cm\n",
    "\n",
    "from sklearn import metrics as m\n",
    "from sklearn import cluster as c\n",
    "from sklearn import preprocessing as pp\n",
    "from sklearn import decomposition as dd\n",
    "from sklearn.manifold import TSNE\n",
    "from sklearn.neighbors import NearestNeighbors\n",
    "from sklearn import mixture as mx\n",
    "from scipy.cluster import hierarchy as hc\n",
    "from sklearn import ensemble as en\n",
    "\n",
    "from plotly import express as px"
   ]
  },
  {
   "cell_type": "markdown",
   "metadata": {},
   "source": [
    "## 0.3 Load dataset"
   ]
  },
  {
   "cell_type": "code",
   "execution_count": 8,
   "metadata": {},
   "outputs": [],
   "source": [
    "# load data\n",
    "df_raw = pd.read_csv(r\"C:\\Users\\diego\\OneDrive\\Área de Trabalho\\projects\\insiders_clustering\\data\\Ecommerce.csv\", encoding='unicode_escape')\n",
    "\n",
    "# drop extra column\n",
    "df_raw = df_raw.drop(columns=['Unnamed: 8'], axis=1)\n",
    "\n"
   ]
  },
  {
   "cell_type": "markdown",
   "metadata": {},
   "source": [
    "# 1.0 DATA DESCRIPTION"
   ]
  },
  {
   "cell_type": "code",
   "execution_count": 9,
   "metadata": {},
   "outputs": [],
   "source": [
    "df1 = df_raw.copy()"
   ]
  },
  {
   "cell_type": "code",
   "execution_count": 10,
   "metadata": {},
   "outputs": [
    {
     "data": {
      "text/html": [
       "<div>\n",
       "<style scoped>\n",
       "    .dataframe tbody tr th:only-of-type {\n",
       "        vertical-align: middle;\n",
       "    }\n",
       "\n",
       "    .dataframe tbody tr th {\n",
       "        vertical-align: top;\n",
       "    }\n",
       "\n",
       "    .dataframe thead th {\n",
       "        text-align: right;\n",
       "    }\n",
       "</style>\n",
       "<table border=\"1\" class=\"dataframe\">\n",
       "  <thead>\n",
       "    <tr style=\"text-align: right;\">\n",
       "      <th></th>\n",
       "      <th>InvoiceNo</th>\n",
       "      <th>StockCode</th>\n",
       "      <th>Description</th>\n",
       "      <th>Quantity</th>\n",
       "      <th>InvoiceDate</th>\n",
       "      <th>UnitPrice</th>\n",
       "      <th>CustomerID</th>\n",
       "      <th>Country</th>\n",
       "    </tr>\n",
       "  </thead>\n",
       "  <tbody>\n",
       "    <tr>\n",
       "      <th>0</th>\n",
       "      <td>536365</td>\n",
       "      <td>85123A</td>\n",
       "      <td>WHITE HANGING HEART T-LIGHT HOLDER</td>\n",
       "      <td>6</td>\n",
       "      <td>29-Nov-16</td>\n",
       "      <td>2.55</td>\n",
       "      <td>17850.0</td>\n",
       "      <td>United Kingdom</td>\n",
       "    </tr>\n",
       "    <tr>\n",
       "      <th>1</th>\n",
       "      <td>536365</td>\n",
       "      <td>71053</td>\n",
       "      <td>WHITE METAL LANTERN</td>\n",
       "      <td>6</td>\n",
       "      <td>29-Nov-16</td>\n",
       "      <td>3.39</td>\n",
       "      <td>17850.0</td>\n",
       "      <td>United Kingdom</td>\n",
       "    </tr>\n",
       "    <tr>\n",
       "      <th>2</th>\n",
       "      <td>536365</td>\n",
       "      <td>84406B</td>\n",
       "      <td>CREAM CUPID HEARTS COAT HANGER</td>\n",
       "      <td>8</td>\n",
       "      <td>29-Nov-16</td>\n",
       "      <td>2.75</td>\n",
       "      <td>17850.0</td>\n",
       "      <td>United Kingdom</td>\n",
       "    </tr>\n",
       "    <tr>\n",
       "      <th>3</th>\n",
       "      <td>536365</td>\n",
       "      <td>84029G</td>\n",
       "      <td>KNITTED UNION FLAG HOT WATER BOTTLE</td>\n",
       "      <td>6</td>\n",
       "      <td>29-Nov-16</td>\n",
       "      <td>3.39</td>\n",
       "      <td>17850.0</td>\n",
       "      <td>United Kingdom</td>\n",
       "    </tr>\n",
       "    <tr>\n",
       "      <th>4</th>\n",
       "      <td>536365</td>\n",
       "      <td>84029E</td>\n",
       "      <td>RED WOOLLY HOTTIE WHITE HEART.</td>\n",
       "      <td>6</td>\n",
       "      <td>29-Nov-16</td>\n",
       "      <td>3.39</td>\n",
       "      <td>17850.0</td>\n",
       "      <td>United Kingdom</td>\n",
       "    </tr>\n",
       "  </tbody>\n",
       "</table>\n",
       "</div>"
      ],
      "text/plain": [
       "  InvoiceNo StockCode                          Description  Quantity  \\\n",
       "0    536365    85123A   WHITE HANGING HEART T-LIGHT HOLDER         6   \n",
       "1    536365     71053                  WHITE METAL LANTERN         6   \n",
       "2    536365    84406B       CREAM CUPID HEARTS COAT HANGER         8   \n",
       "3    536365    84029G  KNITTED UNION FLAG HOT WATER BOTTLE         6   \n",
       "4    536365    84029E       RED WOOLLY HOTTIE WHITE HEART.         6   \n",
       "\n",
       "  InvoiceDate  UnitPrice  CustomerID         Country  \n",
       "0   29-Nov-16       2.55     17850.0  United Kingdom  \n",
       "1   29-Nov-16       3.39     17850.0  United Kingdom  \n",
       "2   29-Nov-16       2.75     17850.0  United Kingdom  \n",
       "3   29-Nov-16       3.39     17850.0  United Kingdom  \n",
       "4   29-Nov-16       3.39     17850.0  United Kingdom  "
      ]
     },
     "execution_count": 10,
     "metadata": {},
     "output_type": "execute_result"
    }
   ],
   "source": [
    "df1.head()"
   ]
  },
  {
   "cell_type": "markdown",
   "metadata": {},
   "source": [
    "## 1.1 Rename columns"
   ]
  },
  {
   "cell_type": "code",
   "execution_count": 11,
   "metadata": {},
   "outputs": [],
   "source": [
    "cols_new = ['invoice_no', 'stock_code', 'description', 'quantity', 'invoice_date',\n",
    "       'unit_price', 'customer_id', 'country']\n",
    "df1.columns = cols_new"
   ]
  },
  {
   "cell_type": "markdown",
   "metadata": {},
   "source": [
    "## 1.2 Data dimensions"
   ]
  },
  {
   "cell_type": "code",
   "execution_count": 12,
   "metadata": {},
   "outputs": [
    {
     "name": "stdout",
     "output_type": "stream",
     "text": [
      "Number of rows: 541909\n",
      "Number of columns: 8\n"
     ]
    }
   ],
   "source": [
    "print('Number of rows: {}'.format(df1.shape[0]))\n",
    "print('Number of columns: {}'.format(df1.shape[1]))"
   ]
  },
  {
   "cell_type": "markdown",
   "metadata": {},
   "source": [
    "## 1.3 Data types"
   ]
  },
  {
   "cell_type": "code",
   "execution_count": 13,
   "metadata": {},
   "outputs": [
    {
     "data": {
      "text/plain": [
       "invoice_no       object\n",
       "stock_code       object\n",
       "description      object\n",
       "quantity          int64\n",
       "invoice_date     object\n",
       "unit_price      float64\n",
       "customer_id     float64\n",
       "country          object\n",
       "dtype: object"
      ]
     },
     "execution_count": 13,
     "metadata": {},
     "output_type": "execute_result"
    }
   ],
   "source": [
    "df1.dtypes"
   ]
  },
  {
   "cell_type": "markdown",
   "metadata": {},
   "source": [
    "## 1.4 Check NA"
   ]
  },
  {
   "cell_type": "code",
   "execution_count": 14,
   "metadata": {},
   "outputs": [
    {
     "data": {
      "text/plain": [
       "invoice_no           0\n",
       "stock_code           0\n",
       "description       1454\n",
       "quantity             0\n",
       "invoice_date         0\n",
       "unit_price           0\n",
       "customer_id     135080\n",
       "country              0\n",
       "dtype: int64"
      ]
     },
     "execution_count": 14,
     "metadata": {},
     "output_type": "execute_result"
    }
   ],
   "source": [
    "df1.isna().sum()"
   ]
  },
  {
   "cell_type": "markdown",
   "metadata": {},
   "source": [
    "## 1.5 Replace NA"
   ]
  },
  {
   "cell_type": "code",
   "execution_count": 15,
   "metadata": {},
   "outputs": [],
   "source": [
    "# spliting NA\n",
    "df_missing = df1.loc[df1['customer_id'].isna(), :]\n",
    "df_not_missing = df1.loc[~df1['customer_id'].isna(), :]"
   ]
  },
  {
   "cell_type": "code",
   "execution_count": 16,
   "metadata": {},
   "outputs": [],
   "source": [
    "# create reference\n",
    "df_backup = pd.DataFrame(df_missing['invoice_no'].drop_duplicates())\n",
    "df_backup['customer_id'] = np.arange(19000, 19000+len(df_backup), 1)\n",
    "\n",
    "# merge original with reference dataframe\n",
    "df1 = pd.merge(df1, df_backup, how='left', on='invoice_no')\n",
    "\n",
    "# coalesce\n",
    "df1['customer_id'] = df1['customer_id_x'].combine_first(df1['customer_id_y'])\n",
    "\n",
    "# drop extra columns\n",
    "df1 = df1.drop(columns=['customer_id_x', 'customer_id_y'])"
   ]
  },
  {
   "cell_type": "code",
   "execution_count": 17,
   "metadata": {},
   "outputs": [
    {
     "data": {
      "text/plain": [
       "invoice_no         0\n",
       "stock_code         0\n",
       "description     1454\n",
       "quantity           0\n",
       "invoice_date       0\n",
       "unit_price         0\n",
       "country            0\n",
       "customer_id        0\n",
       "dtype: int64"
      ]
     },
     "execution_count": 17,
     "metadata": {},
     "output_type": "execute_result"
    }
   ],
   "source": [
    "df1.isna().sum()"
   ]
  },
  {
   "cell_type": "markdown",
   "metadata": {},
   "source": [
    "## 1.6 Change dtypes"
   ]
  },
  {
   "cell_type": "code",
   "execution_count": 18,
   "metadata": {},
   "outputs": [],
   "source": [
    "# invoice data\n",
    "df1['invoice_date'] = pd.to_datetime(df1['invoice_date'], format = '%d-%b-%y')\n",
    "\n",
    "# customer id\n",
    "df1['customer_id'] = df1['customer_id'].astype(np.int64)"
   ]
  },
  {
   "cell_type": "markdown",
   "metadata": {},
   "source": [
    "## 1.7 Descriptive statistics"
   ]
  },
  {
   "cell_type": "code",
   "execution_count": 19,
   "metadata": {},
   "outputs": [],
   "source": [
    "num_attributes = df1.select_dtypes(include=['int64', 'float64'])\n",
    "cat_attributes = df1.select_dtypes(exclude=['int64', 'float64', 'datetime64[ns]'])"
   ]
  },
  {
   "cell_type": "markdown",
   "metadata": {},
   "source": [
    "### 1.7.1 Numerical attributes"
   ]
  },
  {
   "cell_type": "code",
   "execution_count": 20,
   "metadata": {},
   "outputs": [
    {
     "data": {
      "text/html": [
       "<div>\n",
       "<style scoped>\n",
       "    .dataframe tbody tr th:only-of-type {\n",
       "        vertical-align: middle;\n",
       "    }\n",
       "\n",
       "    .dataframe tbody tr th {\n",
       "        vertical-align: top;\n",
       "    }\n",
       "\n",
       "    .dataframe thead th {\n",
       "        text-align: right;\n",
       "    }\n",
       "</style>\n",
       "<table border=\"1\" class=\"dataframe\">\n",
       "  <thead>\n",
       "    <tr style=\"text-align: right;\">\n",
       "      <th></th>\n",
       "      <th>mean</th>\n",
       "      <th>median</th>\n",
       "      <th>std</th>\n",
       "      <th>min</th>\n",
       "      <th>max</th>\n",
       "      <th>skew</th>\n",
       "      <th>kurtosis</th>\n",
       "    </tr>\n",
       "  </thead>\n",
       "  <tbody>\n",
       "    <tr>\n",
       "      <th>quantity</th>\n",
       "      <td>9.552250</td>\n",
       "      <td>3.00</td>\n",
       "      <td>218.081158</td>\n",
       "      <td>-80995.00</td>\n",
       "      <td>80995.0</td>\n",
       "      <td>-0.264076</td>\n",
       "      <td>119769.160031</td>\n",
       "    </tr>\n",
       "    <tr>\n",
       "      <th>unit_price</th>\n",
       "      <td>4.611114</td>\n",
       "      <td>2.08</td>\n",
       "      <td>96.759853</td>\n",
       "      <td>-11062.06</td>\n",
       "      <td>38970.0</td>\n",
       "      <td>186.506972</td>\n",
       "      <td>59005.719097</td>\n",
       "    </tr>\n",
       "    <tr>\n",
       "      <th>customer_id</th>\n",
       "      <td>16688.840453</td>\n",
       "      <td>16249.00</td>\n",
       "      <td>2911.411352</td>\n",
       "      <td>12346.00</td>\n",
       "      <td>22709.0</td>\n",
       "      <td>0.487449</td>\n",
       "      <td>-0.804287</td>\n",
       "    </tr>\n",
       "  </tbody>\n",
       "</table>\n",
       "</div>"
      ],
      "text/plain": [
       "                     mean    median          std       min      max  \\\n",
       "quantity         9.552250      3.00   218.081158 -80995.00  80995.0   \n",
       "unit_price       4.611114      2.08    96.759853 -11062.06  38970.0   \n",
       "customer_id  16688.840453  16249.00  2911.411352  12346.00  22709.0   \n",
       "\n",
       "                   skew       kurtosis  \n",
       "quantity      -0.264076  119769.160031  \n",
       "unit_price   186.506972   59005.719097  \n",
       "customer_id    0.487449      -0.804287  "
      ]
     },
     "execution_count": 20,
     "metadata": {},
     "output_type": "execute_result"
    }
   ],
   "source": [
    "num_attributes.agg([\"mean\",\"median\",\"std\",\"min\",\"max\",\"skew\",\"kurtosis\"]).T\n"
   ]
  },
  {
   "cell_type": "markdown",
   "metadata": {},
   "source": [
    "### 1.7.2 Categorical attributes"
   ]
  },
  {
   "cell_type": "markdown",
   "metadata": {},
   "source": [
    "### Invoice No"
   ]
  },
  {
   "cell_type": "code",
   "execution_count": 21,
   "metadata": {},
   "outputs": [
    {
     "name": "stdout",
     "output_type": "stream",
     "text": [
      "Total number of invoices with letters: 9291\n",
      "Total number of negatives quantities: 9288\n"
     ]
    }
   ],
   "source": [
    "# df1['invoice_no'].astype(np.int64) - problem: invoice contains numbers and words\n",
    "\n",
    "# identification\n",
    "df_letter_invoices = df1.loc[df1['invoice_no'].apply(lambda x: bool(re.search('[^0-9]+', x))),:]\n",
    "df_letter_invoices.head()\n",
    "\n",
    "print('Total number of invoices with letters: {}'.format(len(df_letter_invoices)))\n",
    "print('Total number of negatives quantities: {}'.format(len(df_letter_invoices[df_letter_invoices['quantity'] < 0])))"
   ]
  },
  {
   "cell_type": "markdown",
   "metadata": {},
   "source": [
    "### Stock Code"
   ]
  },
  {
   "cell_type": "code",
   "execution_count": 22,
   "metadata": {},
   "outputs": [
    {
     "data": {
      "text/plain": [
       "array(['POST', 'D', 'DOT', 'M', 'S', 'AMAZONFEE', 'm', 'DCGSSBOY',\n",
       "       'DCGSSGIRL', 'PADS', 'B', 'CRUK'], dtype=object)"
      ]
     },
     "execution_count": 22,
     "metadata": {},
     "output_type": "execute_result"
    }
   ],
   "source": [
    "df1.loc[df1['stock_code'].apply(lambda x: bool(re.search('^[a-zA-Z]+$', x))), 'stock_code'].unique()"
   ]
  },
  {
   "cell_type": "markdown",
   "metadata": {},
   "source": [
    "### Description"
   ]
  },
  {
   "cell_type": "code",
   "execution_count": 23,
   "metadata": {},
   "outputs": [
    {
     "data": {
      "text/plain": [
       "0     WHITE HANGING HEART T-LIGHT HOLDER\n",
       "1                    WHITE METAL LANTERN\n",
       "2         CREAM CUPID HEARTS COAT HANGER\n",
       "3    KNITTED UNION FLAG HOT WATER BOTTLE\n",
       "4         RED WOOLLY HOTTIE WHITE HEART.\n",
       "Name: description, dtype: object"
      ]
     },
     "execution_count": 23,
     "metadata": {},
     "output_type": "execute_result"
    }
   ],
   "source": [
    "df1['description'].head()"
   ]
  },
  {
   "cell_type": "markdown",
   "metadata": {},
   "source": [
    "Description will be deleted from data since it does not give any perceptive feature to the problem"
   ]
  },
  {
   "cell_type": "markdown",
   "metadata": {},
   "source": [
    "### Country"
   ]
  },
  {
   "cell_type": "code",
   "execution_count": 24,
   "metadata": {},
   "outputs": [
    {
     "data": {
      "text/plain": [
       "array(['United Kingdom', 'France', 'Australia', 'Netherlands', 'Germany',\n",
       "       'Norway', 'EIRE', 'Switzerland', 'Spain', 'Poland', 'Portugal',\n",
       "       'Italy', 'Belgium', 'Lithuania', 'Japan', 'Iceland',\n",
       "       'Channel Islands', 'Denmark', 'Cyprus', 'Sweden', 'Austria',\n",
       "       'Israel', 'Finland', 'Bahrain', 'Greece', 'Hong Kong', 'Singapore',\n",
       "       'Lebanon', 'United Arab Emirates', 'Saudi Arabia',\n",
       "       'Czech Republic', 'Canada', 'Unspecified', 'Brazil', 'USA',\n",
       "       'European Community', 'Malta', 'RSA'], dtype=object)"
      ]
     },
     "execution_count": 24,
     "metadata": {},
     "output_type": "execute_result"
    }
   ],
   "source": [
    "df1['country'].unique()"
   ]
  },
  {
   "cell_type": "code",
   "execution_count": 25,
   "metadata": {},
   "outputs": [
    {
     "data": {
      "text/html": [
       "<div>\n",
       "<style scoped>\n",
       "    .dataframe tbody tr th:only-of-type {\n",
       "        vertical-align: middle;\n",
       "    }\n",
       "\n",
       "    .dataframe tbody tr th {\n",
       "        vertical-align: top;\n",
       "    }\n",
       "\n",
       "    .dataframe thead th {\n",
       "        text-align: right;\n",
       "    }\n",
       "</style>\n",
       "<table border=\"1\" class=\"dataframe\">\n",
       "  <thead>\n",
       "    <tr style=\"text-align: right;\">\n",
       "      <th></th>\n",
       "      <th>country</th>\n",
       "      <th>customer_id</th>\n",
       "    </tr>\n",
       "  </thead>\n",
       "  <tbody>\n",
       "    <tr>\n",
       "      <th>36</th>\n",
       "      <td>United Kingdom</td>\n",
       "      <td>7587</td>\n",
       "    </tr>\n",
       "    <tr>\n",
       "      <th>14</th>\n",
       "      <td>Germany</td>\n",
       "      <td>95</td>\n",
       "    </tr>\n",
       "    <tr>\n",
       "      <th>13</th>\n",
       "      <td>France</td>\n",
       "      <td>90</td>\n",
       "    </tr>\n",
       "    <tr>\n",
       "      <th>10</th>\n",
       "      <td>EIRE</td>\n",
       "      <td>44</td>\n",
       "    </tr>\n",
       "    <tr>\n",
       "      <th>31</th>\n",
       "      <td>Spain</td>\n",
       "      <td>31</td>\n",
       "    </tr>\n",
       "  </tbody>\n",
       "</table>\n",
       "</div>"
      ],
      "text/plain": [
       "           country  customer_id\n",
       "36  United Kingdom         7587\n",
       "14         Germany           95\n",
       "13          France           90\n",
       "10            EIRE           44\n",
       "31           Spain           31"
      ]
     },
     "execution_count": 25,
     "metadata": {},
     "output_type": "execute_result"
    }
   ],
   "source": [
    "df1[['customer_id', 'country']].drop_duplicates().groupby('country').count().reset_index().sort_values('customer_id', ascending=False).head()"
   ]
  },
  {
   "cell_type": "markdown",
   "metadata": {},
   "source": [
    "# 2.0 VARIABLES FILTERING"
   ]
  },
  {
   "cell_type": "code",
   "execution_count": 26,
   "metadata": {},
   "outputs": [],
   "source": [
    "df2 = df1.copy()"
   ]
  },
  {
   "cell_type": "code",
   "execution_count": 27,
   "metadata": {},
   "outputs": [],
   "source": [
    "# ==== Numerical Attributes ====\n",
    "# unit price > 0\n",
    "df2= df2.loc[df2['unit_price'] >= 0.04, :]\n",
    "\n",
    "# ==== Categorical Attributes ====\n",
    "# stock code != ['POST', 'D', 'M', 'PADS', 'DOT', 'CRUK']\n",
    "df2 = df2.loc[~df2['stock_code'].isin(['POST', 'D', 'DOT', 'M', 'S', 'AMAZONFEE', 'm', 'DCGSSBOY',\n",
    "       'DCGSSGIRL', 'PADS', 'B', 'CRUK'])]\n",
    "\n",
    "# description\n",
    "df2 = df2.drop(columns='description', axis=1)\n",
    "\n",
    "# map\n",
    "df2 = df2[~df2['country'].isin(['European Community', 'Unspecified'])]\n",
    "\n",
    "# bad users\n",
    "df2 = df2[~df2['customer_id'].isin([16446])]\n",
    "\n",
    "# quantity - Negative numbers will be assumed as product returns\n",
    "df2_returns = df2.loc[df2['quantity'] <= 0, :]\n",
    "df2_purchase = df2.loc[df2['quantity'] > 0, :]\n"
   ]
  },
  {
   "cell_type": "markdown",
   "metadata": {},
   "source": [
    "# 3.0 FEATURE ENGINEERING"
   ]
  },
  {
   "cell_type": "code",
   "execution_count": 28,
   "metadata": {},
   "outputs": [],
   "source": [
    "df3 = df2.copy()"
   ]
  },
  {
   "cell_type": "markdown",
   "metadata": {},
   "source": [
    "## 3.1 Feature creation"
   ]
  },
  {
   "cell_type": "code",
   "execution_count": 29,
   "metadata": {},
   "outputs": [],
   "source": [
    "# data reference\n",
    "df_ref = df3.drop(['invoice_no', 'stock_code', \n",
    "                  'quantity', 'invoice_date', 'unit_price', 'country'], axis=1).drop_duplicates(ignore_index=True)"
   ]
  },
  {
   "cell_type": "markdown",
   "metadata": {},
   "source": [
    "### 3.1.1 Gross Revenue"
   ]
  },
  {
   "cell_type": "code",
   "execution_count": 30,
   "metadata": {},
   "outputs": [
    {
     "name": "stderr",
     "output_type": "stream",
     "text": [
      "C:\\Users\\diego\\AppData\\Local\\Temp\\ipykernel_9672\\59910178.py:2: SettingWithCopyWarning: \n",
      "A value is trying to be set on a copy of a slice from a DataFrame.\n",
      "Try using .loc[row_indexer,col_indexer] = value instead\n",
      "\n",
      "See the caveats in the documentation: https://pandas.pydata.org/pandas-docs/stable/user_guide/indexing.html#returning-a-view-versus-a-copy\n",
      "  df2_purchase['gross_revenue'] = df2_purchase.apply(lambda x: x['quantity'] * x['unit_price'], axis = 1)\n"
     ]
    },
    {
     "data": {
      "text/plain": [
       "customer_id       0\n",
       "gross_revenue    91\n",
       "dtype: int64"
      ]
     },
     "execution_count": 30,
     "metadata": {},
     "output_type": "execute_result"
    }
   ],
   "source": [
    "# Gross Revenue: quantity * price\n",
    "df2_purchase['gross_revenue'] = df2_purchase.apply(lambda x: x['quantity'] * x['unit_price'], axis = 1)\n",
    "\n",
    "# Monetary\n",
    "df_monetary = df2_purchase[[ 'customer_id', 'gross_revenue']].groupby('customer_id').sum().reset_index()\n",
    "df_ref = pd.merge(df_ref, df_monetary, how='left', on='customer_id')\n",
    "df_ref.isna().sum()\n"
   ]
  },
  {
   "cell_type": "markdown",
   "metadata": {},
   "source": [
    "### 3.1.2 Recency"
   ]
  },
  {
   "cell_type": "code",
   "execution_count": 31,
   "metadata": {},
   "outputs": [
    {
     "data": {
      "text/plain": [
       "customer_id       0\n",
       "gross_revenue    91\n",
       "recency_days     91\n",
       "dtype: int64"
      ]
     },
     "execution_count": 31,
     "metadata": {},
     "output_type": "execute_result"
    }
   ],
   "source": [
    "# Recency - Last day purchase\n",
    "\n",
    "max_invoice_date = df2_purchase['invoice_date'].max()\n",
    "\n",
    "df_recency = df2_purchase.loc[:, ['customer_id','invoice_date']].groupby('customer_id').max().reset_index()\n",
    "df_recency['recency_days'] = df_recency['invoice_date'].apply(lambda x:  max_invoice_date - x).dt.days\n",
    "df_recency = df_recency[['customer_id', 'recency_days']].copy()\n",
    "df_ref = pd.merge(df_ref, df_recency, on='customer_id', how='left')\n",
    "df_ref.isna().sum()\n"
   ]
  },
  {
   "cell_type": "markdown",
   "metadata": {},
   "source": [
    "### 3.1.4 Quantity of Items Purchased"
   ]
  },
  {
   "cell_type": "code",
   "execution_count": 32,
   "metadata": {},
   "outputs": [
    {
     "data": {
      "text/plain": [
       "customer_id        0\n",
       "gross_revenue     91\n",
       "recency_days      91\n",
       "total_quantity    91\n",
       "dtype: int64"
      ]
     },
     "execution_count": 32,
     "metadata": {},
     "output_type": "execute_result"
    }
   ],
   "source": [
    "# total quantity of procucts purchased by customer\n",
    "df_prod = df2_purchase.loc[:, ['customer_id','quantity']].groupby('customer_id').sum().reset_index()\n",
    "df_ref = pd.merge(df_ref, df_prod, on='customer_id', how='left')\n",
    "df_ref = df_ref.rename(columns={'quantity': 'total_quantity'})\n",
    "\n",
    "df_ref.isna().sum()\n"
   ]
  },
  {
   "cell_type": "code",
   "execution_count": 33,
   "metadata": {},
   "outputs": [],
   "source": [
    "df_ref1 = df_ref.copy()"
   ]
  },
  {
   "cell_type": "markdown",
   "metadata": {},
   "source": [
    "### 3.1.7 Frequency"
   ]
  },
  {
   "cell_type": "code",
   "execution_count": 34,
   "metadata": {},
   "outputs": [],
   "source": [
    "df_aux = ( df2_purchase[['customer_id', 'invoice_date', 'invoice_no']].drop_duplicates()\n",
    "                                                             .groupby('customer_id')\n",
    "                                                             .agg(max_=('invoice_date', 'max'), \n",
    "                                                                  min_=('invoice_date', 'min'),\n",
    "                                                                  days_=('invoice_date', lambda x: ((x.max() - x.min()).days) + 1),\n",
    "                                                                  buy_=('invoice_no', 'count')).reset_index())\n",
    "\n",
    "# frequency\n",
    "df_aux['frequency'] = df_aux[['buy_', 'days_']].apply(lambda x: x['buy_']/x['days_'] if x['days_'] != 0 else 0, axis=1)\n",
    "\n",
    "df_aux.head()\n",
    "\n",
    "# merge\n",
    "df_ref1 = pd.merge(df_ref1, df_aux[['customer_id', 'frequency']], on='customer_id', how='left')"
   ]
  },
  {
   "cell_type": "code",
   "execution_count": 35,
   "metadata": {},
   "outputs": [
    {
     "data": {
      "text/plain": [
       "customer_id        0\n",
       "gross_revenue     91\n",
       "recency_days      91\n",
       "total_quantity    91\n",
       "frequency         91\n",
       "dtype: int64"
      ]
     },
     "execution_count": 35,
     "metadata": {},
     "output_type": "execute_result"
    }
   ],
   "source": [
    "df_ref1.isna().sum()"
   ]
  },
  {
   "cell_type": "markdown",
   "metadata": {},
   "source": [
    "### 3.1.8 Returns"
   ]
  },
  {
   "cell_type": "code",
   "execution_count": 36,
   "metadata": {},
   "outputs": [
    {
     "data": {
      "text/plain": [
       "customer_id        0\n",
       "gross_revenue     91\n",
       "recency_days      91\n",
       "total_quantity    91\n",
       "frequency         91\n",
       "qty_returns        0\n",
       "dtype: int64"
      ]
     },
     "execution_count": 36,
     "metadata": {},
     "output_type": "execute_result"
    }
   ],
   "source": [
    "df_returns = df2_returns[['customer_id', 'quantity']].groupby('customer_id').sum().reset_index().rename(columns={'quantity':'qty_returns'})\n",
    "df_returns['qty_returns'] = df_returns['qty_returns']*(-1)\n",
    "\n",
    "df_ref1 = pd.merge(df_ref1, df_returns, on='customer_id', how='left')\n",
    "df_ref1.loc[df_ref1['qty_returns'].isna(), 'qty_returns'] = 0\n",
    "df_ref1.isna().sum()"
   ]
  },
  {
   "cell_type": "markdown",
   "metadata": {},
   "source": [
    "### 3.1.9 Basket Size"
   ]
  },
  {
   "cell_type": "code",
   "execution_count": 37,
   "metadata": {},
   "outputs": [
    {
     "data": {
      "text/plain": [
       "customer_id         0\n",
       "gross_revenue      91\n",
       "recency_days       91\n",
       "total_quantity     91\n",
       "frequency          91\n",
       "qty_returns         0\n",
       "avg_basket_size    91\n",
       "dtype: int64"
      ]
     },
     "execution_count": 37,
     "metadata": {},
     "output_type": "execute_result"
    }
   ],
   "source": [
    "df_aux = (df2_purchase.loc[:, ['customer_id', 'invoice_no', 'quantity']].groupby('customer_id')\n",
    "                                                        .agg(n_purchase=('invoice_no', 'nunique'),\n",
    "                                                             n_products=('quantity', 'sum'))\n",
    "                                                        .reset_index()  )\n",
    "\n",
    "# calculation\n",
    "df_aux['avg_basket_size'] = df_aux['n_products']/df_aux['n_purchase']\n",
    "\n",
    "# merge\n",
    "df_ref1 = pd.merge(df_ref1, df_aux[['customer_id', 'avg_basket_size']], how='left', on='customer_id')\n",
    "\n",
    "df_ref1.isna().sum()"
   ]
  },
  {
   "cell_type": "code",
   "execution_count": 38,
   "metadata": {},
   "outputs": [
    {
     "data": {
      "text/html": [
       "<div>\n",
       "<style scoped>\n",
       "    .dataframe tbody tr th:only-of-type {\n",
       "        vertical-align: middle;\n",
       "    }\n",
       "\n",
       "    .dataframe tbody tr th {\n",
       "        vertical-align: top;\n",
       "    }\n",
       "\n",
       "    .dataframe thead th {\n",
       "        text-align: right;\n",
       "    }\n",
       "</style>\n",
       "<table border=\"1\" class=\"dataframe\">\n",
       "  <thead>\n",
       "    <tr style=\"text-align: right;\">\n",
       "      <th></th>\n",
       "      <th>customer_id</th>\n",
       "      <th>gross_revenue</th>\n",
       "      <th>recency_days</th>\n",
       "      <th>total_quantity</th>\n",
       "      <th>frequency</th>\n",
       "      <th>qty_returns</th>\n",
       "      <th>avg_basket_size</th>\n",
       "    </tr>\n",
       "  </thead>\n",
       "  <tbody>\n",
       "    <tr>\n",
       "      <th>0</th>\n",
       "      <td>17850</td>\n",
       "      <td>5391.21</td>\n",
       "      <td>372.0</td>\n",
       "      <td>1733.0</td>\n",
       "      <td>17.000000</td>\n",
       "      <td>40.0</td>\n",
       "      <td>50.970588</td>\n",
       "    </tr>\n",
       "    <tr>\n",
       "      <th>1</th>\n",
       "      <td>13047</td>\n",
       "      <td>3232.59</td>\n",
       "      <td>56.0</td>\n",
       "      <td>1390.0</td>\n",
       "      <td>0.028302</td>\n",
       "      <td>35.0</td>\n",
       "      <td>154.444444</td>\n",
       "    </tr>\n",
       "    <tr>\n",
       "      <th>2</th>\n",
       "      <td>12583</td>\n",
       "      <td>6705.38</td>\n",
       "      <td>2.0</td>\n",
       "      <td>5028.0</td>\n",
       "      <td>0.040323</td>\n",
       "      <td>50.0</td>\n",
       "      <td>335.200000</td>\n",
       "    </tr>\n",
       "    <tr>\n",
       "      <th>3</th>\n",
       "      <td>13748</td>\n",
       "      <td>948.25</td>\n",
       "      <td>95.0</td>\n",
       "      <td>439.0</td>\n",
       "      <td>0.017921</td>\n",
       "      <td>0.0</td>\n",
       "      <td>87.800000</td>\n",
       "    </tr>\n",
       "    <tr>\n",
       "      <th>4</th>\n",
       "      <td>15100</td>\n",
       "      <td>876.00</td>\n",
       "      <td>333.0</td>\n",
       "      <td>80.0</td>\n",
       "      <td>0.073171</td>\n",
       "      <td>22.0</td>\n",
       "      <td>26.666667</td>\n",
       "    </tr>\n",
       "  </tbody>\n",
       "</table>\n",
       "</div>"
      ],
      "text/plain": [
       "   customer_id  gross_revenue  recency_days  total_quantity  frequency  \\\n",
       "0        17850        5391.21         372.0          1733.0  17.000000   \n",
       "1        13047        3232.59          56.0          1390.0   0.028302   \n",
       "2        12583        6705.38           2.0          5028.0   0.040323   \n",
       "3        13748         948.25          95.0           439.0   0.017921   \n",
       "4        15100         876.00         333.0            80.0   0.073171   \n",
       "\n",
       "   qty_returns  avg_basket_size  \n",
       "0         40.0        50.970588  \n",
       "1         35.0       154.444444  \n",
       "2         50.0       335.200000  \n",
       "3          0.0        87.800000  \n",
       "4         22.0        26.666667  "
      ]
     },
     "execution_count": 38,
     "metadata": {},
     "output_type": "execute_result"
    }
   ],
   "source": [
    "df_ref1.head()"
   ]
  },
  {
   "cell_type": "markdown",
   "metadata": {},
   "source": [
    "# 4.0 EXPLORATORY DATA ANALYSIS"
   ]
  },
  {
   "cell_type": "code",
   "execution_count": 39,
   "metadata": {},
   "outputs": [
    {
     "data": {
      "text/plain": [
       "customer_id        0\n",
       "gross_revenue      0\n",
       "recency_days       0\n",
       "total_quantity     0\n",
       "frequency          0\n",
       "qty_returns        0\n",
       "avg_basket_size    0\n",
       "dtype: int64"
      ]
     },
     "execution_count": 39,
     "metadata": {},
     "output_type": "execute_result"
    }
   ],
   "source": [
    "df4 = df_ref1.copy()\n",
    "df4 = df4.dropna()\n",
    "df4.isna().sum()"
   ]
  },
  {
   "cell_type": "markdown",
   "metadata": {},
   "source": [
    "## 4.3 Embedding study"
   ]
  },
  {
   "cell_type": "code",
   "execution_count": 42,
   "metadata": {},
   "outputs": [],
   "source": [
    "# df43 = df4.drop(columns=['customer_id'], axis=1).copy()\n",
    "\n",
    "cols_selected = ['customer_id', 'gross_revenue', 'recency_days', 'total_quantity', 'qty_returns', 'frequency', 'avg_basket_size']\n",
    "df43 = df4[cols_selected].copy() "
   ]
  },
  {
   "cell_type": "code",
   "execution_count": 43,
   "metadata": {},
   "outputs": [],
   "source": [
    "mm = pp.MinMaxScaler()\n",
    "\n",
    "df43['gross_revenue']      = mm.fit_transform(df43[['gross_revenue']])\n",
    "df43['recency_days']       = mm.fit_transform(df43[['recency_days']])\n",
    "df43['total_quantity']     = mm.fit_transform(df43[['total_quantity']])\n",
    "df43['frequency']          = mm.fit_transform(df43[['frequency']])\n",
    "df43['qty_returns']        = mm.fit_transform(df43[['qty_returns']])\n",
    "df43['avg_basket_size']        = mm.fit_transform(df43[['avg_basket_size']])\n",
    "\n"
   ]
  },
  {
   "cell_type": "code",
   "execution_count": 44,
   "metadata": {},
   "outputs": [],
   "source": [
    "X = df43.copy()"
   ]
  },
  {
   "cell_type": "markdown",
   "metadata": {},
   "source": [
    "### 4.3.4 Tree-Based Embedding"
   ]
  },
  {
   "cell_type": "markdown",
   "metadata": {},
   "source": [
    "Tree-Based Embedding is a tool used to organize cluster with a target variable that, in this case, is the **Gross Revenue**.\n",
    "\n",
    "It is a great method to create embedding for clustering when may explain the cluster's proximity but not the points similarity between them"
   ]
  },
  {
   "cell_type": "code",
   "execution_count": 48,
   "metadata": {},
   "outputs": [],
   "source": [
    "# training dataset\n",
    "\n",
    "X = df43.drop(columns=['customer_id', 'gross_revenue'], axis=1)\n",
    "y = df43['gross_revenue']\n",
    "\n",
    "# model definition\n",
    "rf_model = en.RandomForestRegressor(n_estimators=100, random_state=42)\n",
    "\n",
    "# model training\n",
    "rf_model.fit(X, y)\n",
    "\n",
    "# Leaf\n",
    "df_leaf = pd.DataFrame(rf_model.apply(X))\n",
    "\n",
    "# dataframe Leaf"
   ]
  },
  {
   "cell_type": "code",
   "execution_count": 49,
   "metadata": {},
   "outputs": [
    {
     "data": {
      "text/plain": [
       "<AxesSubplot:xlabel='embedding_x', ylabel='embedding_y'>"
      ]
     },
     "execution_count": 49,
     "metadata": {},
     "output_type": "execute_result"
    },
    {
     "data": {
      "image/png": "[encoded data removed]",
      "text/plain": [
       "<Figure size 432x288 with 1 Axes>"
      ]
     },
     "metadata": {
      "needs_background": "light"
     },
     "output_type": "display_data"
    }
   ],
   "source": [
    "# Reducer dimensionality\n",
    "reducer = umap.UMAP(n_neighbors=80, random_state=42)\n",
    "embedding = reducer.fit_transform(df_leaf)\n",
    "\n",
    "# embedding\n",
    "df_tree = pd.DataFrame()\n",
    "df_tree['embedding_x'] = embedding[:, 0]\n",
    "df_tree['embedding_y'] = embedding[:, 1]\n",
    "\n",
    "sns.scatterplot(x='embedding_x', y='embedding_y', data=df_tree)\n"
   ]
  },
  {
   "cell_type": "code",
   "execution_count": 47,
   "metadata": {},
   "outputs": [
    {
     "name": "stderr",
     "output_type": "stream",
     "text": [
      "c:\\Users\\diego\\anaconda3\\lib\\site-packages\\sklearn\\manifold\\_t_sne.py:780: FutureWarning: The default initialization in TSNE will change from 'random' to 'pca' in 1.2.\n",
      "  warnings.warn(\n",
      "c:\\Users\\diego\\anaconda3\\lib\\site-packages\\sklearn\\manifold\\_t_sne.py:790: FutureWarning: The default learning rate in TSNE will change from 200.0 to 'auto' in 1.2.\n",
      "  warnings.warn(\n"
     ]
    },
    {
     "data": {
      "text/plain": [
       "<AxesSubplot:xlabel='embedding_x', ylabel='embedding_y'>"
      ]
     },
     "execution_count": 47,
     "metadata": {},
     "output_type": "execute_result"
    },
    {
     "data": {
      "image/png": "[encoded data removed]",
      "text/plain": [
       "<Figure size 432x288 with 1 Axes>"
      ]
     },
     "metadata": {
      "needs_background": "light"
     },
     "output_type": "display_data"
    }
   ],
   "source": [
    "# reducer = TSNE(n_components=3, random_state=42, n_jobs=-1)\n",
    "# embedding = reducer.fit_transform(X)\n",
    "\n",
    "# # embedding\n",
    "# df_tree['embedding_x'] = embedding[:, 0]\n",
    "# df_tree['embedding_y'] = embedding[:, 1]\n",
    "\n",
    "# #plot UMAP\n",
    "# sns.scatterplot(x='embedding_x', y='embedding_y', data= df_tree)"
   ]
  },
  {
   "cell_type": "markdown",
   "metadata": {},
   "source": [
    "#  7.0 HYPERPARAMETER FINE-TUNING"
   ]
  },
  {
   "cell_type": "code",
   "execution_count": 50,
   "metadata": {},
   "outputs": [],
   "source": [
    "X = df_tree.copy()"
   ]
  },
  {
   "cell_type": "markdown",
   "metadata": {},
   "source": [
    "#  8.0 MODEL TRAINING"
   ]
  },
  {
   "cell_type": "markdown",
   "metadata": {},
   "source": [
    "## 8.1 Final Model"
   ]
  },
  {
   "cell_type": "code",
   "execution_count": 51,
   "metadata": {},
   "outputs": [],
   "source": [
    "# model definition\n",
    "k = 8\n",
    "kmeans = c.KMeans(init='random', n_clusters=k, n_init=10, max_iter=300, random_state=42)\n",
    "\n",
    "# model training\n",
    "kmeans.fit(X)\n",
    "\n",
    "# clustering\n",
    "labels = kmeans.labels_"
   ]
  },
  {
   "cell_type": "markdown",
   "metadata": {},
   "source": [
    "## 8.2 Cluster Validation"
   ]
  },
  {
   "cell_type": "code",
   "execution_count": 52,
   "metadata": {},
   "outputs": [
    {
     "name": "stdout",
     "output_type": "stream",
     "text": [
      "wss value: 53027.29296875\n",
      "SS value: 0.6195657849311829\n"
     ]
    }
   ],
   "source": [
    "## WSS (Within-cluster Sum of Square)\n",
    "print('wss value: {}'.format(kmeans.inertia_))\n",
    "\n",
    "## SS (Silhouette Score)\n",
    "print('SS value: {}'. format(m.silhouette_score(X, labels, metric='euclidean')))\n"
   ]
  },
  {
   "cell_type": "markdown",
   "metadata": {},
   "source": [
    "## 9.2 Cluster profile"
   ]
  },
  {
   "cell_type": "code",
   "execution_count": 53,
   "metadata": {},
   "outputs": [
    {
     "data": {
      "text/html": [
       "<div>\n",
       "<style scoped>\n",
       "    .dataframe tbody tr th:only-of-type {\n",
       "        vertical-align: middle;\n",
       "    }\n",
       "\n",
       "    .dataframe tbody tr th {\n",
       "        vertical-align: top;\n",
       "    }\n",
       "\n",
       "    .dataframe thead th {\n",
       "        text-align: right;\n",
       "    }\n",
       "</style>\n",
       "<table border=\"1\" class=\"dataframe\">\n",
       "  <thead>\n",
       "    <tr style=\"text-align: right;\">\n",
       "      <th></th>\n",
       "      <th>customer_id</th>\n",
       "      <th>gross_revenue</th>\n",
       "      <th>recency_days</th>\n",
       "      <th>total_quantity</th>\n",
       "      <th>qty_returns</th>\n",
       "      <th>frequency</th>\n",
       "      <th>avg_basket_size</th>\n",
       "      <th>cluster</th>\n",
       "      <th>last_training_timestamp</th>\n",
       "    </tr>\n",
       "  </thead>\n",
       "  <tbody>\n",
       "    <tr>\n",
       "      <th>0</th>\n",
       "      <td>17850</td>\n",
       "      <td>5391.21</td>\n",
       "      <td>372</td>\n",
       "      <td>1733</td>\n",
       "      <td>40</td>\n",
       "      <td>17.000000</td>\n",
       "      <td>50.970588</td>\n",
       "      <td>7</td>\n",
       "      <td>2022-10-27 13:21:25</td>\n",
       "    </tr>\n",
       "    <tr>\n",
       "      <th>1</th>\n",
       "      <td>13047</td>\n",
       "      <td>3232.59</td>\n",
       "      <td>56</td>\n",
       "      <td>1390</td>\n",
       "      <td>35</td>\n",
       "      <td>0.028302</td>\n",
       "      <td>154.444444</td>\n",
       "      <td>7</td>\n",
       "      <td>2022-10-27 13:21:25</td>\n",
       "    </tr>\n",
       "    <tr>\n",
       "      <th>2</th>\n",
       "      <td>12583</td>\n",
       "      <td>6705.38</td>\n",
       "      <td>2</td>\n",
       "      <td>5028</td>\n",
       "      <td>50</td>\n",
       "      <td>0.040323</td>\n",
       "      <td>335.200000</td>\n",
       "      <td>5</td>\n",
       "      <td>2022-10-27 13:21:25</td>\n",
       "    </tr>\n",
       "    <tr>\n",
       "      <th>3</th>\n",
       "      <td>13748</td>\n",
       "      <td>948.25</td>\n",
       "      <td>95</td>\n",
       "      <td>439</td>\n",
       "      <td>0</td>\n",
       "      <td>0.017921</td>\n",
       "      <td>87.800000</td>\n",
       "      <td>3</td>\n",
       "      <td>2022-10-27 13:21:25</td>\n",
       "    </tr>\n",
       "    <tr>\n",
       "      <th>4</th>\n",
       "      <td>15100</td>\n",
       "      <td>876.00</td>\n",
       "      <td>333</td>\n",
       "      <td>80</td>\n",
       "      <td>22</td>\n",
       "      <td>0.073171</td>\n",
       "      <td>26.666667</td>\n",
       "      <td>2</td>\n",
       "      <td>2022-10-27 13:21:25</td>\n",
       "    </tr>\n",
       "  </tbody>\n",
       "</table>\n",
       "</div>"
      ],
      "text/plain": [
       "   customer_id  gross_revenue  recency_days  total_quantity  qty_returns  \\\n",
       "0        17850        5391.21           372            1733           40   \n",
       "1        13047        3232.59            56            1390           35   \n",
       "2        12583        6705.38             2            5028           50   \n",
       "3        13748         948.25            95             439            0   \n",
       "4        15100         876.00           333              80           22   \n",
       "\n",
       "   frequency  avg_basket_size  cluster last_training_timestamp  \n",
       "0  17.000000        50.970588        7     2022-10-27 13:21:25  \n",
       "1   0.028302       154.444444        7     2022-10-27 13:21:25  \n",
       "2   0.040323       335.200000        5     2022-10-27 13:21:25  \n",
       "3   0.017921        87.800000        3     2022-10-27 13:21:25  \n",
       "4   0.073171        26.666667        2     2022-10-27 13:21:25  "
      ]
     },
     "execution_count": 53,
     "metadata": {},
     "output_type": "execute_result"
    }
   ],
   "source": [
    "df92 = df4[cols_selected].copy()\n",
    "df92['cluster'] = labels\n",
    "df92.head()\n",
    "\n",
    "# change the types\n",
    "df92['recency_days'] = df92['recency_days'].astype(np.int64)\n",
    "df92['total_quantity'] = df92['total_quantity'].astype(np.int64)\n",
    "df92['qty_returns'] = df92['qty_returns'].astype(np.int64)\n",
    "\n",
    "df92['last_training_timestamp'] = datetime.now().strftime('%Y-%m-%d %H:%M:%S')\n",
    "\n",
    "df92.head()"
   ]
  },
  {
   "cell_type": "code",
   "execution_count": 54,
   "metadata": {},
   "outputs": [
    {
     "data": {
      "text/html": [
       "<div>\n",
       "<style scoped>\n",
       "    .dataframe tbody tr th:only-of-type {\n",
       "        vertical-align: middle;\n",
       "    }\n",
       "\n",
       "    .dataframe tbody tr th {\n",
       "        vertical-align: top;\n",
       "    }\n",
       "\n",
       "    .dataframe thead th {\n",
       "        text-align: right;\n",
       "    }\n",
       "</style>\n",
       "<table border=\"1\" class=\"dataframe\">\n",
       "  <thead>\n",
       "    <tr style=\"text-align: right;\">\n",
       "      <th></th>\n",
       "      <th>cluster</th>\n",
       "      <th>customer_id</th>\n",
       "      <th>perc_cluster</th>\n",
       "      <th>gross_revenue</th>\n",
       "      <th>recency_days</th>\n",
       "      <th>total_quantity</th>\n",
       "      <th>frequency</th>\n",
       "      <th>qty_returns</th>\n",
       "      <th>avg_basket_size</th>\n",
       "    </tr>\n",
       "  </thead>\n",
       "  <tbody>\n",
       "    <tr>\n",
       "      <th>5</th>\n",
       "      <td>5</td>\n",
       "      <td>557</td>\n",
       "      <td>9.780509</td>\n",
       "      <td>10305.230018</td>\n",
       "      <td>46.082585</td>\n",
       "      <td>5984.175943</td>\n",
       "      <td>0.219261</td>\n",
       "      <td>263.545781</td>\n",
       "      <td>899.915090</td>\n",
       "    </tr>\n",
       "    <tr>\n",
       "      <th>7</th>\n",
       "      <td>7</td>\n",
       "      <td>445</td>\n",
       "      <td>7.813872</td>\n",
       "      <td>2663.473416</td>\n",
       "      <td>60.294382</td>\n",
       "      <td>1480.469663</td>\n",
       "      <td>0.254381</td>\n",
       "      <td>23.548315</td>\n",
       "      <td>439.180921</td>\n",
       "    </tr>\n",
       "    <tr>\n",
       "      <th>1</th>\n",
       "      <td>1</td>\n",
       "      <td>751</td>\n",
       "      <td>13.187006</td>\n",
       "      <td>1622.407164</td>\n",
       "      <td>57.976032</td>\n",
       "      <td>880.486019</td>\n",
       "      <td>0.167003</td>\n",
       "      <td>12.845539</td>\n",
       "      <td>292.825188</td>\n",
       "    </tr>\n",
       "    <tr>\n",
       "      <th>6</th>\n",
       "      <td>6</td>\n",
       "      <td>495</td>\n",
       "      <td>8.691835</td>\n",
       "      <td>1223.615253</td>\n",
       "      <td>130.066667</td>\n",
       "      <td>491.882828</td>\n",
       "      <td>0.766842</td>\n",
       "      <td>3.892929</td>\n",
       "      <td>394.412401</td>\n",
       "    </tr>\n",
       "    <tr>\n",
       "      <th>3</th>\n",
       "      <td>3</td>\n",
       "      <td>702</td>\n",
       "      <td>12.326602</td>\n",
       "      <td>852.284245</td>\n",
       "      <td>85.475783</td>\n",
       "      <td>399.709402</td>\n",
       "      <td>0.249398</td>\n",
       "      <td>6.585470</td>\n",
       "      <td>181.237444</td>\n",
       "    </tr>\n",
       "    <tr>\n",
       "      <th>0</th>\n",
       "      <td>0</td>\n",
       "      <td>634</td>\n",
       "      <td>11.132572</td>\n",
       "      <td>503.485331</td>\n",
       "      <td>121.506309</td>\n",
       "      <td>243.362776</td>\n",
       "      <td>0.560229</td>\n",
       "      <td>3.856467</td>\n",
       "      <td>172.165523</td>\n",
       "    </tr>\n",
       "    <tr>\n",
       "      <th>2</th>\n",
       "      <td>2</td>\n",
       "      <td>1233</td>\n",
       "      <td>21.650571</td>\n",
       "      <td>304.541792</td>\n",
       "      <td>161.281427</td>\n",
       "      <td>117.021898</td>\n",
       "      <td>0.800100</td>\n",
       "      <td>1.424980</td>\n",
       "      <td>99.721864</td>\n",
       "    </tr>\n",
       "    <tr>\n",
       "      <th>4</th>\n",
       "      <td>4</td>\n",
       "      <td>878</td>\n",
       "      <td>15.417032</td>\n",
       "      <td>70.921367</td>\n",
       "      <td>193.145786</td>\n",
       "      <td>18.800683</td>\n",
       "      <td>0.979196</td>\n",
       "      <td>0.455581</td>\n",
       "      <td>18.074005</td>\n",
       "    </tr>\n",
       "  </tbody>\n",
       "</table>\n",
       "</div>"
      ],
      "text/plain": [
       "   cluster  customer_id  perc_cluster  gross_revenue  recency_days  \\\n",
       "5        5          557      9.780509   10305.230018     46.082585   \n",
       "7        7          445      7.813872    2663.473416     60.294382   \n",
       "1        1          751     13.187006    1622.407164     57.976032   \n",
       "6        6          495      8.691835    1223.615253    130.066667   \n",
       "3        3          702     12.326602     852.284245     85.475783   \n",
       "0        0          634     11.132572     503.485331    121.506309   \n",
       "2        2         1233     21.650571     304.541792    161.281427   \n",
       "4        4          878     15.417032      70.921367    193.145786   \n",
       "\n",
       "   total_quantity  frequency  qty_returns  avg_basket_size  \n",
       "5     5984.175943   0.219261   263.545781       899.915090  \n",
       "7     1480.469663   0.254381    23.548315       439.180921  \n",
       "1      880.486019   0.167003    12.845539       292.825188  \n",
       "6      491.882828   0.766842     3.892929       394.412401  \n",
       "3      399.709402   0.249398     6.585470       181.237444  \n",
       "0      243.362776   0.560229     3.856467       172.165523  \n",
       "2      117.021898   0.800100     1.424980        99.721864  \n",
       "4       18.800683   0.979196     0.455581        18.074005  "
      ]
     },
     "execution_count": 54,
     "metadata": {},
     "output_type": "execute_result"
    }
   ],
   "source": [
    "# number of customers\n",
    "df_cluster = df92[['customer_id','cluster']].groupby('cluster').count().reset_index()\n",
    "df_cluster['perc_cluster'] = (df_cluster['customer_id']/df_cluster['customer_id'].sum())*100\n",
    "\n",
    "# Avg Gross revenue\n",
    "df_avg_gross_revenue = df92[['gross_revenue', 'cluster']].groupby('cluster').mean().reset_index()\n",
    "df_cluster = pd.merge(df_cluster, df_avg_gross_revenue, how='inner', on='cluster')\n",
    "\n",
    "# Avg recency days\n",
    "df_recency_days = df92[['recency_days', 'cluster']].groupby('cluster').mean().reset_index()\n",
    "df_cluster = pd.merge(df_cluster, df_recency_days, how='inner', on='cluster')\n",
    "\n",
    "# Avg quantity\n",
    "df_qty = df92[['total_quantity', 'cluster']].groupby('cluster').mean().reset_index()\n",
    "df_cluster = pd.merge(df_cluster, df_qty, how='inner', on='cluster')\n",
    "\n",
    "# frequency\n",
    "df_frequency = df92[['frequency', 'cluster']].groupby('cluster').mean().reset_index()\n",
    "df_cluster = pd.merge(df_cluster, df_frequency, how='inner', on='cluster')\n",
    "\n",
    "# qty_returns\n",
    "df_returns = df92[['qty_returns', 'cluster']].groupby('cluster').mean().reset_index()\n",
    "df_cluster = pd.merge(df_cluster, df_returns, how='inner', on='cluster')\n",
    "\n",
    "# avg_basket_size\n",
    "df_basket = df92[['avg_basket_size', 'cluster']].groupby('cluster').mean().reset_index()\n",
    "df_cluster = pd.merge(df_cluster, df_basket, how='inner', on='cluster')\n",
    "\n",
    "df_cluster.sort_values('gross_revenue', ascending=False)"
   ]
  },
  {
   "cell_type": "markdown",
   "metadata": {},
   "source": [
    "# 10.0 DEPLOY TO PRODUCTION"
   ]
  },
  {
   "cell_type": "code",
   "execution_count": 60,
   "metadata": {},
   "outputs": [
    {
     "data": {
      "text/plain": [
       "customer_id                  int64\n",
       "gross_revenue              float64\n",
       "recency_days                 int64\n",
       "total_quantity               int64\n",
       "frequency                  float64\n",
       "qty_returns                  int64\n",
       "cluster                      int32\n",
       "last_training_timestamp     object\n",
       "dtype: object"
      ]
     },
     "execution_count": 60,
     "metadata": {},
     "output_type": "execute_result"
    }
   ],
   "source": [
    "df92.dtypes"
   ]
  },
  {
   "cell_type": "markdown",
   "metadata": {},
   "source": [
    "## 10.1 Insert into SQLITE"
   ]
  },
  {
   "cell_type": "code",
   "execution_count": 63,
   "metadata": {},
   "outputs": [],
   "source": [
    "import sqlite3\n",
    "from sqlalchemy import create_engine"
   ]
  },
  {
   "cell_type": "code",
   "execution_count": 64,
   "metadata": {},
   "outputs": [
    {
     "ename": "OperationalError",
     "evalue": "table insiders already exists",
     "output_type": "error",
     "traceback": [
      "\u001b[1;31m---------------------------------------------------------------------------\u001b[0m",
      "\u001b[1;31mOperationalError\u001b[0m                          Traceback (most recent call last)",
      "\u001b[1;32mc:\\Users\\diego\\OneDrive\\Área de Trabalho\\projects\\insiders_clustering\\notebooks\\insiders_clustering_ciclo07_v01.ipynb Célula: 81\u001b[0m in \u001b[0;36m<cell line: 14>\u001b[1;34m()\u001b[0m\n\u001b[0;32m      <a href='vscode-notebook-cell:/c%3A/Users/diego/OneDrive/%C3%81rea%20de%20Trabalho/projects/insiders_clustering/notebooks/insiders_clustering_ciclo07_v01.ipynb#Y143sZmlsZQ%3D%3D?line=1'>2</a>\u001b[0m query_create_table_insiders \u001b[39m=\u001b[39m \u001b[39m\"\"\"\u001b[39m\n\u001b[0;32m      <a href='vscode-notebook-cell:/c%3A/Users/diego/OneDrive/%C3%81rea%20de%20Trabalho/projects/insiders_clustering/notebooks/insiders_clustering_ciclo07_v01.ipynb#Y143sZmlsZQ%3D%3D?line=2'>3</a>\u001b[0m \u001b[39m    CREATE TABLE insiders (\u001b[39m\n\u001b[0;32m      <a href='vscode-notebook-cell:/c%3A/Users/diego/OneDrive/%C3%81rea%20de%20Trabalho/projects/insiders_clustering/notebooks/insiders_clustering_ciclo07_v01.ipynb#Y143sZmlsZQ%3D%3D?line=3'>4</a>\u001b[0m \u001b[39m        customer_id     INTEGER,\u001b[39m\n\u001b[1;32m   (...)\u001b[0m\n\u001b[0;32m     <a href='vscode-notebook-cell:/c%3A/Users/diego/OneDrive/%C3%81rea%20de%20Trabalho/projects/insiders_clustering/notebooks/insiders_clustering_ciclo07_v01.ipynb#Y143sZmlsZQ%3D%3D?line=9'>10</a>\u001b[0m \u001b[39m        cluster         INTEGER\u001b[39m\n\u001b[0;32m     <a href='vscode-notebook-cell:/c%3A/Users/diego/OneDrive/%C3%81rea%20de%20Trabalho/projects/insiders_clustering/notebooks/insiders_clustering_ciclo07_v01.ipynb#Y143sZmlsZQ%3D%3D?line=10'>11</a>\u001b[0m \u001b[39m        ) \u001b[39m\u001b[39m\"\"\"\u001b[39m\n\u001b[0;32m     <a href='vscode-notebook-cell:/c%3A/Users/diego/OneDrive/%C3%81rea%20de%20Trabalho/projects/insiders_clustering/notebooks/insiders_clustering_ciclo07_v01.ipynb#Y143sZmlsZQ%3D%3D?line=12'>13</a>\u001b[0m conn \u001b[39m=\u001b[39m sqlite3\u001b[39m.\u001b[39mconnect(\u001b[39m'\u001b[39m\u001b[39minsiders_db.sqlite\u001b[39m\u001b[39m'\u001b[39m)\n\u001b[1;32m---> <a href='vscode-notebook-cell:/c%3A/Users/diego/OneDrive/%C3%81rea%20de%20Trabalho/projects/insiders_clustering/notebooks/insiders_clustering_ciclo07_v01.ipynb#Y143sZmlsZQ%3D%3D?line=13'>14</a>\u001b[0m conn\u001b[39m.\u001b[39;49mexecute(query_create_table_insiders)\n\u001b[0;32m     <a href='vscode-notebook-cell:/c%3A/Users/diego/OneDrive/%C3%81rea%20de%20Trabalho/projects/insiders_clustering/notebooks/insiders_clustering_ciclo07_v01.ipynb#Y143sZmlsZQ%3D%3D?line=14'>15</a>\u001b[0m conn\u001b[39m.\u001b[39mcommit()\n\u001b[0;32m     <a href='vscode-notebook-cell:/c%3A/Users/diego/OneDrive/%C3%81rea%20de%20Trabalho/projects/insiders_clustering/notebooks/insiders_clustering_ciclo07_v01.ipynb#Y143sZmlsZQ%3D%3D?line=15'>16</a>\u001b[0m conn\u001b[39m.\u001b[39mclose()\n",
      "\u001b[1;31mOperationalError\u001b[0m: table insiders already exists"
     ]
    }
   ],
   "source": [
    "# create table\n",
    "query_create_table_insiders = \"\"\"\n",
    "    CREATE TABLE insiders (\n",
    "        customer_id     INTEGER,\n",
    "        gross_revenue   REAL,\n",
    "        recency_days    INTEGER,\n",
    "        total_quantity  INTEGER,\n",
    "        frequency       REAL,\n",
    "        qty_returns     INTEGER,\n",
    "        cluster         INTEGER\n",
    "        ) \"\"\"\n",
    "\n",
    "conn = sqlite3.connect('insiders_db.sqlite')\n",
    "conn.execute(query_create_table_insiders)\n",
    "conn.commit()\n",
    "conn.close()\n",
    "\n",
    "# insert data\n",
    "conn = create_engine('sqlite:///insiders_db.sqlite')\n",
    "df92.to_sql('insiders', con=conn, if_exists='append', index=False)\n",
    "\n",
    "# select data"
   ]
  },
  {
   "cell_type": "code",
   "execution_count": null,
   "metadata": {},
   "outputs": [],
   "source": [
    "# consulting database\n",
    "query = \"\"\"\n",
    "    SELECT * FROM insiders\n",
    "    \"\"\"\n",
    "\n",
    "df = pd.read_sql_query(query, conn)"
   ]
  },
  {
   "cell_type": "code",
   "execution_count": null,
   "metadata": {},
   "outputs": [
    {
     "data": {
      "text/html": [
       "<div>\n",
       "<style scoped>\n",
       "    .dataframe tbody tr th:only-of-type {\n",
       "        vertical-align: middle;\n",
       "    }\n",
       "\n",
       "    .dataframe tbody tr th {\n",
       "        vertical-align: top;\n",
       "    }\n",
       "\n",
       "    .dataframe thead th {\n",
       "        text-align: right;\n",
       "    }\n",
       "</style>\n",
       "<table border=\"1\" class=\"dataframe\">\n",
       "  <thead>\n",
       "    <tr style=\"text-align: right;\">\n",
       "      <th></th>\n",
       "      <th>customer_id</th>\n",
       "      <th>gross_revenue</th>\n",
       "      <th>recency_days</th>\n",
       "      <th>total_quantity</th>\n",
       "      <th>frequency</th>\n",
       "      <th>qty_returns</th>\n",
       "      <th>cluster</th>\n",
       "    </tr>\n",
       "  </thead>\n",
       "  <tbody>\n",
       "    <tr>\n",
       "      <th>0</th>\n",
       "      <td>17850</td>\n",
       "      <td>5391.21</td>\n",
       "      <td>372</td>\n",
       "      <td>1733</td>\n",
       "      <td>17.000000</td>\n",
       "      <td>40</td>\n",
       "      <td>5</td>\n",
       "    </tr>\n",
       "    <tr>\n",
       "      <th>1</th>\n",
       "      <td>13047</td>\n",
       "      <td>3232.59</td>\n",
       "      <td>56</td>\n",
       "      <td>1390</td>\n",
       "      <td>0.028302</td>\n",
       "      <td>35</td>\n",
       "      <td>1</td>\n",
       "    </tr>\n",
       "    <tr>\n",
       "      <th>2</th>\n",
       "      <td>12583</td>\n",
       "      <td>6705.38</td>\n",
       "      <td>2</td>\n",
       "      <td>5028</td>\n",
       "      <td>0.040323</td>\n",
       "      <td>50</td>\n",
       "      <td>5</td>\n",
       "    </tr>\n",
       "    <tr>\n",
       "      <th>3</th>\n",
       "      <td>13748</td>\n",
       "      <td>948.25</td>\n",
       "      <td>95</td>\n",
       "      <td>439</td>\n",
       "      <td>0.017921</td>\n",
       "      <td>0</td>\n",
       "      <td>0</td>\n",
       "    </tr>\n",
       "    <tr>\n",
       "      <th>4</th>\n",
       "      <td>15100</td>\n",
       "      <td>876.00</td>\n",
       "      <td>333</td>\n",
       "      <td>80</td>\n",
       "      <td>0.073171</td>\n",
       "      <td>22</td>\n",
       "      <td>2</td>\n",
       "    </tr>\n",
       "  </tbody>\n",
       "</table>\n",
       "</div>"
      ],
      "text/plain": [
       "   customer_id  gross_revenue  recency_days  total_quantity  frequency  \\\n",
       "0        17850        5391.21           372            1733  17.000000   \n",
       "1        13047        3232.59            56            1390   0.028302   \n",
       "2        12583        6705.38             2            5028   0.040323   \n",
       "3        13748         948.25            95             439   0.017921   \n",
       "4        15100         876.00           333              80   0.073171   \n",
       "\n",
       "   qty_returns  cluster  \n",
       "0           40        5  \n",
       "1           35        1  \n",
       "2           50        5  \n",
       "3            0        0  \n",
       "4           22        2  "
      ]
     },
     "execution_count": 99,
     "metadata": {},
     "output_type": "execute_result"
    }
   ],
   "source": [
    "df.head()"
   ]
  }
 ],
 "metadata": {
  "kernelspec": {
   "display_name": "Python 3.9.12 ('base')",
   "language": "python",
   "name": "python3"
  },
  "language_info": {
   "codemirror_mode": {
    "name": "ipython",
    "version": 3
   },
   "file_extension": ".py",
   "mimetype": "text/x-python",
   "name": "python",
   "nbconvert_exporter": "python",
   "pygments_lexer": "ipython3",
   "version": "3.9.12"
  },
  "orig_nbformat": 4,
  "vscode": {
   "interpreter": {
    "hash": "465bc43bf4cbae58c142e3527ff2b05702dd810bc8ebc4f627e0af6c067b87a4"
   }
  }
 },
 "nbformat": 4,
 "nbformat_minor": 2
}
