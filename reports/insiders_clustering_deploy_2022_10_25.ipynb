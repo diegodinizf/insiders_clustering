{
 "cells": [
  {
   "cell_type": "markdown",
   "id": "e5bc4879",
   "metadata": {
    "tags": [
     "papermill-error-cell-tag"
    ]
   },
   "source": [
    "<span style=\"color:red; font-family:Helvetica Neue, Helvetica, Arial, sans-serif; font-size:2em;\">An Exception was encountered at '<a href=\"#papermill-error-cell\">In [38]</a>'.</span>"
   ]
  },
  {
   "cell_type": "markdown",
   "id": "0ae20d17",
   "metadata": {
    "papermill": {
     "duration": 0.014013,
     "end_time": "2022-10-25T15:02:54.871679",
     "exception": false,
     "start_time": "2022-10-25T15:02:54.857666",
     "status": "completed"
    },
    "tags": []
   },
   "source": [
    "## 0.1 Imports"
   ]
  },
  {
   "cell_type": "code",
   "execution_count": 1,
   "id": "c6e6767a",
   "metadata": {
    "execution": {
     "iopub.execute_input": "2022-10-25T15:02:54.901634Z",
     "iopub.status.busy": "2022-10-25T15:02:54.900635Z",
     "iopub.status.idle": "2022-10-25T15:03:07.620932Z",
     "shell.execute_reply": "2022-10-25T15:03:07.619943Z"
    },
    "papermill": {
     "duration": 12.736253,
     "end_time": "2022-10-25T15:03:07.621931",
     "exception": false,
     "start_time": "2022-10-25T15:02:54.885678",
     "status": "completed"
    },
    "tags": []
   },
   "outputs": [],
   "source": [
    "import numpy as np\n",
    "import pandas as pd\n",
    "import seaborn as sns\n",
    "import umap.umap_ as umap\n",
    "import re\n",
    "\n",
    "from matplotlib import pyplot as plt\n",
    "from datetime import datetime\n",
    "\n",
    "from matplotlib import cm\n",
    "\n",
    "from sklearn import metrics as m\n",
    "from sklearn import cluster as c\n",
    "from sklearn import preprocessing as pp\n",
    "from sklearn import decomposition as dd\n",
    "from sklearn.manifold import TSNE\n",
    "from sklearn.neighbors import NearestNeighbors\n",
    "from sklearn import mixture as mx\n",
    "from scipy.cluster import hierarchy as hc\n",
    "from sklearn import ensemble as en\n",
    "import sqlite3\n",
    "from sqlalchemy import create_engine\n",
    "\n",
    "from plotly import express as px"
   ]
  },
  {
   "cell_type": "markdown",
   "id": "6526c39a",
   "metadata": {
    "papermill": {
     "duration": 0.010998,
     "end_time": "2022-10-25T15:03:07.643930",
     "exception": false,
     "start_time": "2022-10-25T15:03:07.632932",
     "status": "completed"
    },
    "tags": []
   },
   "source": [
    "## 0.3 Load dataset"
   ]
  },
  {
   "cell_type": "code",
   "execution_count": 2,
   "id": "37e7c2cb",
   "metadata": {
    "execution": {
     "iopub.execute_input": "2022-10-25T15:03:07.668943Z",
     "iopub.status.busy": "2022-10-25T15:03:07.667931Z",
     "iopub.status.idle": "2022-10-25T15:03:08.303971Z",
     "shell.execute_reply": "2022-10-25T15:03:08.303143Z"
    },
    "papermill": {
     "duration": 0.650028,
     "end_time": "2022-10-25T15:03:08.305959",
     "exception": false,
     "start_time": "2022-10-25T15:03:07.655931",
     "status": "completed"
    },
    "tags": []
   },
   "outputs": [],
   "source": [
    "# load data\n",
    "df_raw = pd.read_csv(r\"C:\\Users\\diego\\OneDrive\\Área de Trabalho\\projects\\insiders_clustering\\data\\Ecommerce.csv\", encoding='unicode_escape')\n",
    "\n",
    "# drop extra column\n",
    "df_raw = df_raw.drop(columns=['Unnamed: 8'], axis=1)\n",
    "\n"
   ]
  },
  {
   "cell_type": "markdown",
   "id": "ff2ea14e",
   "metadata": {
    "papermill": {
     "duration": 0.010998,
     "end_time": "2022-10-25T15:03:08.327931",
     "exception": false,
     "start_time": "2022-10-25T15:03:08.316933",
     "status": "completed"
    },
    "tags": []
   },
   "source": [
    "# 1.0 DATA DESCRIPTION"
   ]
  },
  {
   "cell_type": "code",
   "execution_count": 3,
   "id": "09215a47",
   "metadata": {
    "execution": {
     "iopub.execute_input": "2022-10-25T15:03:08.351965Z",
     "iopub.status.busy": "2022-10-25T15:03:08.351965Z",
     "iopub.status.idle": "2022-10-25T15:03:08.366939Z",
     "shell.execute_reply": "2022-10-25T15:03:08.366314Z"
    },
    "papermill": {
     "duration": 0.029035,
     "end_time": "2022-10-25T15:03:08.368966",
     "exception": false,
     "start_time": "2022-10-25T15:03:08.339931",
     "status": "completed"
    },
    "tags": []
   },
   "outputs": [],
   "source": [
    "df1 = df_raw.copy()"
   ]
  },
  {
   "cell_type": "code",
   "execution_count": 4,
   "id": "38a8dfc0",
   "metadata": {
    "execution": {
     "iopub.execute_input": "2022-10-25T15:03:08.388875Z",
     "iopub.status.busy": "2022-10-25T15:03:08.388875Z",
     "iopub.status.idle": "2022-10-25T15:03:08.414371Z",
     "shell.execute_reply": "2022-10-25T15:03:08.413380Z"
    },
    "papermill": {
     "duration": 0.038481,
     "end_time": "2022-10-25T15:03:08.416413",
     "exception": false,
     "start_time": "2022-10-25T15:03:08.377932",
     "status": "completed"
    },
    "tags": []
   },
   "outputs": [
    {
     "data": {
      "text/html": [
       "<div>\n",
       "<style scoped>\n",
       "    .dataframe tbody tr th:only-of-type {\n",
       "        vertical-align: middle;\n",
       "    }\n",
       "\n",
       "    .dataframe tbody tr th {\n",
       "        vertical-align: top;\n",
       "    }\n",
       "\n",
       "    .dataframe thead th {\n",
       "        text-align: right;\n",
       "    }\n",
       "</style>\n",
       "<table border=\"1\" class=\"dataframe\">\n",
       "  <thead>\n",
       "    <tr style=\"text-align: right;\">\n",
       "      <th></th>\n",
       "      <th>InvoiceNo</th>\n",
       "      <th>StockCode</th>\n",
       "      <th>Description</th>\n",
       "      <th>Quantity</th>\n",
       "      <th>InvoiceDate</th>\n",
       "      <th>UnitPrice</th>\n",
       "      <th>CustomerID</th>\n",
       "      <th>Country</th>\n",
       "    </tr>\n",
       "  </thead>\n",
       "  <tbody>\n",
       "    <tr>\n",
       "      <th>0</th>\n",
       "      <td>536365</td>\n",
       "      <td>85123A</td>\n",
       "      <td>WHITE HANGING HEART T-LIGHT HOLDER</td>\n",
       "      <td>6</td>\n",
       "      <td>29-Nov-16</td>\n",
       "      <td>2.55</td>\n",
       "      <td>17850.0</td>\n",
       "      <td>United Kingdom</td>\n",
       "    </tr>\n",
       "    <tr>\n",
       "      <th>1</th>\n",
       "      <td>536365</td>\n",
       "      <td>71053</td>\n",
       "      <td>WHITE METAL LANTERN</td>\n",
       "      <td>6</td>\n",
       "      <td>29-Nov-16</td>\n",
       "      <td>3.39</td>\n",
       "      <td>17850.0</td>\n",
       "      <td>United Kingdom</td>\n",
       "    </tr>\n",
       "    <tr>\n",
       "      <th>2</th>\n",
       "      <td>536365</td>\n",
       "      <td>84406B</td>\n",
       "      <td>CREAM CUPID HEARTS COAT HANGER</td>\n",
       "      <td>8</td>\n",
       "      <td>29-Nov-16</td>\n",
       "      <td>2.75</td>\n",
       "      <td>17850.0</td>\n",
       "      <td>United Kingdom</td>\n",
       "    </tr>\n",
       "    <tr>\n",
       "      <th>3</th>\n",
       "      <td>536365</td>\n",
       "      <td>84029G</td>\n",
       "      <td>KNITTED UNION FLAG HOT WATER BOTTLE</td>\n",
       "      <td>6</td>\n",
       "      <td>29-Nov-16</td>\n",
       "      <td>3.39</td>\n",
       "      <td>17850.0</td>\n",
       "      <td>United Kingdom</td>\n",
       "    </tr>\n",
       "    <tr>\n",
       "      <th>4</th>\n",
       "      <td>536365</td>\n",
       "      <td>84029E</td>\n",
       "      <td>RED WOOLLY HOTTIE WHITE HEART.</td>\n",
       "      <td>6</td>\n",
       "      <td>29-Nov-16</td>\n",
       "      <td>3.39</td>\n",
       "      <td>17850.0</td>\n",
       "      <td>United Kingdom</td>\n",
       "    </tr>\n",
       "  </tbody>\n",
       "</table>\n",
       "</div>"
      ],
      "text/plain": [
       "  InvoiceNo StockCode                          Description  Quantity  \\\n",
       "0    536365    85123A   WHITE HANGING HEART T-LIGHT HOLDER         6   \n",
       "1    536365     71053                  WHITE METAL LANTERN         6   \n",
       "2    536365    84406B       CREAM CUPID HEARTS COAT HANGER         8   \n",
       "3    536365    84029G  KNITTED UNION FLAG HOT WATER BOTTLE         6   \n",
       "4    536365    84029E       RED WOOLLY HOTTIE WHITE HEART.         6   \n",
       "\n",
       "  InvoiceDate  UnitPrice  CustomerID         Country  \n",
       "0   29-Nov-16       2.55     17850.0  United Kingdom  \n",
       "1   29-Nov-16       3.39     17850.0  United Kingdom  \n",
       "2   29-Nov-16       2.75     17850.0  United Kingdom  \n",
       "3   29-Nov-16       3.39     17850.0  United Kingdom  \n",
       "4   29-Nov-16       3.39     17850.0  United Kingdom  "
      ]
     },
     "execution_count": 4,
     "metadata": {},
     "output_type": "execute_result"
    }
   ],
   "source": [
    "df1.head()"
   ]
  },
  {
   "cell_type": "markdown",
   "id": "f9ec705d",
   "metadata": {
    "papermill": {
     "duration": 0.012014,
     "end_time": "2022-10-25T15:03:08.438337",
     "exception": false,
     "start_time": "2022-10-25T15:03:08.426323",
     "status": "completed"
    },
    "tags": []
   },
   "source": [
    "## 1.1 Rename columns"
   ]
  },
  {
   "cell_type": "code",
   "execution_count": 5,
   "id": "26e69d0b",
   "metadata": {
    "execution": {
     "iopub.execute_input": "2022-10-25T15:03:08.460368Z",
     "iopub.status.busy": "2022-10-25T15:03:08.460368Z",
     "iopub.status.idle": "2022-10-25T15:03:08.477341Z",
     "shell.execute_reply": "2022-10-25T15:03:08.476527Z"
    },
    "papermill": {
     "duration": 0.029038,
     "end_time": "2022-10-25T15:03:08.479374",
     "exception": false,
     "start_time": "2022-10-25T15:03:08.450336",
     "status": "completed"
    },
    "tags": []
   },
   "outputs": [],
   "source": [
    "cols_new = ['invoice_no', 'stock_code', 'description', 'quantity', 'invoice_date',\n",
    "       'unit_price', 'customer_id', 'country']\n",
    "df1.columns = cols_new"
   ]
  },
  {
   "cell_type": "markdown",
   "id": "eb8b92aa",
   "metadata": {
    "papermill": {
     "duration": 0.011001,
     "end_time": "2022-10-25T15:03:08.500337",
     "exception": false,
     "start_time": "2022-10-25T15:03:08.489336",
     "status": "completed"
    },
    "tags": []
   },
   "source": [
    "## 1.2 Data dimensions"
   ]
  },
  {
   "cell_type": "code",
   "execution_count": 6,
   "id": "7be2b343",
   "metadata": {
    "execution": {
     "iopub.execute_input": "2022-10-25T15:03:08.520336Z",
     "iopub.status.busy": "2022-10-25T15:03:08.520336Z",
     "iopub.status.idle": "2022-10-25T15:03:08.539339Z",
     "shell.execute_reply": "2022-10-25T15:03:08.538649Z"
    },
    "papermill": {
     "duration": 0.031043,
     "end_time": "2022-10-25T15:03:08.540382",
     "exception": false,
     "start_time": "2022-10-25T15:03:08.509339",
     "status": "completed"
    },
    "tags": []
   },
   "outputs": [
    {
     "name": "stdout",
     "output_type": "stream",
     "text": [
      "Number of rows: 541909\n",
      "Number of columns: 8\n"
     ]
    }
   ],
   "source": [
    "print('Number of rows: {}'.format(df1.shape[0]))\n",
    "print('Number of columns: {}'.format(df1.shape[1]))"
   ]
  },
  {
   "cell_type": "markdown",
   "id": "ee9012ff",
   "metadata": {
    "papermill": {
     "duration": 0.011963,
     "end_time": "2022-10-25T15:03:08.563338",
     "exception": false,
     "start_time": "2022-10-25T15:03:08.551375",
     "status": "completed"
    },
    "tags": []
   },
   "source": [
    "## 1.3 Data types"
   ]
  },
  {
   "cell_type": "code",
   "execution_count": 7,
   "id": "de98a20c",
   "metadata": {
    "execution": {
     "iopub.execute_input": "2022-10-25T15:03:08.586335Z",
     "iopub.status.busy": "2022-10-25T15:03:08.586335Z",
     "iopub.status.idle": "2022-10-25T15:03:08.602374Z",
     "shell.execute_reply": "2022-10-25T15:03:08.602374Z"
    },
    "papermill": {
     "duration": 0.02999,
     "end_time": "2022-10-25T15:03:08.604351",
     "exception": false,
     "start_time": "2022-10-25T15:03:08.574361",
     "status": "completed"
    },
    "tags": []
   },
   "outputs": [
    {
     "data": {
      "text/plain": [
       "invoice_no       object\n",
       "stock_code       object\n",
       "description      object\n",
       "quantity          int64\n",
       "invoice_date     object\n",
       "unit_price      float64\n",
       "customer_id     float64\n",
       "country          object\n",
       "dtype: object"
      ]
     },
     "execution_count": 7,
     "metadata": {},
     "output_type": "execute_result"
    }
   ],
   "source": [
    "df1.dtypes"
   ]
  },
  {
   "cell_type": "markdown",
   "id": "ce086a8d",
   "metadata": {
    "papermill": {
     "duration": 0.010998,
     "end_time": "2022-10-25T15:03:08.628339",
     "exception": false,
     "start_time": "2022-10-25T15:03:08.617341",
     "status": "completed"
    },
    "tags": []
   },
   "source": [
    "## 1.4 Check NA"
   ]
  },
  {
   "cell_type": "code",
   "execution_count": 8,
   "id": "a8f07d72",
   "metadata": {
    "execution": {
     "iopub.execute_input": "2022-10-25T15:03:08.653351Z",
     "iopub.status.busy": "2022-10-25T15:03:08.653351Z",
     "iopub.status.idle": "2022-10-25T15:03:09.001341Z",
     "shell.execute_reply": "2022-10-25T15:03:09.000537Z"
    },
    "papermill": {
     "duration": 0.363019,
     "end_time": "2022-10-25T15:03:09.003369",
     "exception": false,
     "start_time": "2022-10-25T15:03:08.640350",
     "status": "completed"
    },
    "tags": []
   },
   "outputs": [
    {
     "data": {
      "text/plain": [
       "invoice_no           0\n",
       "stock_code           0\n",
       "description       1454\n",
       "quantity             0\n",
       "invoice_date         0\n",
       "unit_price           0\n",
       "customer_id     135080\n",
       "country              0\n",
       "dtype: int64"
      ]
     },
     "execution_count": 8,
     "metadata": {},
     "output_type": "execute_result"
    }
   ],
   "source": [
    "df1.isna().sum()"
   ]
  },
  {
   "cell_type": "markdown",
   "id": "7395edea",
   "metadata": {
    "papermill": {
     "duration": 0.011995,
     "end_time": "2022-10-25T15:03:09.025370",
     "exception": false,
     "start_time": "2022-10-25T15:03:09.013375",
     "status": "completed"
    },
    "tags": []
   },
   "source": [
    "## 1.5 Replace NA"
   ]
  },
  {
   "cell_type": "code",
   "execution_count": 9,
   "id": "4d26d55c",
   "metadata": {
    "execution": {
     "iopub.execute_input": "2022-10-25T15:03:09.050334Z",
     "iopub.status.busy": "2022-10-25T15:03:09.050334Z",
     "iopub.status.idle": "2022-10-25T15:03:09.095372Z",
     "shell.execute_reply": "2022-10-25T15:03:09.094544Z"
    },
    "papermill": {
     "duration": 0.059015,
     "end_time": "2022-10-25T15:03:09.097366",
     "exception": false,
     "start_time": "2022-10-25T15:03:09.038351",
     "status": "completed"
    },
    "tags": []
   },
   "outputs": [],
   "source": [
    "# spliting NA\n",
    "df_missing = df1.loc[df1['customer_id'].isna(), :]\n",
    "df_not_missing = df1.loc[~df1['customer_id'].isna(), :]"
   ]
  },
  {
   "cell_type": "code",
   "execution_count": 10,
   "id": "cdfe16a7",
   "metadata": {
    "execution": {
     "iopub.execute_input": "2022-10-25T15:03:09.119338Z",
     "iopub.status.busy": "2022-10-25T15:03:09.119338Z",
     "iopub.status.idle": "2022-10-25T15:03:09.285339Z",
     "shell.execute_reply": "2022-10-25T15:03:09.284537Z"
    },
    "papermill": {
     "duration": 0.178967,
     "end_time": "2022-10-25T15:03:09.286338",
     "exception": false,
     "start_time": "2022-10-25T15:03:09.107371",
     "status": "completed"
    },
    "tags": []
   },
   "outputs": [],
   "source": [
    "# create reference\n",
    "df_backup = pd.DataFrame(df_missing['invoice_no'].drop_duplicates())\n",
    "df_backup['customer_id'] = np.arange(19000, 19000+len(df_backup), 1)\n",
    "\n",
    "# merge original with reference dataframe\n",
    "df1 = pd.merge(df1, df_backup, how='left', on='invoice_no')\n",
    "\n",
    "# coalesce\n",
    "df1['customer_id'] = df1['customer_id_x'].combine_first(df1['customer_id_y'])\n",
    "\n",
    "# drop extra columns\n",
    "df1 = df1.drop(columns=['customer_id_x', 'customer_id_y'])"
   ]
  },
  {
   "cell_type": "code",
   "execution_count": 11,
   "id": "5041d60c",
   "metadata": {
    "execution": {
     "iopub.execute_input": "2022-10-25T15:03:09.311378Z",
     "iopub.status.busy": "2022-10-25T15:03:09.310336Z",
     "iopub.status.idle": "2022-10-25T15:03:09.667336Z",
     "shell.execute_reply": "2022-10-25T15:03:09.666376Z"
    },
    "papermill": {
     "duration": 0.372024,
     "end_time": "2022-10-25T15:03:09.669363",
     "exception": false,
     "start_time": "2022-10-25T15:03:09.297339",
     "status": "completed"
    },
    "tags": []
   },
   "outputs": [
    {
     "data": {
      "text/plain": [
       "invoice_no         0\n",
       "stock_code         0\n",
       "description     1454\n",
       "quantity           0\n",
       "invoice_date       0\n",
       "unit_price         0\n",
       "country            0\n",
       "customer_id        0\n",
       "dtype: int64"
      ]
     },
     "execution_count": 11,
     "metadata": {},
     "output_type": "execute_result"
    }
   ],
   "source": [
    "df1.isna().sum()"
   ]
  },
  {
   "cell_type": "markdown",
   "id": "88b211f0",
   "metadata": {
    "papermill": {
     "duration": 0.012002,
     "end_time": "2022-10-25T15:03:09.694336",
     "exception": false,
     "start_time": "2022-10-25T15:03:09.682334",
     "status": "completed"
    },
    "tags": []
   },
   "source": [
    "## 1.6 Change dtypes"
   ]
  },
  {
   "cell_type": "code",
   "execution_count": 12,
   "id": "629c9ee6",
   "metadata": {
    "execution": {
     "iopub.execute_input": "2022-10-25T15:03:09.721364Z",
     "iopub.status.busy": "2022-10-25T15:03:09.721364Z",
     "iopub.status.idle": "2022-10-25T15:03:09.808360Z",
     "shell.execute_reply": "2022-10-25T15:03:09.807539Z"
    },
    "papermill": {
     "duration": 0.104018,
     "end_time": "2022-10-25T15:03:09.810369",
     "exception": false,
     "start_time": "2022-10-25T15:03:09.706351",
     "status": "completed"
    },
    "tags": []
   },
   "outputs": [],
   "source": [
    "# invoice data\n",
    "df1['invoice_date'] = pd.to_datetime(df1['invoice_date'], format = '%d-%b-%y')\n",
    "\n",
    "# customer id\n",
    "df1['customer_id'] = df1['customer_id'].astype(np.int64)"
   ]
  },
  {
   "cell_type": "markdown",
   "id": "9ce68010",
   "metadata": {
    "papermill": {
     "duration": 0.011999,
     "end_time": "2022-10-25T15:03:09.832336",
     "exception": false,
     "start_time": "2022-10-25T15:03:09.820337",
     "status": "completed"
    },
    "tags": []
   },
   "source": [
    "## 1.7 Descriptive statistics"
   ]
  },
  {
   "cell_type": "code",
   "execution_count": 13,
   "id": "0d103600",
   "metadata": {
    "execution": {
     "iopub.execute_input": "2022-10-25T15:03:09.858334Z",
     "iopub.status.busy": "2022-10-25T15:03:09.858334Z",
     "iopub.status.idle": "2022-10-25T15:03:09.871953Z",
     "shell.execute_reply": "2022-10-25T15:03:09.870926Z"
    },
    "papermill": {
     "duration": 0.028605,
     "end_time": "2022-10-25T15:03:09.872944",
     "exception": false,
     "start_time": "2022-10-25T15:03:09.844339",
     "status": "completed"
    },
    "tags": []
   },
   "outputs": [],
   "source": [
    "num_attributes = df1.select_dtypes(include=['int64', 'float64'])\n",
    "cat_attributes = df1.select_dtypes(exclude=['int64', 'float64', 'datetime64[ns]'])"
   ]
  },
  {
   "cell_type": "markdown",
   "id": "4b619671",
   "metadata": {
    "papermill": {
     "duration": 0.011,
     "end_time": "2022-10-25T15:03:09.894943",
     "exception": false,
     "start_time": "2022-10-25T15:03:09.883943",
     "status": "completed"
    },
    "tags": []
   },
   "source": [
    "### 1.7.1 Numerical attributes"
   ]
  },
  {
   "cell_type": "code",
   "execution_count": 14,
   "id": "9a696680",
   "metadata": {
    "execution": {
     "iopub.execute_input": "2022-10-25T15:03:09.918997Z",
     "iopub.status.busy": "2022-10-25T15:03:09.918997Z",
     "iopub.status.idle": "2022-10-25T15:03:10.015953Z",
     "shell.execute_reply": "2022-10-25T15:03:10.014993Z"
    },
    "papermill": {
     "duration": 0.111001,
     "end_time": "2022-10-25T15:03:10.017945",
     "exception": false,
     "start_time": "2022-10-25T15:03:09.906944",
     "status": "completed"
    },
    "tags": []
   },
   "outputs": [
    {
     "data": {
      "text/html": [
       "<div>\n",
       "<style scoped>\n",
       "    .dataframe tbody tr th:only-of-type {\n",
       "        vertical-align: middle;\n",
       "    }\n",
       "\n",
       "    .dataframe tbody tr th {\n",
       "        vertical-align: top;\n",
       "    }\n",
       "\n",
       "    .dataframe thead th {\n",
       "        text-align: right;\n",
       "    }\n",
       "</style>\n",
       "<table border=\"1\" class=\"dataframe\">\n",
       "  <thead>\n",
       "    <tr style=\"text-align: right;\">\n",
       "      <th></th>\n",
       "      <th>mean</th>\n",
       "      <th>median</th>\n",
       "      <th>std</th>\n",
       "      <th>min</th>\n",
       "      <th>max</th>\n",
       "      <th>skew</th>\n",
       "      <th>kurtosis</th>\n",
       "    </tr>\n",
       "  </thead>\n",
       "  <tbody>\n",
       "    <tr>\n",
       "      <th>quantity</th>\n",
       "      <td>9.552250</td>\n",
       "      <td>3.00</td>\n",
       "      <td>218.081158</td>\n",
       "      <td>-80995.00</td>\n",
       "      <td>80995.0</td>\n",
       "      <td>-0.264076</td>\n",
       "      <td>119769.160031</td>\n",
       "    </tr>\n",
       "    <tr>\n",
       "      <th>unit_price</th>\n",
       "      <td>4.611114</td>\n",
       "      <td>2.08</td>\n",
       "      <td>96.759853</td>\n",
       "      <td>-11062.06</td>\n",
       "      <td>38970.0</td>\n",
       "      <td>186.506972</td>\n",
       "      <td>59005.719097</td>\n",
       "    </tr>\n",
       "    <tr>\n",
       "      <th>customer_id</th>\n",
       "      <td>16688.840453</td>\n",
       "      <td>16249.00</td>\n",
       "      <td>2911.411352</td>\n",
       "      <td>12346.00</td>\n",
       "      <td>22709.0</td>\n",
       "      <td>0.487449</td>\n",
       "      <td>-0.804287</td>\n",
       "    </tr>\n",
       "  </tbody>\n",
       "</table>\n",
       "</div>"
      ],
      "text/plain": [
       "                     mean    median          std       min      max  \\\n",
       "quantity         9.552250      3.00   218.081158 -80995.00  80995.0   \n",
       "unit_price       4.611114      2.08    96.759853 -11062.06  38970.0   \n",
       "customer_id  16688.840453  16249.00  2911.411352  12346.00  22709.0   \n",
       "\n",
       "                   skew       kurtosis  \n",
       "quantity      -0.264076  119769.160031  \n",
       "unit_price   186.506972   59005.719097  \n",
       "customer_id    0.487449      -0.804287  "
      ]
     },
     "execution_count": 14,
     "metadata": {},
     "output_type": "execute_result"
    }
   ],
   "source": [
    "num_attributes.agg([\"mean\",\"median\",\"std\",\"min\",\"max\",\"skew\",\"kurtosis\"]).T\n"
   ]
  },
  {
   "cell_type": "markdown",
   "id": "b281264f",
   "metadata": {
    "papermill": {
     "duration": 0.013043,
     "end_time": "2022-10-25T15:03:10.040988",
     "exception": false,
     "start_time": "2022-10-25T15:03:10.027945",
     "status": "completed"
    },
    "tags": []
   },
   "source": [
    "### 1.7.2 Categorical attributes"
   ]
  },
  {
   "cell_type": "markdown",
   "id": "42d2628c",
   "metadata": {
    "papermill": {
     "duration": 0.012017,
     "end_time": "2022-10-25T15:03:10.066005",
     "exception": false,
     "start_time": "2022-10-25T15:03:10.053988",
     "status": "completed"
    },
    "tags": []
   },
   "source": [
    "### Invoice No"
   ]
  },
  {
   "cell_type": "code",
   "execution_count": 15,
   "id": "9f9854dc",
   "metadata": {
    "execution": {
     "iopub.execute_input": "2022-10-25T15:03:10.089945Z",
     "iopub.status.busy": "2022-10-25T15:03:10.089945Z",
     "iopub.status.idle": "2022-10-25T15:03:10.716981Z",
     "shell.execute_reply": "2022-10-25T15:03:10.715997Z"
    },
    "papermill": {
     "duration": 0.64195,
     "end_time": "2022-10-25T15:03:10.718946",
     "exception": false,
     "start_time": "2022-10-25T15:03:10.076996",
     "status": "completed"
    },
    "tags": []
   },
   "outputs": [
    {
     "name": "stdout",
     "output_type": "stream",
     "text": [
      "Total number of invoices with letters: 9291\n",
      "Total number of negatives quantities: 9288\n"
     ]
    }
   ],
   "source": [
    "# df1['invoice_no'].astype(np.int64) - problem: invoice contains numbers and words\n",
    "\n",
    "# identification\n",
    "df_letter_invoices = df1.loc[df1['invoice_no'].apply(lambda x: bool(re.search('[^0-9]+', x))),:]\n",
    "df_letter_invoices.head()\n",
    "\n",
    "print('Total number of invoices with letters: {}'.format(len(df_letter_invoices)))\n",
    "print('Total number of negatives quantities: {}'.format(len(df_letter_invoices[df_letter_invoices['quantity'] < 0])))"
   ]
  },
  {
   "cell_type": "markdown",
   "id": "0e2e33b3",
   "metadata": {
    "papermill": {
     "duration": 0.013002,
     "end_time": "2022-10-25T15:03:10.778946",
     "exception": false,
     "start_time": "2022-10-25T15:03:10.765944",
     "status": "completed"
    },
    "tags": []
   },
   "source": [
    "### Stock Code"
   ]
  },
  {
   "cell_type": "code",
   "execution_count": 16,
   "id": "d782029b",
   "metadata": {
    "execution": {
     "iopub.execute_input": "2022-10-25T15:03:10.805944Z",
     "iopub.status.busy": "2022-10-25T15:03:10.805944Z",
     "iopub.status.idle": "2022-10-25T15:03:11.496948Z",
     "shell.execute_reply": "2022-10-25T15:03:11.496007Z"
    },
    "papermill": {
     "duration": 0.709021,
     "end_time": "2022-10-25T15:03:11.501006",
     "exception": false,
     "start_time": "2022-10-25T15:03:10.791985",
     "status": "completed"
    },
    "tags": []
   },
   "outputs": [
    {
     "data": {
      "text/plain": [
       "array(['POST', 'D', 'DOT', 'M', 'S', 'AMAZONFEE', 'm', 'DCGSSBOY',\n",
       "       'DCGSSGIRL', 'PADS', 'B', 'CRUK'], dtype=object)"
      ]
     },
     "execution_count": 16,
     "metadata": {},
     "output_type": "execute_result"
    }
   ],
   "source": [
    "df1.loc[df1['stock_code'].apply(lambda x: bool(re.search('^[a-zA-Z]+$', x))), 'stock_code'].unique()"
   ]
  },
  {
   "cell_type": "markdown",
   "id": "da2384c1",
   "metadata": {
    "papermill": {
     "duration": 0.027035,
     "end_time": "2022-10-25T15:03:11.553997",
     "exception": false,
     "start_time": "2022-10-25T15:03:11.526962",
     "status": "completed"
    },
    "tags": []
   },
   "source": [
    "### Description"
   ]
  },
  {
   "cell_type": "code",
   "execution_count": 17,
   "id": "0a0a4ef3",
   "metadata": {
    "execution": {
     "iopub.execute_input": "2022-10-25T15:03:11.609006Z",
     "iopub.status.busy": "2022-10-25T15:03:11.609006Z",
     "iopub.status.idle": "2022-10-25T15:03:11.624951Z",
     "shell.execute_reply": "2022-10-25T15:03:11.624045Z"
    },
    "papermill": {
     "duration": 0.046997,
     "end_time": "2022-10-25T15:03:11.628947",
     "exception": false,
     "start_time": "2022-10-25T15:03:11.581950",
     "status": "completed"
    },
    "tags": []
   },
   "outputs": [
    {
     "data": {
      "text/plain": [
       "0     WHITE HANGING HEART T-LIGHT HOLDER\n",
       "1                    WHITE METAL LANTERN\n",
       "2         CREAM CUPID HEARTS COAT HANGER\n",
       "3    KNITTED UNION FLAG HOT WATER BOTTLE\n",
       "4         RED WOOLLY HOTTIE WHITE HEART.\n",
       "Name: description, dtype: object"
      ]
     },
     "execution_count": 17,
     "metadata": {},
     "output_type": "execute_result"
    }
   ],
   "source": [
    "df1['description'].head()"
   ]
  },
  {
   "cell_type": "markdown",
   "id": "02067af2",
   "metadata": {
    "papermill": {
     "duration": 0.027957,
     "end_time": "2022-10-25T15:03:11.682951",
     "exception": false,
     "start_time": "2022-10-25T15:03:11.654994",
     "status": "completed"
    },
    "tags": []
   },
   "source": [
    "Description will be deleted from data since it does not give any perceptive feature to the problem"
   ]
  },
  {
   "cell_type": "markdown",
   "id": "faca5c67",
   "metadata": {
    "papermill": {
     "duration": 0.02601,
     "end_time": "2022-10-25T15:03:11.733955",
     "exception": false,
     "start_time": "2022-10-25T15:03:11.707945",
     "status": "completed"
    },
    "tags": []
   },
   "source": [
    "### Country"
   ]
  },
  {
   "cell_type": "code",
   "execution_count": 18,
   "id": "dae14758",
   "metadata": {
    "execution": {
     "iopub.execute_input": "2022-10-25T15:03:11.790993Z",
     "iopub.status.busy": "2022-10-25T15:03:11.789993Z",
     "iopub.status.idle": "2022-10-25T15:03:11.880997Z",
     "shell.execute_reply": "2022-10-25T15:03:11.879010Z"
    },
    "papermill": {
     "duration": 0.125007,
     "end_time": "2022-10-25T15:03:11.883954",
     "exception": false,
     "start_time": "2022-10-25T15:03:11.758947",
     "status": "completed"
    },
    "tags": []
   },
   "outputs": [
    {
     "data": {
      "text/plain": [
       "array(['United Kingdom', 'France', 'Australia', 'Netherlands', 'Germany',\n",
       "       'Norway', 'EIRE', 'Switzerland', 'Spain', 'Poland', 'Portugal',\n",
       "       'Italy', 'Belgium', 'Lithuania', 'Japan', 'Iceland',\n",
       "       'Channel Islands', 'Denmark', 'Cyprus', 'Sweden', 'Austria',\n",
       "       'Israel', 'Finland', 'Bahrain', 'Greece', 'Hong Kong', 'Singapore',\n",
       "       'Lebanon', 'United Arab Emirates', 'Saudi Arabia',\n",
       "       'Czech Republic', 'Canada', 'Unspecified', 'Brazil', 'USA',\n",
       "       'European Community', 'Malta', 'RSA'], dtype=object)"
      ]
     },
     "execution_count": 18,
     "metadata": {},
     "output_type": "execute_result"
    }
   ],
   "source": [
    "df1['country'].unique()"
   ]
  },
  {
   "cell_type": "code",
   "execution_count": 19,
   "id": "99bb515a",
   "metadata": {
    "execution": {
     "iopub.execute_input": "2022-10-25T15:03:11.936948Z",
     "iopub.status.busy": "2022-10-25T15:03:11.936948Z",
     "iopub.status.idle": "2022-10-25T15:03:12.104001Z",
     "shell.execute_reply": "2022-10-25T15:03:12.103088Z"
    },
    "papermill": {
     "duration": 0.198941,
     "end_time": "2022-10-25T15:03:12.107949",
     "exception": false,
     "start_time": "2022-10-25T15:03:11.909008",
     "status": "completed"
    },
    "tags": []
   },
   "outputs": [
    {
     "data": {
      "text/html": [
       "<div>\n",
       "<style scoped>\n",
       "    .dataframe tbody tr th:only-of-type {\n",
       "        vertical-align: middle;\n",
       "    }\n",
       "\n",
       "    .dataframe tbody tr th {\n",
       "        vertical-align: top;\n",
       "    }\n",
       "\n",
       "    .dataframe thead th {\n",
       "        text-align: right;\n",
       "    }\n",
       "</style>\n",
       "<table border=\"1\" class=\"dataframe\">\n",
       "  <thead>\n",
       "    <tr style=\"text-align: right;\">\n",
       "      <th></th>\n",
       "      <th>country</th>\n",
       "      <th>customer_id</th>\n",
       "    </tr>\n",
       "  </thead>\n",
       "  <tbody>\n",
       "    <tr>\n",
       "      <th>36</th>\n",
       "      <td>United Kingdom</td>\n",
       "      <td>7587</td>\n",
       "    </tr>\n",
       "    <tr>\n",
       "      <th>14</th>\n",
       "      <td>Germany</td>\n",
       "      <td>95</td>\n",
       "    </tr>\n",
       "    <tr>\n",
       "      <th>13</th>\n",
       "      <td>France</td>\n",
       "      <td>90</td>\n",
       "    </tr>\n",
       "    <tr>\n",
       "      <th>10</th>\n",
       "      <td>EIRE</td>\n",
       "      <td>44</td>\n",
       "    </tr>\n",
       "    <tr>\n",
       "      <th>31</th>\n",
       "      <td>Spain</td>\n",
       "      <td>31</td>\n",
       "    </tr>\n",
       "  </tbody>\n",
       "</table>\n",
       "</div>"
      ],
      "text/plain": [
       "           country  customer_id\n",
       "36  United Kingdom         7587\n",
       "14         Germany           95\n",
       "13          France           90\n",
       "10            EIRE           44\n",
       "31           Spain           31"
      ]
     },
     "execution_count": 19,
     "metadata": {},
     "output_type": "execute_result"
    }
   ],
   "source": [
    "df1[['customer_id', 'country']].drop_duplicates().groupby('country').count().reset_index().sort_values('customer_id', ascending=False).head()"
   ]
  },
  {
   "cell_type": "markdown",
   "id": "8d5ba872",
   "metadata": {
    "papermill": {
     "duration": 0.028004,
     "end_time": "2022-10-25T15:03:12.162959",
     "exception": false,
     "start_time": "2022-10-25T15:03:12.134955",
     "status": "completed"
    },
    "tags": []
   },
   "source": [
    "# 2.0 VARIABLES FILTERING"
   ]
  },
  {
   "cell_type": "code",
   "execution_count": 20,
   "id": "f49fd374",
   "metadata": {
    "execution": {
     "iopub.execute_input": "2022-10-25T15:03:12.217005Z",
     "iopub.status.busy": "2022-10-25T15:03:12.217005Z",
     "iopub.status.idle": "2022-10-25T15:03:12.247950Z",
     "shell.execute_reply": "2022-10-25T15:03:12.246994Z"
    },
    "papermill": {
     "duration": 0.062998,
     "end_time": "2022-10-25T15:03:12.252004",
     "exception": false,
     "start_time": "2022-10-25T15:03:12.189006",
     "status": "completed"
    },
    "tags": []
   },
   "outputs": [],
   "source": [
    "df2 = df1.copy()"
   ]
  },
  {
   "cell_type": "code",
   "execution_count": 21,
   "id": "aa7abf44",
   "metadata": {
    "execution": {
     "iopub.execute_input": "2022-10-25T15:03:12.310005Z",
     "iopub.status.busy": "2022-10-25T15:03:12.309003Z",
     "iopub.status.idle": "2022-10-25T15:03:12.823009Z",
     "shell.execute_reply": "2022-10-25T15:03:12.822045Z"
    },
    "papermill": {
     "duration": 0.548046,
     "end_time": "2022-10-25T15:03:12.827002",
     "exception": false,
     "start_time": "2022-10-25T15:03:12.278956",
     "status": "completed"
    },
    "tags": []
   },
   "outputs": [],
   "source": [
    "# ==== Numerical Attributes ====\n",
    "# unit price > 0\n",
    "df2= df2.loc[df2['unit_price'] >= 0.04, :]\n",
    "\n",
    "# ==== Categorical Attributes ====\n",
    "# stock code != ['POST', 'D', 'M', 'PADS', 'DOT', 'CRUK']\n",
    "df2 = df2.loc[~df2['stock_code'].isin(['POST', 'D', 'DOT', 'M', 'S', 'AMAZONFEE', 'm', 'DCGSSBOY',\n",
    "       'DCGSSGIRL', 'PADS', 'B', 'CRUK'])]\n",
    "\n",
    "# description\n",
    "df2 = df2.drop(columns='description', axis=1)\n",
    "\n",
    "# map\n",
    "df2 = df2[~df2['country'].isin(['European Community', 'Unspecified'])]\n",
    "\n",
    "# bad users\n",
    "df2 = df2[~df2['customer_id'].isin([16446])]\n",
    "\n",
    "# quantity - Negative numbers will be assumed as product returns\n",
    "df2_returns = df2.loc[df2['quantity'] <= 0, :]\n",
    "df2_purchase = df2.loc[df2['quantity'] > 0, :]\n"
   ]
  },
  {
   "cell_type": "markdown",
   "id": "faaf1793",
   "metadata": {
    "papermill": {
     "duration": 0.026941,
     "end_time": "2022-10-25T15:03:12.879949",
     "exception": false,
     "start_time": "2022-10-25T15:03:12.853008",
     "status": "completed"
    },
    "tags": []
   },
   "source": [
    "# 3.0 FEATURE ENGINEERING"
   ]
  },
  {
   "cell_type": "code",
   "execution_count": 22,
   "id": "ca58ae48",
   "metadata": {
    "execution": {
     "iopub.execute_input": "2022-10-25T15:03:12.938971Z",
     "iopub.status.busy": "2022-10-25T15:03:12.938971Z",
     "iopub.status.idle": "2022-10-25T15:03:12.966949Z",
     "shell.execute_reply": "2022-10-25T15:03:12.966078Z"
    },
    "papermill": {
     "duration": 0.063028,
     "end_time": "2022-10-25T15:03:12.970005",
     "exception": false,
     "start_time": "2022-10-25T15:03:12.906977",
     "status": "completed"
    },
    "tags": []
   },
   "outputs": [],
   "source": [
    "df3 = df2.copy()"
   ]
  },
  {
   "cell_type": "markdown",
   "id": "85191706",
   "metadata": {
    "papermill": {
     "duration": 0.025035,
     "end_time": "2022-10-25T15:03:13.025022",
     "exception": false,
     "start_time": "2022-10-25T15:03:12.999987",
     "status": "completed"
    },
    "tags": []
   },
   "source": [
    "## 3.1 Feature creation"
   ]
  },
  {
   "cell_type": "code",
   "execution_count": 23,
   "id": "9eecd6f5",
   "metadata": {
    "execution": {
     "iopub.execute_input": "2022-10-25T15:03:13.084009Z",
     "iopub.status.busy": "2022-10-25T15:03:13.082971Z",
     "iopub.status.idle": "2022-10-25T15:03:13.158970Z",
     "shell.execute_reply": "2022-10-25T15:03:13.158022Z"
    },
    "papermill": {
     "duration": 0.11198,
     "end_time": "2022-10-25T15:03:13.163948",
     "exception": false,
     "start_time": "2022-10-25T15:03:13.051968",
     "status": "completed"
    },
    "tags": []
   },
   "outputs": [],
   "source": [
    "# data reference\n",
    "df_ref = df3.drop(['invoice_no', 'stock_code', \n",
    "                  'quantity', 'invoice_date', 'unit_price', 'country'], axis=1).drop_duplicates(ignore_index=True)"
   ]
  },
  {
   "cell_type": "markdown",
   "id": "22013818",
   "metadata": {
    "papermill": {
     "duration": 0.02601,
     "end_time": "2022-10-25T15:03:13.216026",
     "exception": false,
     "start_time": "2022-10-25T15:03:13.190016",
     "status": "completed"
    },
    "tags": []
   },
   "source": [
    "### 3.1.1 Gross Revenue"
   ]
  },
  {
   "cell_type": "code",
   "execution_count": 24,
   "id": "ee3fd591",
   "metadata": {
    "execution": {
     "iopub.execute_input": "2022-10-25T15:03:13.271949Z",
     "iopub.status.busy": "2022-10-25T15:03:13.271949Z",
     "iopub.status.idle": "2022-10-25T15:03:24.188297Z",
     "shell.execute_reply": "2022-10-25T15:03:24.187404Z"
    },
    "papermill": {
     "duration": 10.949318,
     "end_time": "2022-10-25T15:03:24.191298",
     "exception": false,
     "start_time": "2022-10-25T15:03:13.241980",
     "status": "completed"
    },
    "tags": []
   },
   "outputs": [
    {
     "name": "stderr",
     "output_type": "stream",
     "text": [
      "C:\\Users\\diego\\AppData\\Local\\Temp\\ipykernel_21336\\59910178.py:2: SettingWithCopyWarning: \n",
      "A value is trying to be set on a copy of a slice from a DataFrame.\n",
      "Try using .loc[row_indexer,col_indexer] = value instead\n",
      "\n",
      "See the caveats in the documentation: https://pandas.pydata.org/pandas-docs/stable/user_guide/indexing.html#returning-a-view-versus-a-copy\n",
      "  df2_purchase['gross_revenue'] = df2_purchase.apply(lambda x: x['quantity'] * x['unit_price'], axis = 1)\n"
     ]
    },
    {
     "data": {
      "text/plain": [
       "customer_id       0\n",
       "gross_revenue    91\n",
       "dtype: int64"
      ]
     },
     "execution_count": 24,
     "metadata": {},
     "output_type": "execute_result"
    }
   ],
   "source": [
    "# Gross Revenue: quantity * price\n",
    "df2_purchase['gross_revenue'] = df2_purchase.apply(lambda x: x['quantity'] * x['unit_price'], axis = 1)\n",
    "\n",
    "# Monetary\n",
    "df_monetary = df2_purchase[[ 'customer_id', 'gross_revenue']].groupby('customer_id').sum().reset_index()\n",
    "df_ref = pd.merge(df_ref, df_monetary, how='left', on='customer_id')\n",
    "df_ref.isna().sum()\n"
   ]
  },
  {
   "cell_type": "markdown",
   "id": "faf74e39",
   "metadata": {
    "papermill": {
     "duration": 0.012,
     "end_time": "2022-10-25T15:03:24.213327",
     "exception": false,
     "start_time": "2022-10-25T15:03:24.201327",
     "status": "completed"
    },
    "tags": []
   },
   "source": [
    "### 3.1.2 Recency"
   ]
  },
  {
   "cell_type": "code",
   "execution_count": 25,
   "id": "2e9cd720",
   "metadata": {
    "execution": {
     "iopub.execute_input": "2022-10-25T15:03:24.241336Z",
     "iopub.status.busy": "2022-10-25T15:03:24.240294Z",
     "iopub.status.idle": "2022-10-25T15:03:24.331295Z",
     "shell.execute_reply": "2022-10-25T15:03:24.330493Z"
    },
    "papermill": {
     "duration": 0.107977,
     "end_time": "2022-10-25T15:03:24.333292",
     "exception": false,
     "start_time": "2022-10-25T15:03:24.225315",
     "status": "completed"
    },
    "tags": []
   },
   "outputs": [
    {
     "data": {
      "text/plain": [
       "customer_id       0\n",
       "gross_revenue    91\n",
       "recency_days     91\n",
       "dtype: int64"
      ]
     },
     "execution_count": 25,
     "metadata": {},
     "output_type": "execute_result"
    }
   ],
   "source": [
    "# Recency - Last day purchase\n",
    "\n",
    "max_invoice_date = df2_purchase['invoice_date'].max()\n",
    "\n",
    "df_recency = df2_purchase.loc[:, ['customer_id','invoice_date']].groupby('customer_id').max().reset_index()\n",
    "df_recency['recency_days'] = df_recency['invoice_date'].apply(lambda x:  max_invoice_date - x).dt.days\n",
    "df_recency = df_recency[['customer_id', 'recency_days']].copy()\n",
    "df_ref = pd.merge(df_ref, df_recency, on='customer_id', how='left')\n",
    "df_ref.isna().sum()\n"
   ]
  },
  {
   "cell_type": "markdown",
   "id": "573ff974",
   "metadata": {
    "papermill": {
     "duration": 0.015988,
     "end_time": "2022-10-25T15:03:24.360313",
     "exception": false,
     "start_time": "2022-10-25T15:03:24.344325",
     "status": "completed"
    },
    "tags": []
   },
   "source": [
    "### 3.1.4 Quantity of Items Purchased"
   ]
  },
  {
   "cell_type": "code",
   "execution_count": 26,
   "id": "466ee3cf",
   "metadata": {
    "execution": {
     "iopub.execute_input": "2022-10-25T15:03:24.386293Z",
     "iopub.status.busy": "2022-10-25T15:03:24.386293Z",
     "iopub.status.idle": "2022-10-25T15:03:24.426319Z",
     "shell.execute_reply": "2022-10-25T15:03:24.426319Z"
    },
    "papermill": {
     "duration": 0.055997,
     "end_time": "2022-10-25T15:03:24.428292",
     "exception": false,
     "start_time": "2022-10-25T15:03:24.372295",
     "status": "completed"
    },
    "tags": []
   },
   "outputs": [
    {
     "data": {
      "text/plain": [
       "customer_id        0\n",
       "gross_revenue     91\n",
       "recency_days      91\n",
       "total_quantity    91\n",
       "dtype: int64"
      ]
     },
     "execution_count": 26,
     "metadata": {},
     "output_type": "execute_result"
    }
   ],
   "source": [
    "# total quantity of procucts purchased by customer\n",
    "df_prod = df2_purchase.loc[:, ['customer_id','quantity']].groupby('customer_id').sum().reset_index()\n",
    "df_ref = pd.merge(df_ref, df_prod, on='customer_id', how='left')\n",
    "df_ref = df_ref.rename(columns={'quantity': 'total_quantity'})\n",
    "\n",
    "df_ref.isna().sum()\n"
   ]
  },
  {
   "cell_type": "code",
   "execution_count": 27,
   "id": "19ef039c",
   "metadata": {
    "execution": {
     "iopub.execute_input": "2022-10-25T15:03:24.452294Z",
     "iopub.status.busy": "2022-10-25T15:03:24.452294Z",
     "iopub.status.idle": "2022-10-25T15:03:24.458306Z",
     "shell.execute_reply": "2022-10-25T15:03:24.458306Z"
    },
    "papermill": {
     "duration": 0.021062,
     "end_time": "2022-10-25T15:03:24.460357",
     "exception": false,
     "start_time": "2022-10-25T15:03:24.439295",
     "status": "completed"
    },
    "tags": []
   },
   "outputs": [],
   "source": [
    "df_ref1 = df_ref.copy()"
   ]
  },
  {
   "cell_type": "markdown",
   "id": "442d9513",
   "metadata": {
    "papermill": {
     "duration": 0.014008,
     "end_time": "2022-10-25T15:03:24.486325",
     "exception": false,
     "start_time": "2022-10-25T15:03:24.472317",
     "status": "completed"
    },
    "tags": []
   },
   "source": [
    "### 3.1.7 Frequency"
   ]
  },
  {
   "cell_type": "code",
   "execution_count": 28,
   "id": "1132ae32",
   "metadata": {
    "execution": {
     "iopub.execute_input": "2022-10-25T15:03:24.543321Z",
     "iopub.status.busy": "2022-10-25T15:03:24.543321Z",
     "iopub.status.idle": "2022-10-25T15:03:25.736317Z",
     "shell.execute_reply": "2022-10-25T15:03:25.735316Z"
    },
    "papermill": {
     "duration": 1.216003,
     "end_time": "2022-10-25T15:03:25.738320",
     "exception": false,
     "start_time": "2022-10-25T15:03:24.522317",
     "status": "completed"
    },
    "tags": []
   },
   "outputs": [],
   "source": [
    "df_aux = ( df2_purchase[['customer_id', 'invoice_date', 'invoice_no']].drop_duplicates()\n",
    "                                                             .groupby('customer_id')\n",
    "                                                             .agg(max_=('invoice_date', 'max'), \n",
    "                                                                  min_=('invoice_date', 'min'),\n",
    "                                                                  days_=('invoice_date', lambda x: ((x.max() - x.min()).days) + 1),\n",
    "                                                                  buy_=('invoice_no', 'count')).reset_index())\n",
    "\n",
    "# frequency\n",
    "df_aux['frequency'] = df_aux[['buy_', 'days_']].apply(lambda x: x['buy_']/x['days_'] if x['days_'] != 0 else 0, axis=1)\n",
    "\n",
    "df_aux.head()\n",
    "\n",
    "# merge\n",
    "df_ref1 = pd.merge(df_ref1, df_aux[['customer_id', 'frequency']], on='customer_id', how='left')"
   ]
  },
  {
   "cell_type": "code",
   "execution_count": 29,
   "id": "b92f3d68",
   "metadata": {
    "execution": {
     "iopub.execute_input": "2022-10-25T15:03:25.780318Z",
     "iopub.status.busy": "2022-10-25T15:03:25.780318Z",
     "iopub.status.idle": "2022-10-25T15:03:25.799318Z",
     "shell.execute_reply": "2022-10-25T15:03:25.798316Z"
    },
    "papermill": {
     "duration": 0.04301,
     "end_time": "2022-10-25T15:03:25.801328",
     "exception": false,
     "start_time": "2022-10-25T15:03:25.758318",
     "status": "completed"
    },
    "tags": []
   },
   "outputs": [
    {
     "data": {
      "text/plain": [
       "customer_id        0\n",
       "gross_revenue     91\n",
       "recency_days      91\n",
       "total_quantity    91\n",
       "frequency         91\n",
       "dtype: int64"
      ]
     },
     "execution_count": 29,
     "metadata": {},
     "output_type": "execute_result"
    }
   ],
   "source": [
    "df_ref1.isna().sum()"
   ]
  },
  {
   "cell_type": "markdown",
   "id": "2e13615b",
   "metadata": {
    "papermill": {
     "duration": 0.017,
     "end_time": "2022-10-25T15:03:25.836318",
     "exception": false,
     "start_time": "2022-10-25T15:03:25.819318",
     "status": "completed"
    },
    "tags": []
   },
   "source": [
    "### 3.1.8 Returns"
   ]
  },
  {
   "cell_type": "code",
   "execution_count": 30,
   "id": "c407e52e",
   "metadata": {
    "execution": {
     "iopub.execute_input": "2022-10-25T15:03:25.874320Z",
     "iopub.status.busy": "2022-10-25T15:03:25.874320Z",
     "iopub.status.idle": "2022-10-25T15:03:25.910320Z",
     "shell.execute_reply": "2022-10-25T15:03:25.909320Z"
    },
    "papermill": {
     "duration": 0.058008,
     "end_time": "2022-10-25T15:03:25.912328",
     "exception": false,
     "start_time": "2022-10-25T15:03:25.854320",
     "status": "completed"
    },
    "tags": []
   },
   "outputs": [
    {
     "data": {
      "text/plain": [
       "customer_id        0\n",
       "gross_revenue     91\n",
       "recency_days      91\n",
       "total_quantity    91\n",
       "frequency         91\n",
       "qty_returns        0\n",
       "dtype: int64"
      ]
     },
     "execution_count": 30,
     "metadata": {},
     "output_type": "execute_result"
    }
   ],
   "source": [
    "df_returns = df2_returns[['customer_id', 'quantity']].groupby('customer_id').sum().reset_index().rename(columns={'quantity':'qty_returns'})\n",
    "df_returns['qty_returns'] = df_returns['qty_returns']*(-1)\n",
    "\n",
    "df_ref1 = pd.merge(df_ref1, df_returns, on='customer_id', how='left')\n",
    "df_ref1.loc[df_ref1['qty_returns'].isna(), 'qty_returns'] = 0\n",
    "df_ref1.isna().sum()"
   ]
  },
  {
   "cell_type": "code",
   "execution_count": 31,
   "id": "8571837f",
   "metadata": {
    "execution": {
     "iopub.execute_input": "2022-10-25T15:03:25.961319Z",
     "iopub.status.busy": "2022-10-25T15:03:25.960321Z",
     "iopub.status.idle": "2022-10-25T15:03:25.990318Z",
     "shell.execute_reply": "2022-10-25T15:03:25.989320Z"
    },
    "papermill": {
     "duration": 0.059,
     "end_time": "2022-10-25T15:03:25.992319",
     "exception": false,
     "start_time": "2022-10-25T15:03:25.933319",
     "status": "completed"
    },
    "tags": []
   },
   "outputs": [
    {
     "data": {
      "text/html": [
       "<div>\n",
       "<style scoped>\n",
       "    .dataframe tbody tr th:only-of-type {\n",
       "        vertical-align: middle;\n",
       "    }\n",
       "\n",
       "    .dataframe tbody tr th {\n",
       "        vertical-align: top;\n",
       "    }\n",
       "\n",
       "    .dataframe thead th {\n",
       "        text-align: right;\n",
       "    }\n",
       "</style>\n",
       "<table border=\"1\" class=\"dataframe\">\n",
       "  <thead>\n",
       "    <tr style=\"text-align: right;\">\n",
       "      <th></th>\n",
       "      <th>customer_id</th>\n",
       "      <th>gross_revenue</th>\n",
       "      <th>recency_days</th>\n",
       "      <th>total_quantity</th>\n",
       "      <th>frequency</th>\n",
       "      <th>qty_returns</th>\n",
       "    </tr>\n",
       "  </thead>\n",
       "  <tbody>\n",
       "    <tr>\n",
       "      <th>0</th>\n",
       "      <td>17850</td>\n",
       "      <td>5391.21</td>\n",
       "      <td>372.0</td>\n",
       "      <td>1733.0</td>\n",
       "      <td>17.000000</td>\n",
       "      <td>40.0</td>\n",
       "    </tr>\n",
       "    <tr>\n",
       "      <th>1</th>\n",
       "      <td>13047</td>\n",
       "      <td>3232.59</td>\n",
       "      <td>56.0</td>\n",
       "      <td>1390.0</td>\n",
       "      <td>0.028302</td>\n",
       "      <td>35.0</td>\n",
       "    </tr>\n",
       "    <tr>\n",
       "      <th>2</th>\n",
       "      <td>12583</td>\n",
       "      <td>6705.38</td>\n",
       "      <td>2.0</td>\n",
       "      <td>5028.0</td>\n",
       "      <td>0.040323</td>\n",
       "      <td>50.0</td>\n",
       "    </tr>\n",
       "    <tr>\n",
       "      <th>3</th>\n",
       "      <td>13748</td>\n",
       "      <td>948.25</td>\n",
       "      <td>95.0</td>\n",
       "      <td>439.0</td>\n",
       "      <td>0.017921</td>\n",
       "      <td>0.0</td>\n",
       "    </tr>\n",
       "    <tr>\n",
       "      <th>4</th>\n",
       "      <td>15100</td>\n",
       "      <td>876.00</td>\n",
       "      <td>333.0</td>\n",
       "      <td>80.0</td>\n",
       "      <td>0.073171</td>\n",
       "      <td>22.0</td>\n",
       "    </tr>\n",
       "  </tbody>\n",
       "</table>\n",
       "</div>"
      ],
      "text/plain": [
       "   customer_id  gross_revenue  recency_days  total_quantity  frequency  \\\n",
       "0        17850        5391.21         372.0          1733.0  17.000000   \n",
       "1        13047        3232.59          56.0          1390.0   0.028302   \n",
       "2        12583        6705.38           2.0          5028.0   0.040323   \n",
       "3        13748         948.25          95.0           439.0   0.017921   \n",
       "4        15100         876.00         333.0            80.0   0.073171   \n",
       "\n",
       "   qty_returns  \n",
       "0         40.0  \n",
       "1         35.0  \n",
       "2         50.0  \n",
       "3          0.0  \n",
       "4         22.0  "
      ]
     },
     "execution_count": 31,
     "metadata": {},
     "output_type": "execute_result"
    }
   ],
   "source": [
    "df_ref1.head()"
   ]
  },
  {
   "cell_type": "markdown",
   "id": "eb72fdd5",
   "metadata": {
    "papermill": {
     "duration": 0.015999,
     "end_time": "2022-10-25T15:03:26.024317",
     "exception": false,
     "start_time": "2022-10-25T15:03:26.008318",
     "status": "completed"
    },
    "tags": []
   },
   "source": [
    "# 4.0 EXPLORATORY DATA ANALYSIS"
   ]
  },
  {
   "cell_type": "code",
   "execution_count": 32,
   "id": "c1be18e0",
   "metadata": {
    "execution": {
     "iopub.execute_input": "2022-10-25T15:03:26.061318Z",
     "iopub.status.busy": "2022-10-25T15:03:26.060323Z",
     "iopub.status.idle": "2022-10-25T15:03:26.068316Z",
     "shell.execute_reply": "2022-10-25T15:03:26.068316Z"
    },
    "papermill": {
     "duration": 0.029998,
     "end_time": "2022-10-25T15:03:26.070316",
     "exception": false,
     "start_time": "2022-10-25T15:03:26.040318",
     "status": "completed"
    },
    "tags": []
   },
   "outputs": [
    {
     "data": {
      "text/plain": [
       "customer_id       0\n",
       "gross_revenue     0\n",
       "recency_days      0\n",
       "total_quantity    0\n",
       "frequency         0\n",
       "qty_returns       0\n",
       "dtype: int64"
      ]
     },
     "execution_count": 32,
     "metadata": {},
     "output_type": "execute_result"
    }
   ],
   "source": [
    "df4 = df_ref1.copy()\n",
    "df4 = df4.dropna()\n",
    "df4.isna().sum()"
   ]
  },
  {
   "cell_type": "markdown",
   "id": "2d9e05e3",
   "metadata": {
    "papermill": {
     "duration": 0.015,
     "end_time": "2022-10-25T15:03:26.098318",
     "exception": false,
     "start_time": "2022-10-25T15:03:26.083318",
     "status": "completed"
    },
    "tags": []
   },
   "source": [
    "## 4.3 Embedding study"
   ]
  },
  {
   "cell_type": "code",
   "execution_count": 33,
   "id": "97b5d33c",
   "metadata": {
    "execution": {
     "iopub.execute_input": "2022-10-25T15:03:26.127346Z",
     "iopub.status.busy": "2022-10-25T15:03:26.127346Z",
     "iopub.status.idle": "2022-10-25T15:03:26.132416Z",
     "shell.execute_reply": "2022-10-25T15:03:26.132416Z"
    },
    "papermill": {
     "duration": 0.022029,
     "end_time": "2022-10-25T15:03:26.134345",
     "exception": false,
     "start_time": "2022-10-25T15:03:26.112316",
     "status": "completed"
    },
    "tags": []
   },
   "outputs": [],
   "source": [
    "# df43 = df4.drop(columns=['customer_id'], axis=1).copy()\n",
    "\n",
    "cols_selected = ['customer_id', 'gross_revenue', 'recency_days', 'total_quantity', 'frequency', 'qty_returns']\n",
    "df43 = df4[cols_selected].copy() "
   ]
  },
  {
   "cell_type": "code",
   "execution_count": 34,
   "id": "57bfeea3",
   "metadata": {
    "execution": {
     "iopub.execute_input": "2022-10-25T15:03:26.164317Z",
     "iopub.status.busy": "2022-10-25T15:03:26.164317Z",
     "iopub.status.idle": "2022-10-25T15:03:26.197316Z",
     "shell.execute_reply": "2022-10-25T15:03:26.196329Z"
    },
    "papermill": {
     "duration": 0.051013,
     "end_time": "2022-10-25T15:03:26.198330",
     "exception": false,
     "start_time": "2022-10-25T15:03:26.147317",
     "status": "completed"
    },
    "tags": []
   },
   "outputs": [],
   "source": [
    "mm = pp.MinMaxScaler()\n",
    "\n",
    "df43['gross_revenue']      = mm.fit_transform(df43[['gross_revenue']])\n",
    "df43['recency_days']       = mm.fit_transform(df43[['recency_days']])\n",
    "df43['total_quantity']     = mm.fit_transform(df43[['total_quantity']])\n",
    "df43['frequency']          = mm.fit_transform(df43[['frequency']])\n",
    "df43['qty_returns']        = mm.fit_transform(df43[['qty_returns']])\n",
    "\n",
    "\n",
    "\n"
   ]
  },
  {
   "cell_type": "code",
   "execution_count": 35,
   "id": "4dce812a",
   "metadata": {
    "execution": {
     "iopub.execute_input": "2022-10-25T15:03:26.226351Z",
     "iopub.status.busy": "2022-10-25T15:03:26.226351Z",
     "iopub.status.idle": "2022-10-25T15:03:26.244142Z",
     "shell.execute_reply": "2022-10-25T15:03:26.243750Z"
    },
    "papermill": {
     "duration": 0.034864,
     "end_time": "2022-10-25T15:03:26.246183",
     "exception": false,
     "start_time": "2022-10-25T15:03:26.211319",
     "status": "completed"
    },
    "tags": []
   },
   "outputs": [],
   "source": [
    "X = df43.copy()"
   ]
  },
  {
   "cell_type": "markdown",
   "id": "a385345d",
   "metadata": {
    "papermill": {
     "duration": 0.017015,
     "end_time": "2022-10-25T15:03:26.276172",
     "exception": false,
     "start_time": "2022-10-25T15:03:26.259157",
     "status": "completed"
    },
    "tags": []
   },
   "source": [
    "### 4.3.4 Tree-Based Embedding"
   ]
  },
  {
   "cell_type": "markdown",
   "id": "e9cf6985",
   "metadata": {
    "papermill": {
     "duration": 0.011999,
     "end_time": "2022-10-25T15:03:26.302152",
     "exception": false,
     "start_time": "2022-10-25T15:03:26.290153",
     "status": "completed"
    },
    "tags": []
   },
   "source": [
    "Tree-Based Embedding is a tool used to organize cluster with a target variable that, in this case, is the **Gross Revenue**.\n",
    "\n",
    "It is a great method to create embedding for clustering when may explain the cluster's proximity but not the points similarity between them"
   ]
  },
  {
   "cell_type": "code",
   "execution_count": 36,
   "id": "7eb26b45",
   "metadata": {
    "execution": {
     "iopub.execute_input": "2022-10-25T15:03:26.331188Z",
     "iopub.status.busy": "2022-10-25T15:03:26.330158Z",
     "iopub.status.idle": "2022-10-25T15:03:28.382164Z",
     "shell.execute_reply": "2022-10-25T15:03:28.381283Z"
    },
    "papermill": {
     "duration": 2.071063,
     "end_time": "2022-10-25T15:03:28.386215",
     "exception": false,
     "start_time": "2022-10-25T15:03:26.315152",
     "status": "completed"
    },
    "tags": []
   },
   "outputs": [],
   "source": [
    "# training dataset\n",
    "\n",
    "X = df43.drop(columns=['customer_id', 'gross_revenue'], axis=1)\n",
    "y = df43['gross_revenue']\n",
    "\n",
    "# model definition\n",
    "rf_model = en.RandomForestRegressor(n_estimators=100, random_state=42)\n",
    "\n",
    "# model training\n",
    "rf_model.fit(X, y)\n",
    "\n",
    "# Leaf\n",
    "df_leaf = pd.DataFrame(rf_model.apply(X))\n",
    "\n",
    "# dataframe Leaf"
   ]
  },
  {
   "cell_type": "code",
   "execution_count": 37,
   "id": "d3e2d0e4",
   "metadata": {
    "execution": {
     "iopub.execute_input": "2022-10-25T15:03:28.451211Z",
     "iopub.status.busy": "2022-10-25T15:03:28.450212Z",
     "iopub.status.idle": "2022-10-25T15:04:18.180537Z",
     "shell.execute_reply": "2022-10-25T15:04:18.178488Z"
    },
    "papermill": {
     "duration": 49.768414,
     "end_time": "2022-10-25T15:04:18.184575",
     "exception": false,
     "start_time": "2022-10-25T15:03:28.416161",
     "status": "completed"
    },
    "tags": []
   },
   "outputs": [],
   "source": [
    "# Reducer dimensionality\n",
    "reducer = umap.UMAP(n_neighbors=90, random_state=42)\n",
    "embedding = reducer.fit_transform(df_leaf)\n",
    "\n",
    "# embedding\n",
    "df_tree = pd.DataFrame()\n",
    "df_tree['embedding_x'] = embedding[:, 0]\n",
    "df_tree['embedding_y'] = embedding[:, 1]\n",
    "\n"
   ]
  },
  {
   "cell_type": "markdown",
   "id": "2458f184",
   "metadata": {
    "papermill": {
     "duration": 0.030006,
     "end_time": "2022-10-25T15:04:18.247542",
     "exception": false,
     "start_time": "2022-10-25T15:04:18.217536",
     "status": "completed"
    },
    "tags": []
   },
   "source": [
    "# 5.0 DATA PREPARATION "
   ]
  },
  {
   "cell_type": "markdown",
   "id": "0bbbe28a",
   "metadata": {
    "tags": [
     "papermill-error-cell-tag"
    ]
   },
   "source": [
    "<span id=\"papermill-error-cell\" style=\"color:red; font-family:Helvetica Neue, Helvetica, Arial, sans-serif; font-size:2em;\">Execution using papermill encountered an exception here and stopped:</span>"
   ]
  },
  {
   "cell_type": "code",
   "execution_count": 38,
   "id": "6d9bf180",
   "metadata": {
    "execution": {
     "iopub.execute_input": "2022-10-25T15:04:18.314533Z",
     "iopub.status.busy": "2022-10-25T15:04:18.312537Z",
     "iopub.status.idle": "2022-10-25T15:04:21.006526Z",
     "shell.execute_reply": "2022-10-25T15:04:21.005523Z"
    },
    "papermill": {
     "duration": 2.726988,
     "end_time": "2022-10-25T15:04:21.007529",
     "exception": true,
     "start_time": "2022-10-25T15:04:18.280541",
     "status": "failed"
    },
    "tags": []
   },
   "outputs": [
    {
     "ename": "PermissionError",
     "evalue": "[Errno 13] Permission denied: 'C:\\\\Users\\\\diego\\\\OneDrive\\\\Área de Trabalho\\\\projects\\\\insiders_clustering\\\\src\\\\data'",
     "output_type": "error",
     "traceback": [
      "\u001b[1;31m---------------------------------------------------------------------------\u001b[0m",
      "\u001b[1;31mPermissionError\u001b[0m                           Traceback (most recent call last)",
      "Input \u001b[1;32mIn [38]\u001b[0m, in \u001b[0;36m<cell line: 2>\u001b[1;34m()\u001b[0m\n\u001b[0;32m      1\u001b[0m df5 \u001b[38;5;241m=\u001b[39m df_tree\u001b[38;5;241m.\u001b[39mcopy()\n\u001b[1;32m----> 2\u001b[0m \u001b[43mdf5\u001b[49m\u001b[38;5;241;43m.\u001b[39;49m\u001b[43mto_csv\u001b[49m\u001b[43m(\u001b[49m\u001b[38;5;124;43mr\u001b[39;49m\u001b[38;5;124;43m'\u001b[39;49m\u001b[38;5;124;43mC:\u001b[39;49m\u001b[38;5;124;43m\\\u001b[39;49m\u001b[38;5;124;43mUsers\u001b[39;49m\u001b[38;5;124;43m\\\u001b[39;49m\u001b[38;5;124;43mdiego\u001b[39;49m\u001b[38;5;124;43m\\\u001b[39;49m\u001b[38;5;124;43mOneDrive\u001b[39;49m\u001b[38;5;124;43m\\\u001b[39;49m\u001b[38;5;124;43mÁrea de Trabalho\u001b[39;49m\u001b[38;5;124;43m\\\u001b[39;49m\u001b[38;5;124;43mprojects\u001b[39;49m\u001b[38;5;124;43m\\\u001b[39;49m\u001b[38;5;124;43minsiders_clustering\u001b[39;49m\u001b[38;5;124;43m\\\u001b[39;49m\u001b[38;5;124;43msrc\u001b[39;49m\u001b[38;5;124;43m\\\u001b[39;49m\u001b[38;5;124;43mdata\u001b[39;49m\u001b[38;5;124;43m'\u001b[39;49m\u001b[43m,\u001b[49m\u001b[43m \u001b[49m\u001b[43mindex\u001b[49m\u001b[38;5;241;43m=\u001b[39;49m\u001b[38;5;28;43;01mFalse\u001b[39;49;00m\u001b[43m)\u001b[49m\n",
      "File \u001b[1;32m~\\anaconda3\\lib\\site-packages\\pandas\\core\\generic.py:3551\u001b[0m, in \u001b[0;36mNDFrame.to_csv\u001b[1;34m(self, path_or_buf, sep, na_rep, float_format, columns, header, index, index_label, mode, encoding, compression, quoting, quotechar, line_terminator, chunksize, date_format, doublequote, escapechar, decimal, errors, storage_options)\u001b[0m\n\u001b[0;32m   3540\u001b[0m df \u001b[38;5;241m=\u001b[39m \u001b[38;5;28mself\u001b[39m \u001b[38;5;28;01mif\u001b[39;00m \u001b[38;5;28misinstance\u001b[39m(\u001b[38;5;28mself\u001b[39m, ABCDataFrame) \u001b[38;5;28;01melse\u001b[39;00m \u001b[38;5;28mself\u001b[39m\u001b[38;5;241m.\u001b[39mto_frame()\n\u001b[0;32m   3542\u001b[0m formatter \u001b[38;5;241m=\u001b[39m DataFrameFormatter(\n\u001b[0;32m   3543\u001b[0m     frame\u001b[38;5;241m=\u001b[39mdf,\n\u001b[0;32m   3544\u001b[0m     header\u001b[38;5;241m=\u001b[39mheader,\n\u001b[1;32m   (...)\u001b[0m\n\u001b[0;32m   3548\u001b[0m     decimal\u001b[38;5;241m=\u001b[39mdecimal,\n\u001b[0;32m   3549\u001b[0m )\n\u001b[1;32m-> 3551\u001b[0m \u001b[38;5;28;01mreturn\u001b[39;00m \u001b[43mDataFrameRenderer\u001b[49m\u001b[43m(\u001b[49m\u001b[43mformatter\u001b[49m\u001b[43m)\u001b[49m\u001b[38;5;241;43m.\u001b[39;49m\u001b[43mto_csv\u001b[49m\u001b[43m(\u001b[49m\n\u001b[0;32m   3552\u001b[0m \u001b[43m    \u001b[49m\u001b[43mpath_or_buf\u001b[49m\u001b[43m,\u001b[49m\n\u001b[0;32m   3553\u001b[0m \u001b[43m    \u001b[49m\u001b[43mline_terminator\u001b[49m\u001b[38;5;241;43m=\u001b[39;49m\u001b[43mline_terminator\u001b[49m\u001b[43m,\u001b[49m\n\u001b[0;32m   3554\u001b[0m \u001b[43m    \u001b[49m\u001b[43msep\u001b[49m\u001b[38;5;241;43m=\u001b[39;49m\u001b[43msep\u001b[49m\u001b[43m,\u001b[49m\n\u001b[0;32m   3555\u001b[0m \u001b[43m    \u001b[49m\u001b[43mencoding\u001b[49m\u001b[38;5;241;43m=\u001b[39;49m\u001b[43mencoding\u001b[49m\u001b[43m,\u001b[49m\n\u001b[0;32m   3556\u001b[0m \u001b[43m    \u001b[49m\u001b[43merrors\u001b[49m\u001b[38;5;241;43m=\u001b[39;49m\u001b[43merrors\u001b[49m\u001b[43m,\u001b[49m\n\u001b[0;32m   3557\u001b[0m \u001b[43m    \u001b[49m\u001b[43mcompression\u001b[49m\u001b[38;5;241;43m=\u001b[39;49m\u001b[43mcompression\u001b[49m\u001b[43m,\u001b[49m\n\u001b[0;32m   3558\u001b[0m \u001b[43m    \u001b[49m\u001b[43mquoting\u001b[49m\u001b[38;5;241;43m=\u001b[39;49m\u001b[43mquoting\u001b[49m\u001b[43m,\u001b[49m\n\u001b[0;32m   3559\u001b[0m \u001b[43m    \u001b[49m\u001b[43mcolumns\u001b[49m\u001b[38;5;241;43m=\u001b[39;49m\u001b[43mcolumns\u001b[49m\u001b[43m,\u001b[49m\n\u001b[0;32m   3560\u001b[0m \u001b[43m    \u001b[49m\u001b[43mindex_label\u001b[49m\u001b[38;5;241;43m=\u001b[39;49m\u001b[43mindex_label\u001b[49m\u001b[43m,\u001b[49m\n\u001b[0;32m   3561\u001b[0m \u001b[43m    \u001b[49m\u001b[43mmode\u001b[49m\u001b[38;5;241;43m=\u001b[39;49m\u001b[43mmode\u001b[49m\u001b[43m,\u001b[49m\n\u001b[0;32m   3562\u001b[0m \u001b[43m    \u001b[49m\u001b[43mchunksize\u001b[49m\u001b[38;5;241;43m=\u001b[39;49m\u001b[43mchunksize\u001b[49m\u001b[43m,\u001b[49m\n\u001b[0;32m   3563\u001b[0m \u001b[43m    \u001b[49m\u001b[43mquotechar\u001b[49m\u001b[38;5;241;43m=\u001b[39;49m\u001b[43mquotechar\u001b[49m\u001b[43m,\u001b[49m\n\u001b[0;32m   3564\u001b[0m \u001b[43m    \u001b[49m\u001b[43mdate_format\u001b[49m\u001b[38;5;241;43m=\u001b[39;49m\u001b[43mdate_format\u001b[49m\u001b[43m,\u001b[49m\n\u001b[0;32m   3565\u001b[0m \u001b[43m    \u001b[49m\u001b[43mdoublequote\u001b[49m\u001b[38;5;241;43m=\u001b[39;49m\u001b[43mdoublequote\u001b[49m\u001b[43m,\u001b[49m\n\u001b[0;32m   3566\u001b[0m \u001b[43m    \u001b[49m\u001b[43mescapechar\u001b[49m\u001b[38;5;241;43m=\u001b[39;49m\u001b[43mescapechar\u001b[49m\u001b[43m,\u001b[49m\n\u001b[0;32m   3567\u001b[0m \u001b[43m    \u001b[49m\u001b[43mstorage_options\u001b[49m\u001b[38;5;241;43m=\u001b[39;49m\u001b[43mstorage_options\u001b[49m\u001b[43m,\u001b[49m\n\u001b[0;32m   3568\u001b[0m \u001b[43m\u001b[49m\u001b[43m)\u001b[49m\n",
      "File \u001b[1;32m~\\anaconda3\\lib\\site-packages\\pandas\\io\\formats\\format.py:1180\u001b[0m, in \u001b[0;36mDataFrameRenderer.to_csv\u001b[1;34m(self, path_or_buf, encoding, sep, columns, index_label, mode, compression, quoting, quotechar, line_terminator, chunksize, date_format, doublequote, escapechar, errors, storage_options)\u001b[0m\n\u001b[0;32m   1159\u001b[0m     created_buffer \u001b[38;5;241m=\u001b[39m \u001b[38;5;28;01mFalse\u001b[39;00m\n\u001b[0;32m   1161\u001b[0m csv_formatter \u001b[38;5;241m=\u001b[39m CSVFormatter(\n\u001b[0;32m   1162\u001b[0m     path_or_buf\u001b[38;5;241m=\u001b[39mpath_or_buf,\n\u001b[0;32m   1163\u001b[0m     line_terminator\u001b[38;5;241m=\u001b[39mline_terminator,\n\u001b[1;32m   (...)\u001b[0m\n\u001b[0;32m   1178\u001b[0m     formatter\u001b[38;5;241m=\u001b[39m\u001b[38;5;28mself\u001b[39m\u001b[38;5;241m.\u001b[39mfmt,\n\u001b[0;32m   1179\u001b[0m )\n\u001b[1;32m-> 1180\u001b[0m \u001b[43mcsv_formatter\u001b[49m\u001b[38;5;241;43m.\u001b[39;49m\u001b[43msave\u001b[49m\u001b[43m(\u001b[49m\u001b[43m)\u001b[49m\n\u001b[0;32m   1182\u001b[0m \u001b[38;5;28;01mif\u001b[39;00m created_buffer:\n\u001b[0;32m   1183\u001b[0m     \u001b[38;5;28;01massert\u001b[39;00m \u001b[38;5;28misinstance\u001b[39m(path_or_buf, StringIO)\n",
      "File \u001b[1;32m~\\anaconda3\\lib\\site-packages\\pandas\\io\\formats\\csvs.py:241\u001b[0m, in \u001b[0;36mCSVFormatter.save\u001b[1;34m(self)\u001b[0m\n\u001b[0;32m    237\u001b[0m \u001b[38;5;124;03m\"\"\"\u001b[39;00m\n\u001b[0;32m    238\u001b[0m \u001b[38;5;124;03mCreate the writer & save.\u001b[39;00m\n\u001b[0;32m    239\u001b[0m \u001b[38;5;124;03m\"\"\"\u001b[39;00m\n\u001b[0;32m    240\u001b[0m \u001b[38;5;66;03m# apply compression and byte/text conversion\u001b[39;00m\n\u001b[1;32m--> 241\u001b[0m \u001b[38;5;28;01mwith\u001b[39;00m \u001b[43mget_handle\u001b[49m\u001b[43m(\u001b[49m\n\u001b[0;32m    242\u001b[0m \u001b[43m    \u001b[49m\u001b[38;5;28;43mself\u001b[39;49m\u001b[38;5;241;43m.\u001b[39;49m\u001b[43mfilepath_or_buffer\u001b[49m\u001b[43m,\u001b[49m\n\u001b[0;32m    243\u001b[0m \u001b[43m    \u001b[49m\u001b[38;5;28;43mself\u001b[39;49m\u001b[38;5;241;43m.\u001b[39;49m\u001b[43mmode\u001b[49m\u001b[43m,\u001b[49m\n\u001b[0;32m    244\u001b[0m \u001b[43m    \u001b[49m\u001b[43mencoding\u001b[49m\u001b[38;5;241;43m=\u001b[39;49m\u001b[38;5;28;43mself\u001b[39;49m\u001b[38;5;241;43m.\u001b[39;49m\u001b[43mencoding\u001b[49m\u001b[43m,\u001b[49m\n\u001b[0;32m    245\u001b[0m \u001b[43m    \u001b[49m\u001b[43merrors\u001b[49m\u001b[38;5;241;43m=\u001b[39;49m\u001b[38;5;28;43mself\u001b[39;49m\u001b[38;5;241;43m.\u001b[39;49m\u001b[43merrors\u001b[49m\u001b[43m,\u001b[49m\n\u001b[0;32m    246\u001b[0m \u001b[43m    \u001b[49m\u001b[43mcompression\u001b[49m\u001b[38;5;241;43m=\u001b[39;49m\u001b[38;5;28;43mself\u001b[39;49m\u001b[38;5;241;43m.\u001b[39;49m\u001b[43mcompression\u001b[49m\u001b[43m,\u001b[49m\n\u001b[0;32m    247\u001b[0m \u001b[43m    \u001b[49m\u001b[43mstorage_options\u001b[49m\u001b[38;5;241;43m=\u001b[39;49m\u001b[38;5;28;43mself\u001b[39;49m\u001b[38;5;241;43m.\u001b[39;49m\u001b[43mstorage_options\u001b[49m\u001b[43m,\u001b[49m\n\u001b[0;32m    248\u001b[0m \u001b[43m\u001b[49m\u001b[43m)\u001b[49m \u001b[38;5;28;01mas\u001b[39;00m handles:\n\u001b[0;32m    249\u001b[0m \n\u001b[0;32m    250\u001b[0m     \u001b[38;5;66;03m# Note: self.encoding is irrelevant here\u001b[39;00m\n\u001b[0;32m    251\u001b[0m     \u001b[38;5;28mself\u001b[39m\u001b[38;5;241m.\u001b[39mwriter \u001b[38;5;241m=\u001b[39m csvlib\u001b[38;5;241m.\u001b[39mwriter(\n\u001b[0;32m    252\u001b[0m         handles\u001b[38;5;241m.\u001b[39mhandle,\n\u001b[0;32m    253\u001b[0m         lineterminator\u001b[38;5;241m=\u001b[39m\u001b[38;5;28mself\u001b[39m\u001b[38;5;241m.\u001b[39mline_terminator,\n\u001b[1;32m   (...)\u001b[0m\n\u001b[0;32m    258\u001b[0m         quotechar\u001b[38;5;241m=\u001b[39m\u001b[38;5;28mself\u001b[39m\u001b[38;5;241m.\u001b[39mquotechar,\n\u001b[0;32m    259\u001b[0m     )\n\u001b[0;32m    261\u001b[0m     \u001b[38;5;28mself\u001b[39m\u001b[38;5;241m.\u001b[39m_save()\n",
      "File \u001b[1;32m~\\anaconda3\\lib\\site-packages\\pandas\\io\\common.py:789\u001b[0m, in \u001b[0;36mget_handle\u001b[1;34m(path_or_buf, mode, encoding, compression, memory_map, is_text, errors, storage_options)\u001b[0m\n\u001b[0;32m    784\u001b[0m \u001b[38;5;28;01melif\u001b[39;00m \u001b[38;5;28misinstance\u001b[39m(handle, \u001b[38;5;28mstr\u001b[39m):\n\u001b[0;32m    785\u001b[0m     \u001b[38;5;66;03m# Check whether the filename is to be opened in binary mode.\u001b[39;00m\n\u001b[0;32m    786\u001b[0m     \u001b[38;5;66;03m# Binary mode does not support 'encoding' and 'newline'.\u001b[39;00m\n\u001b[0;32m    787\u001b[0m     \u001b[38;5;28;01mif\u001b[39;00m ioargs\u001b[38;5;241m.\u001b[39mencoding \u001b[38;5;129;01mand\u001b[39;00m \u001b[38;5;124m\"\u001b[39m\u001b[38;5;124mb\u001b[39m\u001b[38;5;124m\"\u001b[39m \u001b[38;5;129;01mnot\u001b[39;00m \u001b[38;5;129;01min\u001b[39;00m ioargs\u001b[38;5;241m.\u001b[39mmode:\n\u001b[0;32m    788\u001b[0m         \u001b[38;5;66;03m# Encoding\u001b[39;00m\n\u001b[1;32m--> 789\u001b[0m         handle \u001b[38;5;241m=\u001b[39m \u001b[38;5;28;43mopen\u001b[39;49m\u001b[43m(\u001b[49m\n\u001b[0;32m    790\u001b[0m \u001b[43m            \u001b[49m\u001b[43mhandle\u001b[49m\u001b[43m,\u001b[49m\n\u001b[0;32m    791\u001b[0m \u001b[43m            \u001b[49m\u001b[43mioargs\u001b[49m\u001b[38;5;241;43m.\u001b[39;49m\u001b[43mmode\u001b[49m\u001b[43m,\u001b[49m\n\u001b[0;32m    792\u001b[0m \u001b[43m            \u001b[49m\u001b[43mencoding\u001b[49m\u001b[38;5;241;43m=\u001b[39;49m\u001b[43mioargs\u001b[49m\u001b[38;5;241;43m.\u001b[39;49m\u001b[43mencoding\u001b[49m\u001b[43m,\u001b[49m\n\u001b[0;32m    793\u001b[0m \u001b[43m            \u001b[49m\u001b[43merrors\u001b[49m\u001b[38;5;241;43m=\u001b[39;49m\u001b[43merrors\u001b[49m\u001b[43m,\u001b[49m\n\u001b[0;32m    794\u001b[0m \u001b[43m            \u001b[49m\u001b[43mnewline\u001b[49m\u001b[38;5;241;43m=\u001b[39;49m\u001b[38;5;124;43m\"\u001b[39;49m\u001b[38;5;124;43m\"\u001b[39;49m\u001b[43m,\u001b[49m\n\u001b[0;32m    795\u001b[0m \u001b[43m        \u001b[49m\u001b[43m)\u001b[49m\n\u001b[0;32m    796\u001b[0m     \u001b[38;5;28;01melse\u001b[39;00m:\n\u001b[0;32m    797\u001b[0m         \u001b[38;5;66;03m# Binary mode\u001b[39;00m\n\u001b[0;32m    798\u001b[0m         handle \u001b[38;5;241m=\u001b[39m \u001b[38;5;28mopen\u001b[39m(handle, ioargs\u001b[38;5;241m.\u001b[39mmode)\n",
      "\u001b[1;31mPermissionError\u001b[0m: [Errno 13] Permission denied: 'C:\\\\Users\\\\diego\\\\OneDrive\\\\Área de Trabalho\\\\projects\\\\insiders_clustering\\\\src\\\\data'"
     ]
    }
   ],
   "source": [
    "df5 = df_tree.copy()\n",
    "df5.to_csv(r'C:\\Users\\diego\\OneDrive\\Área de Trabalho\\projects\\insiders_clustering\\src\\data', index=False)"
   ]
  },
  {
   "cell_type": "markdown",
   "id": "e1f41aab",
   "metadata": {
    "papermill": {
     "duration": null,
     "end_time": null,
     "exception": null,
     "start_time": null,
     "status": "pending"
    },
    "tags": []
   },
   "source": [
    "#  7.0 HYPERPARAMETER FINE-TUNING"
   ]
  },
  {
   "cell_type": "code",
   "execution_count": null,
   "id": "34b18ec7",
   "metadata": {
    "papermill": {
     "duration": null,
     "end_time": null,
     "exception": null,
     "start_time": null,
     "status": "pending"
    },
    "tags": []
   },
   "outputs": [],
   "source": [
    "X = df_tree.copy()\n",
    "# X = df_tsne.copy()"
   ]
  },
  {
   "cell_type": "markdown",
   "id": "968b123d",
   "metadata": {
    "papermill": {
     "duration": null,
     "end_time": null,
     "exception": null,
     "start_time": null,
     "status": "pending"
    },
    "tags": []
   },
   "source": [
    "#  8.0 MODEL TRAINING"
   ]
  },
  {
   "cell_type": "markdown",
   "id": "9d13a05b",
   "metadata": {
    "papermill": {
     "duration": null,
     "end_time": null,
     "exception": null,
     "start_time": null,
     "status": "pending"
    },
    "tags": []
   },
   "source": [
    "## 8.1 Final Model"
   ]
  },
  {
   "cell_type": "code",
   "execution_count": null,
   "id": "3e839694",
   "metadata": {
    "papermill": {
     "duration": null,
     "end_time": null,
     "exception": null,
     "start_time": null,
     "status": "pending"
    },
    "tags": []
   },
   "outputs": [],
   "source": [
    "# model definition\n",
    "k = 6\n",
    "kmeans = c.KMeans(init='random', n_clusters=k, n_init=10, max_iter=300, random_state=42)\n",
    "\n",
    "# model training\n",
    "kmeans.fit(X)\n",
    "\n",
    "# clustering\n",
    "labels = kmeans.labels_"
   ]
  },
  {
   "cell_type": "markdown",
   "id": "bc73e1a9",
   "metadata": {
    "papermill": {
     "duration": null,
     "end_time": null,
     "exception": null,
     "start_time": null,
     "status": "pending"
    },
    "tags": []
   },
   "source": [
    "## 8.2 Cluster Validation"
   ]
  },
  {
   "cell_type": "code",
   "execution_count": null,
   "id": "f661f380",
   "metadata": {
    "papermill": {
     "duration": null,
     "end_time": null,
     "exception": null,
     "start_time": null,
     "status": "pending"
    },
    "tags": []
   },
   "outputs": [],
   "source": [
    "## WSS (Within-cluster Sum of Square)\n",
    "print('wss value: {}'.format(kmeans.inertia_))\n",
    "\n",
    "## SS (Silhouette Score)\n",
    "print('SS value: {}'. format(m.silhouette_score(X, labels, metric='euclidean')))\n"
   ]
  },
  {
   "cell_type": "markdown",
   "id": "94554c98",
   "metadata": {
    "papermill": {
     "duration": null,
     "end_time": null,
     "exception": null,
     "start_time": null,
     "status": "pending"
    },
    "tags": []
   },
   "source": [
    "## 9.2 Cluster profile"
   ]
  },
  {
   "cell_type": "code",
   "execution_count": null,
   "id": "4ece3a14",
   "metadata": {
    "papermill": {
     "duration": null,
     "end_time": null,
     "exception": null,
     "start_time": null,
     "status": "pending"
    },
    "tags": []
   },
   "outputs": [],
   "source": [
    "df92 = df4[cols_selected].copy()\n",
    "df92['cluster'] = labels\n",
    "df92.head()\n",
    "\n",
    "# change the types\n",
    "df92['recency_days'] = df92['recency_days'].astype(np.int64)\n",
    "df92['total_quantity'] = df92['total_quantity'].astype(np.int64)\n",
    "df92['qty_returns'] = df92['qty_returns'].astype(np.int64)\n",
    "\n",
    "# df92['last_training_timestamp'] = datetime.now().strftime('%Y-%m-%d %H:%M:%S')\n",
    "\n",
    "df92.head()"
   ]
  },
  {
   "cell_type": "code",
   "execution_count": null,
   "id": "20c1f60f",
   "metadata": {
    "papermill": {
     "duration": null,
     "end_time": null,
     "exception": null,
     "start_time": null,
     "status": "pending"
    },
    "tags": []
   },
   "outputs": [],
   "source": [
    "# number of customers\n",
    "df_cluster = df92[['customer_id','cluster']].groupby('cluster').count().reset_index()\n",
    "df_cluster['perc_cluster'] = (df_cluster['customer_id']/df_cluster['customer_id'].sum())*100\n",
    "\n",
    "# Avg Gross revenue\n",
    "df_avg_gross_revenue = df92[['gross_revenue', 'cluster']].groupby('cluster').mean().reset_index()\n",
    "df_cluster = pd.merge(df_cluster, df_avg_gross_revenue, how='inner', on='cluster')\n",
    "\n",
    "# Avg recency days\n",
    "df_recency_days = df92[['recency_days', 'cluster']].groupby('cluster').mean().reset_index()\n",
    "df_cluster = pd.merge(df_cluster, df_recency_days, how='inner', on='cluster')\n",
    "\n",
    "# Avg quantity\n",
    "df_qty = df92[['total_quantity', 'cluster']].groupby('cluster').mean().reset_index()\n",
    "df_cluster = pd.merge(df_cluster, df_qty, how='inner', on='cluster')\n",
    "\n",
    "# frequency\n",
    "df_frequency = df92[['frequency', 'cluster']].groupby('cluster').mean().reset_index()\n",
    "df_cluster = pd.merge(df_cluster, df_frequency, how='inner', on='cluster')\n",
    "\n",
    "# qty_returns\n",
    "df_returns = df92[['qty_returns', 'cluster']].groupby('cluster').mean().reset_index()\n",
    "df_cluster = pd.merge(df_cluster, df_returns, how='inner', on='cluster')\n",
    "\n",
    "df_cluster.sort_values('gross_revenue', ascending=False)"
   ]
  },
  {
   "cell_type": "markdown",
   "id": "1e27be56",
   "metadata": {
    "papermill": {
     "duration": null,
     "end_time": null,
     "exception": null,
     "start_time": null,
     "status": "pending"
    },
    "tags": []
   },
   "source": [
    "# 10.0 DEPLOY TO PRODUCTION"
   ]
  },
  {
   "cell_type": "code",
   "execution_count": null,
   "id": "43e8d926",
   "metadata": {
    "papermill": {
     "duration": null,
     "end_time": null,
     "exception": null,
     "start_time": null,
     "status": "pending"
    },
    "tags": []
   },
   "outputs": [],
   "source": [
    "df92.dtypes"
   ]
  },
  {
   "cell_type": "markdown",
   "id": "88ba86cf",
   "metadata": {
    "papermill": {
     "duration": null,
     "end_time": null,
     "exception": null,
     "start_time": null,
     "status": "pending"
    },
    "tags": []
   },
   "source": [
    "## 10.1 Insert into SQLITE"
   ]
  },
  {
   "cell_type": "code",
   "execution_count": null,
   "id": "85537398",
   "metadata": {
    "papermill": {
     "duration": null,
     "end_time": null,
     "exception": null,
     "start_time": null,
     "status": "pending"
    },
    "tags": []
   },
   "outputs": [],
   "source": [
    "# database connection\n",
    "conn = create_engine('sqlite:///insiders_db.sqlite')\n",
    "\n",
    "# drop table\n",
    "query_drop_insiders = \"\"\"\n",
    "    DROP TABLE insiders\n",
    "\n",
    "\n",
    "\"\"\"\n",
    "\n",
    "# create table\n",
    "query_create_table_insiders = \"\"\"\n",
    "    CREATE TABLE insiders (\n",
    "        customer_id     INTEGER,\n",
    "        gross_revenue   REAL,\n",
    "        recency_days    INTEGER,\n",
    "        total_quantity  INTEGER,\n",
    "        frequency       REAL,\n",
    "        qty_returns     INTEGER,\n",
    "        cluster         INTEGER\n",
    "        ) \"\"\"\n",
    "\n",
    "conn.execute(query_drop_insiders)\n",
    "\n",
    "# insert data\n",
    "df92.to_sql('insiders', con=conn, if_exists='append', index=False)\n",
    "\n",
    "# select data"
   ]
  },
  {
   "cell_type": "code",
   "execution_count": null,
   "id": "6f544ed3",
   "metadata": {
    "papermill": {
     "duration": null,
     "end_time": null,
     "exception": null,
     "start_time": null,
     "status": "pending"
    },
    "tags": []
   },
   "outputs": [],
   "source": [
    "# consulting database\n",
    "# query = \"\"\"\n",
    "#     SELECT * FROM insiders\n",
    "#     \"\"\"\n",
    "\n",
    "# df = pd.read_sql_query(query, conn)\n",
    "# df.head()"
   ]
  },
  {
   "cell_type": "code",
   "execution_count": null,
   "id": "b26f9e26",
   "metadata": {
    "papermill": {
     "duration": null,
     "end_time": null,
     "exception": null,
     "start_time": null,
     "status": "pending"
    },
    "tags": []
   },
   "outputs": [],
   "source": [
    "df.head()"
   ]
  },
  {
   "cell_type": "code",
   "execution_count": null,
   "id": "f00df522",
   "metadata": {
    "papermill": {
     "duration": null,
     "end_time": null,
     "exception": null,
     "start_time": null,
     "status": "pending"
    },
    "tags": []
   },
   "outputs": [],
   "source": []
  }
 ],
 "metadata": {
  "kernelspec": {
   "display_name": "Python 3.9.12 ('base')",
   "language": "python",
   "name": "python3"
  },
  "language_info": {
   "codemirror_mode": {
    "name": "ipython",
    "version": 3
   },
   "file_extension": ".py",
   "mimetype": "text/x-python",
   "name": "python",
   "nbconvert_exporter": "python",
   "pygments_lexer": "ipython3",
   "version": "3.9.12"
  },
  "papermill": {
   "default_parameters": {},
   "duration": 90.964857,
   "end_time": "2022-10-25T15:04:22.032044",
   "environment_variables": {},
   "exception": true,
   "input_path": "src/models/insiders_clustering_deploy.ipynb",
   "output_path": "reports/insiders_clustering_deploy_2022_10_25.ipynb",
   "parameters": {},
   "start_time": "2022-10-25T15:02:51.067187",
   "version": "2.4.0"
  },
  "vscode": {
   "interpreter": {
    "hash": "465bc43bf4cbae58c142e3527ff2b05702dd810bc8ebc4f627e0af6c067b87a4"
   }
  }
 },
 "nbformat": 4,
 "nbformat_minor": 5
}
