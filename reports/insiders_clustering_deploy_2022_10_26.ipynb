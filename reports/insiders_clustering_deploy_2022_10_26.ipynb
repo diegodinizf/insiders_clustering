{
 "cells": [
  {
   "cell_type": "markdown",
   "id": "7ffe4ebd",
   "metadata": {
    "tags": [
     "papermill-error-cell-tag"
    ]
   },
   "source": [
    "<span style=\"color:red; font-family:Helvetica Neue, Helvetica, Arial, sans-serif; font-size:2em;\">An Exception was encountered at '<a href=\"#papermill-error-cell\">In [45]</a>'.</span>"
   ]
  },
  {
   "cell_type": "markdown",
   "id": "32a3b771",
   "metadata": {
    "papermill": {
     "duration": 0.014006,
     "end_time": "2022-10-27T02:03:40.723285",
     "exception": false,
     "start_time": "2022-10-27T02:03:40.709279",
     "status": "completed"
    },
    "tags": []
   },
   "source": [
    "## 0.1 Imports"
   ]
  },
  {
   "cell_type": "code",
   "execution_count": 1,
   "id": "555f2191",
   "metadata": {
    "execution": {
     "iopub.execute_input": "2022-10-27T02:03:40.746277Z",
     "iopub.status.busy": "2022-10-27T02:03:40.746277Z",
     "iopub.status.idle": "2022-10-27T02:03:50.142463Z",
     "shell.execute_reply": "2022-10-27T02:03:50.141569Z"
    },
    "papermill": {
     "duration": 9.40918,
     "end_time": "2022-10-27T02:03:50.144462",
     "exception": false,
     "start_time": "2022-10-27T02:03:40.735282",
     "status": "completed"
    },
    "tags": []
   },
   "outputs": [],
   "source": [
    "import numpy as np\n",
    "import pandas as pd\n",
    "import seaborn as sns\n",
    "import umap.umap_ as umap\n",
    "import re\n",
    "\n",
    "from matplotlib import pyplot as plt\n",
    "from datetime import datetime\n",
    "\n",
    "from matplotlib import cm\n",
    "\n",
    "from sklearn import metrics as m\n",
    "from sklearn import cluster as c\n",
    "from sklearn import preprocessing as pp\n",
    "from sklearn import decomposition as dd\n",
    "from sklearn.manifold import TSNE\n",
    "from sklearn.neighbors import NearestNeighbors\n",
    "from sklearn import mixture as mx\n",
    "from scipy.cluster import hierarchy as hc\n",
    "from sklearn import ensemble as en\n",
    "import sqlite3\n",
    "from sqlalchemy import create_engine\n",
    "\n",
    "from plotly import express as px"
   ]
  },
  {
   "cell_type": "markdown",
   "id": "245c6ccf",
   "metadata": {
    "papermill": {
     "duration": 0.013999,
     "end_time": "2022-10-27T02:03:50.171461",
     "exception": false,
     "start_time": "2022-10-27T02:03:50.157462",
     "status": "completed"
    },
    "tags": []
   },
   "source": [
    "## 0.3 Load dataset"
   ]
  },
  {
   "cell_type": "code",
   "execution_count": 2,
   "id": "db45a035",
   "metadata": {
    "execution": {
     "iopub.execute_input": "2022-10-27T02:03:50.194497Z",
     "iopub.status.busy": "2022-10-27T02:03:50.194497Z",
     "iopub.status.idle": "2022-10-27T02:03:51.031464Z",
     "shell.execute_reply": "2022-10-27T02:03:51.030465Z"
    },
    "papermill": {
     "duration": 0.850965,
     "end_time": "2022-10-27T02:03:51.033464",
     "exception": false,
     "start_time": "2022-10-27T02:03:50.182499",
     "status": "completed"
    },
    "tags": []
   },
   "outputs": [],
   "source": [
    "# load data\n",
    "df_raw = pd.read_csv(r\"C:\\Users\\diego\\OneDrive\\Área de Trabalho\\projects\\insiders_clustering\\data\\Ecommerce.csv\", encoding='unicode_escape')\n",
    "\n",
    "# drop extra column\n",
    "df_raw = df_raw.drop(columns=['Unnamed: 8'], axis=1)\n",
    "\n"
   ]
  },
  {
   "cell_type": "markdown",
   "id": "3a863209",
   "metadata": {
    "papermill": {
     "duration": 0.017006,
     "end_time": "2022-10-27T02:03:51.063470",
     "exception": false,
     "start_time": "2022-10-27T02:03:51.046464",
     "status": "completed"
    },
    "tags": []
   },
   "source": [
    "# 1.0 DATA DESCRIPTION"
   ]
  },
  {
   "cell_type": "code",
   "execution_count": 3,
   "id": "d531ed68",
   "metadata": {
    "execution": {
     "iopub.execute_input": "2022-10-27T02:03:51.092467Z",
     "iopub.status.busy": "2022-10-27T02:03:51.092467Z",
     "iopub.status.idle": "2022-10-27T02:03:51.127461Z",
     "shell.execute_reply": "2022-10-27T02:03:51.126460Z"
    },
    "papermill": {
     "duration": 0.052999,
     "end_time": "2022-10-27T02:03:51.130461",
     "exception": false,
     "start_time": "2022-10-27T02:03:51.077462",
     "status": "completed"
    },
    "tags": []
   },
   "outputs": [],
   "source": [
    "df1 = df_raw.copy()"
   ]
  },
  {
   "cell_type": "code",
   "execution_count": 4,
   "id": "210398be",
   "metadata": {
    "execution": {
     "iopub.execute_input": "2022-10-27T02:03:51.166465Z",
     "iopub.status.busy": "2022-10-27T02:03:51.166465Z",
     "iopub.status.idle": "2022-10-27T02:03:51.205460Z",
     "shell.execute_reply": "2022-10-27T02:03:51.204458Z"
    },
    "papermill": {
     "duration": 0.058992,
     "end_time": "2022-10-27T02:03:51.207461",
     "exception": false,
     "start_time": "2022-10-27T02:03:51.148469",
     "status": "completed"
    },
    "tags": []
   },
   "outputs": [
    {
     "data": {
      "text/html": [
       "<div>\n",
       "<style scoped>\n",
       "    .dataframe tbody tr th:only-of-type {\n",
       "        vertical-align: middle;\n",
       "    }\n",
       "\n",
       "    .dataframe tbody tr th {\n",
       "        vertical-align: top;\n",
       "    }\n",
       "\n",
       "    .dataframe thead th {\n",
       "        text-align: right;\n",
       "    }\n",
       "</style>\n",
       "<table border=\"1\" class=\"dataframe\">\n",
       "  <thead>\n",
       "    <tr style=\"text-align: right;\">\n",
       "      <th></th>\n",
       "      <th>InvoiceNo</th>\n",
       "      <th>StockCode</th>\n",
       "      <th>Description</th>\n",
       "      <th>Quantity</th>\n",
       "      <th>InvoiceDate</th>\n",
       "      <th>UnitPrice</th>\n",
       "      <th>CustomerID</th>\n",
       "      <th>Country</th>\n",
       "    </tr>\n",
       "  </thead>\n",
       "  <tbody>\n",
       "    <tr>\n",
       "      <th>0</th>\n",
       "      <td>536365</td>\n",
       "      <td>85123A</td>\n",
       "      <td>WHITE HANGING HEART T-LIGHT HOLDER</td>\n",
       "      <td>6</td>\n",
       "      <td>29-Nov-16</td>\n",
       "      <td>2.55</td>\n",
       "      <td>17850.0</td>\n",
       "      <td>United Kingdom</td>\n",
       "    </tr>\n",
       "    <tr>\n",
       "      <th>1</th>\n",
       "      <td>536365</td>\n",
       "      <td>71053</td>\n",
       "      <td>WHITE METAL LANTERN</td>\n",
       "      <td>6</td>\n",
       "      <td>29-Nov-16</td>\n",
       "      <td>3.39</td>\n",
       "      <td>17850.0</td>\n",
       "      <td>United Kingdom</td>\n",
       "    </tr>\n",
       "    <tr>\n",
       "      <th>2</th>\n",
       "      <td>536365</td>\n",
       "      <td>84406B</td>\n",
       "      <td>CREAM CUPID HEARTS COAT HANGER</td>\n",
       "      <td>8</td>\n",
       "      <td>29-Nov-16</td>\n",
       "      <td>2.75</td>\n",
       "      <td>17850.0</td>\n",
       "      <td>United Kingdom</td>\n",
       "    </tr>\n",
       "    <tr>\n",
       "      <th>3</th>\n",
       "      <td>536365</td>\n",
       "      <td>84029G</td>\n",
       "      <td>KNITTED UNION FLAG HOT WATER BOTTLE</td>\n",
       "      <td>6</td>\n",
       "      <td>29-Nov-16</td>\n",
       "      <td>3.39</td>\n",
       "      <td>17850.0</td>\n",
       "      <td>United Kingdom</td>\n",
       "    </tr>\n",
       "    <tr>\n",
       "      <th>4</th>\n",
       "      <td>536365</td>\n",
       "      <td>84029E</td>\n",
       "      <td>RED WOOLLY HOTTIE WHITE HEART.</td>\n",
       "      <td>6</td>\n",
       "      <td>29-Nov-16</td>\n",
       "      <td>3.39</td>\n",
       "      <td>17850.0</td>\n",
       "      <td>United Kingdom</td>\n",
       "    </tr>\n",
       "  </tbody>\n",
       "</table>\n",
       "</div>"
      ],
      "text/plain": [
       "  InvoiceNo StockCode                          Description  Quantity  \\\n",
       "0    536365    85123A   WHITE HANGING HEART T-LIGHT HOLDER         6   \n",
       "1    536365     71053                  WHITE METAL LANTERN         6   \n",
       "2    536365    84406B       CREAM CUPID HEARTS COAT HANGER         8   \n",
       "3    536365    84029G  KNITTED UNION FLAG HOT WATER BOTTLE         6   \n",
       "4    536365    84029E       RED WOOLLY HOTTIE WHITE HEART.         6   \n",
       "\n",
       "  InvoiceDate  UnitPrice  CustomerID         Country  \n",
       "0   29-Nov-16       2.55     17850.0  United Kingdom  \n",
       "1   29-Nov-16       3.39     17850.0  United Kingdom  \n",
       "2   29-Nov-16       2.75     17850.0  United Kingdom  \n",
       "3   29-Nov-16       3.39     17850.0  United Kingdom  \n",
       "4   29-Nov-16       3.39     17850.0  United Kingdom  "
      ]
     },
     "execution_count": 4,
     "metadata": {},
     "output_type": "execute_result"
    }
   ],
   "source": [
    "df1.head()"
   ]
  },
  {
   "cell_type": "markdown",
   "id": "7efdba98",
   "metadata": {
    "papermill": {
     "duration": 0.014,
     "end_time": "2022-10-27T02:03:51.236465",
     "exception": false,
     "start_time": "2022-10-27T02:03:51.222465",
     "status": "completed"
    },
    "tags": []
   },
   "source": [
    "## 1.1 Rename columns"
   ]
  },
  {
   "cell_type": "code",
   "execution_count": 5,
   "id": "103f9f77",
   "metadata": {
    "execution": {
     "iopub.execute_input": "2022-10-27T02:03:51.271466Z",
     "iopub.status.busy": "2022-10-27T02:03:51.271466Z",
     "iopub.status.idle": "2022-10-27T02:03:51.283459Z",
     "shell.execute_reply": "2022-10-27T02:03:51.283459Z"
    },
    "papermill": {
     "duration": 0.033005,
     "end_time": "2022-10-27T02:03:51.285463",
     "exception": false,
     "start_time": "2022-10-27T02:03:51.252458",
     "status": "completed"
    },
    "tags": []
   },
   "outputs": [],
   "source": [
    "cols_new = ['invoice_no', 'stock_code', 'description', 'quantity', 'invoice_date',\n",
    "       'unit_price', 'customer_id', 'country']\n",
    "df1.columns = cols_new"
   ]
  },
  {
   "cell_type": "markdown",
   "id": "4f617631",
   "metadata": {
    "papermill": {
     "duration": 0.013,
     "end_time": "2022-10-27T02:03:51.314462",
     "exception": false,
     "start_time": "2022-10-27T02:03:51.301462",
     "status": "completed"
    },
    "tags": []
   },
   "source": [
    "## 1.2 Data dimensions"
   ]
  },
  {
   "cell_type": "code",
   "execution_count": 6,
   "id": "0c8c4c09",
   "metadata": {
    "execution": {
     "iopub.execute_input": "2022-10-27T02:03:51.343459Z",
     "iopub.status.busy": "2022-10-27T02:03:51.343459Z",
     "iopub.status.idle": "2022-10-27T02:03:51.364461Z",
     "shell.execute_reply": "2022-10-27T02:03:51.363464Z"
    },
    "papermill": {
     "duration": 0.038993,
     "end_time": "2022-10-27T02:03:51.367459",
     "exception": false,
     "start_time": "2022-10-27T02:03:51.328466",
     "status": "completed"
    },
    "tags": []
   },
   "outputs": [
    {
     "name": "stdout",
     "output_type": "stream",
     "text": [
      "Number of rows: 541909\n",
      "Number of columns: 8\n"
     ]
    }
   ],
   "source": [
    "print('Number of rows: {}'.format(df1.shape[0]))\n",
    "print('Number of columns: {}'.format(df1.shape[1]))"
   ]
  },
  {
   "cell_type": "markdown",
   "id": "ac8d02b4",
   "metadata": {
    "papermill": {
     "duration": 0.017039,
     "end_time": "2022-10-27T02:03:51.401500",
     "exception": false,
     "start_time": "2022-10-27T02:03:51.384461",
     "status": "completed"
    },
    "tags": []
   },
   "source": [
    "## 1.3 Data types"
   ]
  },
  {
   "cell_type": "code",
   "execution_count": 7,
   "id": "3220da59",
   "metadata": {
    "execution": {
     "iopub.execute_input": "2022-10-27T02:03:51.432458Z",
     "iopub.status.busy": "2022-10-27T02:03:51.432458Z",
     "iopub.status.idle": "2022-10-27T02:03:51.442516Z",
     "shell.execute_reply": "2022-10-27T02:03:51.441670Z"
    },
    "papermill": {
     "duration": 0.026998,
     "end_time": "2022-10-27T02:03:51.443460",
     "exception": false,
     "start_time": "2022-10-27T02:03:51.416462",
     "status": "completed"
    },
    "tags": []
   },
   "outputs": [
    {
     "data": {
      "text/plain": [
       "invoice_no       object\n",
       "stock_code       object\n",
       "description      object\n",
       "quantity          int64\n",
       "invoice_date     object\n",
       "unit_price      float64\n",
       "customer_id     float64\n",
       "country          object\n",
       "dtype: object"
      ]
     },
     "execution_count": 7,
     "metadata": {},
     "output_type": "execute_result"
    }
   ],
   "source": [
    "df1.dtypes"
   ]
  },
  {
   "cell_type": "markdown",
   "id": "8deb764c",
   "metadata": {
    "papermill": {
     "duration": 0.012001,
     "end_time": "2022-10-27T02:03:51.467493",
     "exception": false,
     "start_time": "2022-10-27T02:03:51.455492",
     "status": "completed"
    },
    "tags": []
   },
   "source": [
    "## 1.4 Check NA"
   ]
  },
  {
   "cell_type": "code",
   "execution_count": 8,
   "id": "9c859256",
   "metadata": {
    "execution": {
     "iopub.execute_input": "2022-10-27T02:03:51.490465Z",
     "iopub.status.busy": "2022-10-27T02:03:51.490465Z",
     "iopub.status.idle": "2022-10-27T02:03:51.855521Z",
     "shell.execute_reply": "2022-10-27T02:03:51.854661Z"
    },
    "papermill": {
     "duration": 0.37903,
     "end_time": "2022-10-27T02:03:51.857494",
     "exception": false,
     "start_time": "2022-10-27T02:03:51.478464",
     "status": "completed"
    },
    "tags": []
   },
   "outputs": [
    {
     "data": {
      "text/plain": [
       "invoice_no           0\n",
       "stock_code           0\n",
       "description       1454\n",
       "quantity             0\n",
       "invoice_date         0\n",
       "unit_price           0\n",
       "customer_id     135080\n",
       "country              0\n",
       "dtype: int64"
      ]
     },
     "execution_count": 8,
     "metadata": {},
     "output_type": "execute_result"
    }
   ],
   "source": [
    "df1.isna().sum()"
   ]
  },
  {
   "cell_type": "markdown",
   "id": "fea7c590",
   "metadata": {
    "papermill": {
     "duration": 0.014013,
     "end_time": "2022-10-27T02:03:51.882508",
     "exception": false,
     "start_time": "2022-10-27T02:03:51.868495",
     "status": "completed"
    },
    "tags": []
   },
   "source": [
    "## 1.5 Replace NA"
   ]
  },
  {
   "cell_type": "code",
   "execution_count": 9,
   "id": "ff14f2ae",
   "metadata": {
    "execution": {
     "iopub.execute_input": "2022-10-27T02:03:51.906494Z",
     "iopub.status.busy": "2022-10-27T02:03:51.906494Z",
     "iopub.status.idle": "2022-10-27T02:03:51.950461Z",
     "shell.execute_reply": "2022-10-27T02:03:51.949738Z"
    },
    "papermill": {
     "duration": 0.059033,
     "end_time": "2022-10-27T02:03:51.952493",
     "exception": false,
     "start_time": "2022-10-27T02:03:51.893460",
     "status": "completed"
    },
    "tags": []
   },
   "outputs": [],
   "source": [
    "# spliting NA\n",
    "df_missing = df1.loc[df1['customer_id'].isna(), :]\n",
    "df_not_missing = df1.loc[~df1['customer_id'].isna(), :]"
   ]
  },
  {
   "cell_type": "code",
   "execution_count": 10,
   "id": "0acc7d2e",
   "metadata": {
    "execution": {
     "iopub.execute_input": "2022-10-27T02:03:51.975509Z",
     "iopub.status.busy": "2022-10-27T02:03:51.975509Z",
     "iopub.status.idle": "2022-10-27T02:03:52.141493Z",
     "shell.execute_reply": "2022-10-27T02:03:52.140662Z"
    },
    "papermill": {
     "duration": 0.179947,
     "end_time": "2022-10-27T02:03:52.143462",
     "exception": false,
     "start_time": "2022-10-27T02:03:51.963515",
     "status": "completed"
    },
    "tags": []
   },
   "outputs": [],
   "source": [
    "# create reference\n",
    "df_backup = pd.DataFrame(df_missing['invoice_no'].drop_duplicates())\n",
    "df_backup['customer_id'] = np.arange(19000, 19000+len(df_backup), 1)\n",
    "\n",
    "# merge original with reference dataframe\n",
    "df1 = pd.merge(df1, df_backup, how='left', on='invoice_no')\n",
    "\n",
    "# coalesce\n",
    "df1['customer_id'] = df1['customer_id_x'].combine_first(df1['customer_id_y'])\n",
    "\n",
    "# drop extra columns\n",
    "df1 = df1.drop(columns=['customer_id_x', 'customer_id_y'])"
   ]
  },
  {
   "cell_type": "code",
   "execution_count": 11,
   "id": "c907c0e6",
   "metadata": {
    "execution": {
     "iopub.execute_input": "2022-10-27T02:03:52.170502Z",
     "iopub.status.busy": "2022-10-27T02:03:52.169458Z",
     "iopub.status.idle": "2022-10-27T02:03:52.537464Z",
     "shell.execute_reply": "2022-10-27T02:03:52.536580Z"
    },
    "papermill": {
     "duration": 0.383,
     "end_time": "2022-10-27T02:03:52.538463",
     "exception": false,
     "start_time": "2022-10-27T02:03:52.155463",
     "status": "completed"
    },
    "tags": []
   },
   "outputs": [
    {
     "data": {
      "text/plain": [
       "invoice_no         0\n",
       "stock_code         0\n",
       "description     1454\n",
       "quantity           0\n",
       "invoice_date       0\n",
       "unit_price         0\n",
       "country            0\n",
       "customer_id        0\n",
       "dtype: int64"
      ]
     },
     "execution_count": 11,
     "metadata": {},
     "output_type": "execute_result"
    }
   ],
   "source": [
    "df1.isna().sum()"
   ]
  },
  {
   "cell_type": "markdown",
   "id": "3530a248",
   "metadata": {
    "papermill": {
     "duration": 0.010002,
     "end_time": "2022-10-27T02:03:52.558461",
     "exception": false,
     "start_time": "2022-10-27T02:03:52.548459",
     "status": "completed"
    },
    "tags": []
   },
   "source": [
    "## 1.6 Change dtypes"
   ]
  },
  {
   "cell_type": "code",
   "execution_count": 12,
   "id": "fddcc5db",
   "metadata": {
    "execution": {
     "iopub.execute_input": "2022-10-27T02:03:52.583458Z",
     "iopub.status.busy": "2022-10-27T02:03:52.583458Z",
     "iopub.status.idle": "2022-10-27T02:03:52.663464Z",
     "shell.execute_reply": "2022-10-27T02:03:52.662497Z"
    },
    "papermill": {
     "duration": 0.095999,
     "end_time": "2022-10-27T02:03:52.665460",
     "exception": false,
     "start_time": "2022-10-27T02:03:52.569461",
     "status": "completed"
    },
    "tags": []
   },
   "outputs": [],
   "source": [
    "# invoice data\n",
    "df1['invoice_date'] = pd.to_datetime(df1['invoice_date'], format = '%d-%b-%y')\n",
    "\n",
    "# customer id\n",
    "df1['customer_id'] = df1['customer_id'].astype(np.int64)"
   ]
  },
  {
   "cell_type": "markdown",
   "id": "373c4c08",
   "metadata": {
    "papermill": {
     "duration": 0.012,
     "end_time": "2022-10-27T02:03:52.686492",
     "exception": false,
     "start_time": "2022-10-27T02:03:52.674492",
     "status": "completed"
    },
    "tags": []
   },
   "source": [
    "## 1.7 Descriptive statistics"
   ]
  },
  {
   "cell_type": "code",
   "execution_count": 13,
   "id": "cfc634ad",
   "metadata": {
    "execution": {
     "iopub.execute_input": "2022-10-27T02:03:52.716494Z",
     "iopub.status.busy": "2022-10-27T02:03:52.716494Z",
     "iopub.status.idle": "2022-10-27T02:03:52.726251Z",
     "shell.execute_reply": "2022-10-27T02:03:52.725226Z"
    },
    "papermill": {
     "duration": 0.026785,
     "end_time": "2022-10-27T02:03:52.728248",
     "exception": false,
     "start_time": "2022-10-27T02:03:52.701463",
     "status": "completed"
    },
    "tags": []
   },
   "outputs": [],
   "source": [
    "num_attributes = df1.select_dtypes(include=['int64', 'float64'])\n",
    "cat_attributes = df1.select_dtypes(exclude=['int64', 'float64', 'datetime64[ns]'])"
   ]
  },
  {
   "cell_type": "markdown",
   "id": "7c39d3c2",
   "metadata": {
    "papermill": {
     "duration": 0.011893,
     "end_time": "2022-10-27T02:03:52.750179",
     "exception": false,
     "start_time": "2022-10-27T02:03:52.738286",
     "status": "completed"
    },
    "tags": []
   },
   "source": [
    "### 1.7.1 Numerical attributes"
   ]
  },
  {
   "cell_type": "code",
   "execution_count": 14,
   "id": "f8dd8d8b",
   "metadata": {
    "execution": {
     "iopub.execute_input": "2022-10-27T02:03:52.772217Z",
     "iopub.status.busy": "2022-10-27T02:03:52.772217Z",
     "iopub.status.idle": "2022-10-27T02:03:52.868207Z",
     "shell.execute_reply": "2022-10-27T02:03:52.867392Z"
    },
    "papermill": {
     "duration": 0.109972,
     "end_time": "2022-10-27T02:03:52.870224",
     "exception": false,
     "start_time": "2022-10-27T02:03:52.760252",
     "status": "completed"
    },
    "tags": []
   },
   "outputs": [
    {
     "data": {
      "text/html": [
       "<div>\n",
       "<style scoped>\n",
       "    .dataframe tbody tr th:only-of-type {\n",
       "        vertical-align: middle;\n",
       "    }\n",
       "\n",
       "    .dataframe tbody tr th {\n",
       "        vertical-align: top;\n",
       "    }\n",
       "\n",
       "    .dataframe thead th {\n",
       "        text-align: right;\n",
       "    }\n",
       "</style>\n",
       "<table border=\"1\" class=\"dataframe\">\n",
       "  <thead>\n",
       "    <tr style=\"text-align: right;\">\n",
       "      <th></th>\n",
       "      <th>mean</th>\n",
       "      <th>median</th>\n",
       "      <th>std</th>\n",
       "      <th>min</th>\n",
       "      <th>max</th>\n",
       "      <th>skew</th>\n",
       "      <th>kurtosis</th>\n",
       "    </tr>\n",
       "  </thead>\n",
       "  <tbody>\n",
       "    <tr>\n",
       "      <th>quantity</th>\n",
       "      <td>9.552250</td>\n",
       "      <td>3.00</td>\n",
       "      <td>218.081158</td>\n",
       "      <td>-80995.00</td>\n",
       "      <td>80995.0</td>\n",
       "      <td>-0.264076</td>\n",
       "      <td>119769.160031</td>\n",
       "    </tr>\n",
       "    <tr>\n",
       "      <th>unit_price</th>\n",
       "      <td>4.611114</td>\n",
       "      <td>2.08</td>\n",
       "      <td>96.759853</td>\n",
       "      <td>-11062.06</td>\n",
       "      <td>38970.0</td>\n",
       "      <td>186.506972</td>\n",
       "      <td>59005.719097</td>\n",
       "    </tr>\n",
       "    <tr>\n",
       "      <th>customer_id</th>\n",
       "      <td>16688.840453</td>\n",
       "      <td>16249.00</td>\n",
       "      <td>2911.411352</td>\n",
       "      <td>12346.00</td>\n",
       "      <td>22709.0</td>\n",
       "      <td>0.487449</td>\n",
       "      <td>-0.804287</td>\n",
       "    </tr>\n",
       "  </tbody>\n",
       "</table>\n",
       "</div>"
      ],
      "text/plain": [
       "                     mean    median          std       min      max  \\\n",
       "quantity         9.552250      3.00   218.081158 -80995.00  80995.0   \n",
       "unit_price       4.611114      2.08    96.759853 -11062.06  38970.0   \n",
       "customer_id  16688.840453  16249.00  2911.411352  12346.00  22709.0   \n",
       "\n",
       "                   skew       kurtosis  \n",
       "quantity      -0.264076  119769.160031  \n",
       "unit_price   186.506972   59005.719097  \n",
       "customer_id    0.487449      -0.804287  "
      ]
     },
     "execution_count": 14,
     "metadata": {},
     "output_type": "execute_result"
    }
   ],
   "source": [
    "num_attributes.agg([\"mean\",\"median\",\"std\",\"min\",\"max\",\"skew\",\"kurtosis\"]).T\n"
   ]
  },
  {
   "cell_type": "markdown",
   "id": "49e1965f",
   "metadata": {
    "papermill": {
     "duration": 0.013005,
     "end_time": "2022-10-27T02:03:52.894195",
     "exception": false,
     "start_time": "2022-10-27T02:03:52.881190",
     "status": "completed"
    },
    "tags": []
   },
   "source": [
    "### 1.7.2 Categorical attributes"
   ]
  },
  {
   "cell_type": "markdown",
   "id": "7809b7f5",
   "metadata": {
    "papermill": {
     "duration": 0.01201,
     "end_time": "2022-10-27T02:03:52.917914",
     "exception": false,
     "start_time": "2022-10-27T02:03:52.905904",
     "status": "completed"
    },
    "tags": []
   },
   "source": [
    "### Invoice No"
   ]
  },
  {
   "cell_type": "code",
   "execution_count": 15,
   "id": "58115560",
   "metadata": {
    "execution": {
     "iopub.execute_input": "2022-10-27T02:03:52.970947Z",
     "iopub.status.busy": "2022-10-27T02:03:52.970947Z",
     "iopub.status.idle": "2022-10-27T02:03:53.582662Z",
     "shell.execute_reply": "2022-10-27T02:03:53.581861Z"
    },
    "papermill": {
     "duration": 0.62576,
     "end_time": "2022-10-27T02:03:53.583673",
     "exception": false,
     "start_time": "2022-10-27T02:03:52.957913",
     "status": "completed"
    },
    "tags": []
   },
   "outputs": [
    {
     "name": "stdout",
     "output_type": "stream",
     "text": [
      "Total number of invoices with letters: 9291\n",
      "Total number of negatives quantities: 9288\n"
     ]
    }
   ],
   "source": [
    "# df1['invoice_no'].astype(np.int64) - problem: invoice contains numbers and words\n",
    "\n",
    "# identification\n",
    "df_letter_invoices = df1.loc[df1['invoice_no'].apply(lambda x: bool(re.search('[^0-9]+', x))),:]\n",
    "df_letter_invoices.head()\n",
    "\n",
    "print('Total number of invoices with letters: {}'.format(len(df_letter_invoices)))\n",
    "print('Total number of negatives quantities: {}'.format(len(df_letter_invoices[df_letter_invoices['quantity'] < 0])))"
   ]
  },
  {
   "cell_type": "markdown",
   "id": "a3f2d1a4",
   "metadata": {
    "papermill": {
     "duration": 0.013149,
     "end_time": "2022-10-27T02:03:53.607824",
     "exception": false,
     "start_time": "2022-10-27T02:03:53.594675",
     "status": "completed"
    },
    "tags": []
   },
   "source": [
    "### Stock Code"
   ]
  },
  {
   "cell_type": "code",
   "execution_count": 16,
   "id": "417c1723",
   "metadata": {
    "execution": {
     "iopub.execute_input": "2022-10-27T02:03:53.633835Z",
     "iopub.status.busy": "2022-10-27T02:03:53.633835Z",
     "iopub.status.idle": "2022-10-27T02:03:54.198835Z",
     "shell.execute_reply": "2022-10-27T02:03:54.198036Z"
    },
    "papermill": {
     "duration": 0.579996,
     "end_time": "2022-10-27T02:03:54.200832",
     "exception": false,
     "start_time": "2022-10-27T02:03:53.620836",
     "status": "completed"
    },
    "tags": []
   },
   "outputs": [
    {
     "data": {
      "text/plain": [
       "array(['POST', 'D', 'DOT', 'M', 'S', 'AMAZONFEE', 'm', 'DCGSSBOY',\n",
       "       'DCGSSGIRL', 'PADS', 'B', 'CRUK'], dtype=object)"
      ]
     },
     "execution_count": 16,
     "metadata": {},
     "output_type": "execute_result"
    }
   ],
   "source": [
    "df1.loc[df1['stock_code'].apply(lambda x: bool(re.search('^[a-zA-Z]+$', x))), 'stock_code'].unique()"
   ]
  },
  {
   "cell_type": "markdown",
   "id": "5c8c0007",
   "metadata": {
    "papermill": {
     "duration": 0.013996,
     "end_time": "2022-10-27T02:03:54.224834",
     "exception": false,
     "start_time": "2022-10-27T02:03:54.210838",
     "status": "completed"
    },
    "tags": []
   },
   "source": [
    "### Description"
   ]
  },
  {
   "cell_type": "code",
   "execution_count": 17,
   "id": "4d1f482b",
   "metadata": {
    "execution": {
     "iopub.execute_input": "2022-10-27T02:03:54.250851Z",
     "iopub.status.busy": "2022-10-27T02:03:54.250851Z",
     "iopub.status.idle": "2022-10-27T02:03:54.262848Z",
     "shell.execute_reply": "2022-10-27T02:03:54.261840Z"
    },
    "papermill": {
     "duration": 0.028006,
     "end_time": "2022-10-27T02:03:54.264838",
     "exception": false,
     "start_time": "2022-10-27T02:03:54.236832",
     "status": "completed"
    },
    "tags": []
   },
   "outputs": [
    {
     "data": {
      "text/plain": [
       "0     WHITE HANGING HEART T-LIGHT HOLDER\n",
       "1                    WHITE METAL LANTERN\n",
       "2         CREAM CUPID HEARTS COAT HANGER\n",
       "3    KNITTED UNION FLAG HOT WATER BOTTLE\n",
       "4         RED WOOLLY HOTTIE WHITE HEART.\n",
       "Name: description, dtype: object"
      ]
     },
     "execution_count": 17,
     "metadata": {},
     "output_type": "execute_result"
    }
   ],
   "source": [
    "df1['description'].head()"
   ]
  },
  {
   "cell_type": "markdown",
   "id": "59210856",
   "metadata": {
    "papermill": {
     "duration": 0.010988,
     "end_time": "2022-10-27T02:03:54.288837",
     "exception": false,
     "start_time": "2022-10-27T02:03:54.277849",
     "status": "completed"
    },
    "tags": []
   },
   "source": [
    "Description will be deleted from data since it does not give any perceptive feature to the problem"
   ]
  },
  {
   "cell_type": "markdown",
   "id": "2ffebaf2",
   "metadata": {
    "papermill": {
     "duration": 0.011968,
     "end_time": "2022-10-27T02:03:54.311841",
     "exception": false,
     "start_time": "2022-10-27T02:03:54.299873",
     "status": "completed"
    },
    "tags": []
   },
   "source": [
    "### Country"
   ]
  },
  {
   "cell_type": "code",
   "execution_count": 18,
   "id": "03bf9bee",
   "metadata": {
    "execution": {
     "iopub.execute_input": "2022-10-27T02:03:54.335342Z",
     "iopub.status.busy": "2022-10-27T02:03:54.335342Z",
     "iopub.status.idle": "2022-10-27T02:03:54.374278Z",
     "shell.execute_reply": "2022-10-27T02:03:54.373257Z"
    },
    "papermill": {
     "duration": 0.053367,
     "end_time": "2022-10-27T02:03:54.375310",
     "exception": false,
     "start_time": "2022-10-27T02:03:54.321943",
     "status": "completed"
    },
    "tags": []
   },
   "outputs": [
    {
     "data": {
      "text/plain": [
       "array(['United Kingdom', 'France', 'Australia', 'Netherlands', 'Germany',\n",
       "       'Norway', 'EIRE', 'Switzerland', 'Spain', 'Poland', 'Portugal',\n",
       "       'Italy', 'Belgium', 'Lithuania', 'Japan', 'Iceland',\n",
       "       'Channel Islands', 'Denmark', 'Cyprus', 'Sweden', 'Austria',\n",
       "       'Israel', 'Finland', 'Bahrain', 'Greece', 'Hong Kong', 'Singapore',\n",
       "       'Lebanon', 'United Arab Emirates', 'Saudi Arabia',\n",
       "       'Czech Republic', 'Canada', 'Unspecified', 'Brazil', 'USA',\n",
       "       'European Community', 'Malta', 'RSA'], dtype=object)"
      ]
     },
     "execution_count": 18,
     "metadata": {},
     "output_type": "execute_result"
    }
   ],
   "source": [
    "df1['country'].unique()"
   ]
  },
  {
   "cell_type": "code",
   "execution_count": 19,
   "id": "7cc7e122",
   "metadata": {
    "execution": {
     "iopub.execute_input": "2022-10-27T02:03:54.400306Z",
     "iopub.status.busy": "2022-10-27T02:03:54.400306Z",
     "iopub.status.idle": "2022-10-27T02:03:54.485276Z",
     "shell.execute_reply": "2022-10-27T02:03:54.484481Z"
    },
    "papermill": {
     "duration": 0.100035,
     "end_time": "2022-10-27T02:03:54.487310",
     "exception": false,
     "start_time": "2022-10-27T02:03:54.387275",
     "status": "completed"
    },
    "tags": []
   },
   "outputs": [
    {
     "data": {
      "text/html": [
       "<div>\n",
       "<style scoped>\n",
       "    .dataframe tbody tr th:only-of-type {\n",
       "        vertical-align: middle;\n",
       "    }\n",
       "\n",
       "    .dataframe tbody tr th {\n",
       "        vertical-align: top;\n",
       "    }\n",
       "\n",
       "    .dataframe thead th {\n",
       "        text-align: right;\n",
       "    }\n",
       "</style>\n",
       "<table border=\"1\" class=\"dataframe\">\n",
       "  <thead>\n",
       "    <tr style=\"text-align: right;\">\n",
       "      <th></th>\n",
       "      <th>country</th>\n",
       "      <th>customer_id</th>\n",
       "    </tr>\n",
       "  </thead>\n",
       "  <tbody>\n",
       "    <tr>\n",
       "      <th>36</th>\n",
       "      <td>United Kingdom</td>\n",
       "      <td>7587</td>\n",
       "    </tr>\n",
       "    <tr>\n",
       "      <th>14</th>\n",
       "      <td>Germany</td>\n",
       "      <td>95</td>\n",
       "    </tr>\n",
       "    <tr>\n",
       "      <th>13</th>\n",
       "      <td>France</td>\n",
       "      <td>90</td>\n",
       "    </tr>\n",
       "    <tr>\n",
       "      <th>10</th>\n",
       "      <td>EIRE</td>\n",
       "      <td>44</td>\n",
       "    </tr>\n",
       "    <tr>\n",
       "      <th>31</th>\n",
       "      <td>Spain</td>\n",
       "      <td>31</td>\n",
       "    </tr>\n",
       "  </tbody>\n",
       "</table>\n",
       "</div>"
      ],
      "text/plain": [
       "           country  customer_id\n",
       "36  United Kingdom         7587\n",
       "14         Germany           95\n",
       "13          France           90\n",
       "10            EIRE           44\n",
       "31           Spain           31"
      ]
     },
     "execution_count": 19,
     "metadata": {},
     "output_type": "execute_result"
    }
   ],
   "source": [
    "df1[['customer_id', 'country']].drop_duplicates().groupby('country').count().reset_index().sort_values('customer_id', ascending=False).head()"
   ]
  },
  {
   "cell_type": "markdown",
   "id": "619ac43b",
   "metadata": {
    "papermill": {
     "duration": 0.016004,
     "end_time": "2022-10-27T02:03:54.515280",
     "exception": false,
     "start_time": "2022-10-27T02:03:54.499276",
     "status": "completed"
    },
    "tags": []
   },
   "source": [
    "# 2.0 VARIABLES FILTERING"
   ]
  },
  {
   "cell_type": "code",
   "execution_count": 20,
   "id": "f4279176",
   "metadata": {
    "execution": {
     "iopub.execute_input": "2022-10-27T02:03:54.541278Z",
     "iopub.status.busy": "2022-10-27T02:03:54.541278Z",
     "iopub.status.idle": "2022-10-27T02:03:54.565375Z",
     "shell.execute_reply": "2022-10-27T02:03:54.564620Z"
    },
    "papermill": {
     "duration": 0.041033,
     "end_time": "2022-10-27T02:03:54.567308",
     "exception": false,
     "start_time": "2022-10-27T02:03:54.526275",
     "status": "completed"
    },
    "tags": []
   },
   "outputs": [],
   "source": [
    "df2 = df1.copy()"
   ]
  },
  {
   "cell_type": "code",
   "execution_count": 21,
   "id": "b8d91c2b",
   "metadata": {
    "execution": {
     "iopub.execute_input": "2022-10-27T02:03:54.601305Z",
     "iopub.status.busy": "2022-10-27T02:03:54.601305Z",
     "iopub.status.idle": "2022-10-27T02:03:54.868304Z",
     "shell.execute_reply": "2022-10-27T02:03:54.867494Z"
    },
    "papermill": {
     "duration": 0.287027,
     "end_time": "2022-10-27T02:03:54.870337",
     "exception": false,
     "start_time": "2022-10-27T02:03:54.583310",
     "status": "completed"
    },
    "tags": []
   },
   "outputs": [],
   "source": [
    "# ==== Numerical Attributes ====\n",
    "# unit price > 0\n",
    "df2= df2.loc[df2['unit_price'] >= 0.04, :]\n",
    "\n",
    "# ==== Categorical Attributes ====\n",
    "# stock code != ['POST', 'D', 'M', 'PADS', 'DOT', 'CRUK']\n",
    "df2 = df2.loc[~df2['stock_code'].isin(['POST', 'D', 'DOT', 'M', 'S', 'AMAZONFEE', 'm', 'DCGSSBOY',\n",
    "       'DCGSSGIRL', 'PADS', 'B', 'CRUK'])]\n",
    "\n",
    "# description\n",
    "df2 = df2.drop(columns='description', axis=1)\n",
    "\n",
    "# map\n",
    "df2 = df2[~df2['country'].isin(['European Community', 'Unspecified'])]\n",
    "\n",
    "# bad users\n",
    "df2 = df2[~df2['customer_id'].isin([16446])]\n",
    "\n",
    "# quantity - Negative numbers will be assumed as product returns\n",
    "df2_returns = df2.loc[df2['quantity'] <= 0, :]\n",
    "df2_purchase = df2.loc[df2['quantity'] > 0, :]\n"
   ]
  },
  {
   "cell_type": "markdown",
   "id": "df1febc6",
   "metadata": {
    "papermill": {
     "duration": 0.01599,
     "end_time": "2022-10-27T02:03:54.899307",
     "exception": false,
     "start_time": "2022-10-27T02:03:54.883317",
     "status": "completed"
    },
    "tags": []
   },
   "source": [
    "# 3.0 FEATURE ENGINEERING"
   ]
  },
  {
   "cell_type": "code",
   "execution_count": 22,
   "id": "32aef692",
   "metadata": {
    "execution": {
     "iopub.execute_input": "2022-10-27T02:03:54.928310Z",
     "iopub.status.busy": "2022-10-27T02:03:54.928310Z",
     "iopub.status.idle": "2022-10-27T02:03:54.948300Z",
     "shell.execute_reply": "2022-10-27T02:03:54.947333Z"
    },
    "papermill": {
     "duration": 0.036987,
     "end_time": "2022-10-27T02:03:54.949301",
     "exception": false,
     "start_time": "2022-10-27T02:03:54.912314",
     "status": "completed"
    },
    "tags": []
   },
   "outputs": [],
   "source": [
    "df3 = df2.copy()"
   ]
  },
  {
   "cell_type": "markdown",
   "id": "68a00926",
   "metadata": {
    "papermill": {
     "duration": 0.011997,
     "end_time": "2022-10-27T02:03:54.974300",
     "exception": false,
     "start_time": "2022-10-27T02:03:54.962303",
     "status": "completed"
    },
    "tags": []
   },
   "source": [
    "## 3.1 Feature creation"
   ]
  },
  {
   "cell_type": "code",
   "execution_count": 23,
   "id": "0df047bf",
   "metadata": {
    "execution": {
     "iopub.execute_input": "2022-10-27T02:03:55.003692Z",
     "iopub.status.busy": "2022-10-27T02:03:55.003692Z",
     "iopub.status.idle": "2022-10-27T02:03:55.042436Z",
     "shell.execute_reply": "2022-10-27T02:03:55.041409Z"
    },
    "papermill": {
     "duration": 0.05679,
     "end_time": "2022-10-27T02:03:55.044435",
     "exception": false,
     "start_time": "2022-10-27T02:03:54.987645",
     "status": "completed"
    },
    "tags": []
   },
   "outputs": [],
   "source": [
    "# data reference\n",
    "df_ref = df3.drop(['invoice_no', 'stock_code', \n",
    "                  'quantity', 'invoice_date', 'unit_price', 'country'], axis=1).drop_duplicates(ignore_index=True)"
   ]
  },
  {
   "cell_type": "markdown",
   "id": "39855ab5",
   "metadata": {
    "papermill": {
     "duration": 0.013016,
     "end_time": "2022-10-27T02:03:55.071374",
     "exception": false,
     "start_time": "2022-10-27T02:03:55.058358",
     "status": "completed"
    },
    "tags": []
   },
   "source": [
    "### 3.1.1 Gross Revenue"
   ]
  },
  {
   "cell_type": "code",
   "execution_count": 24,
   "id": "96734773",
   "metadata": {
    "execution": {
     "iopub.execute_input": "2022-10-27T02:03:55.099378Z",
     "iopub.status.busy": "2022-10-27T02:03:55.099378Z",
     "iopub.status.idle": "2022-10-27T02:04:03.498374Z",
     "shell.execute_reply": "2022-10-27T02:04:03.497399Z"
    },
    "papermill": {
     "duration": 8.413998,
     "end_time": "2022-10-27T02:04:03.499373",
     "exception": false,
     "start_time": "2022-10-27T02:03:55.085375",
     "status": "completed"
    },
    "tags": []
   },
   "outputs": [
    {
     "name": "stderr",
     "output_type": "stream",
     "text": [
      "C:\\Users\\diego\\AppData\\Local\\Temp\\ipykernel_22912\\59910178.py:2: SettingWithCopyWarning: \n",
      "A value is trying to be set on a copy of a slice from a DataFrame.\n",
      "Try using .loc[row_indexer,col_indexer] = value instead\n",
      "\n",
      "See the caveats in the documentation: https://pandas.pydata.org/pandas-docs/stable/user_guide/indexing.html#returning-a-view-versus-a-copy\n",
      "  df2_purchase['gross_revenue'] = df2_purchase.apply(lambda x: x['quantity'] * x['unit_price'], axis = 1)\n"
     ]
    },
    {
     "data": {
      "text/plain": [
       "customer_id       0\n",
       "gross_revenue    91\n",
       "dtype: int64"
      ]
     },
     "execution_count": 24,
     "metadata": {},
     "output_type": "execute_result"
    }
   ],
   "source": [
    "# Gross Revenue: quantity * price\n",
    "df2_purchase['gross_revenue'] = df2_purchase.apply(lambda x: x['quantity'] * x['unit_price'], axis = 1)\n",
    "\n",
    "# Monetary\n",
    "df_monetary = df2_purchase[[ 'customer_id', 'gross_revenue']].groupby('customer_id').sum().reset_index()\n",
    "df_ref = pd.merge(df_ref, df_monetary, how='left', on='customer_id')\n",
    "df_ref.isna().sum()\n"
   ]
  },
  {
   "cell_type": "markdown",
   "id": "36c217d1",
   "metadata": {
    "papermill": {
     "duration": 0.015997,
     "end_time": "2022-10-27T02:04:03.529372",
     "exception": false,
     "start_time": "2022-10-27T02:04:03.513375",
     "status": "completed"
    },
    "tags": []
   },
   "source": [
    "### 3.1.2 Recency"
   ]
  },
  {
   "cell_type": "code",
   "execution_count": 25,
   "id": "f8339f2e",
   "metadata": {
    "execution": {
     "iopub.execute_input": "2022-10-27T02:04:03.555413Z",
     "iopub.status.busy": "2022-10-27T02:04:03.555413Z",
     "iopub.status.idle": "2022-10-27T02:04:03.656855Z",
     "shell.execute_reply": "2022-10-27T02:04:03.655826Z"
    },
    "papermill": {
     "duration": 0.116472,
     "end_time": "2022-10-27T02:04:03.658853",
     "exception": false,
     "start_time": "2022-10-27T02:04:03.542381",
     "status": "completed"
    },
    "tags": []
   },
   "outputs": [
    {
     "data": {
      "text/plain": [
       "customer_id       0\n",
       "gross_revenue    91\n",
       "recency_days     91\n",
       "dtype: int64"
      ]
     },
     "execution_count": 25,
     "metadata": {},
     "output_type": "execute_result"
    }
   ],
   "source": [
    "# Recency - Last day purchase\n",
    "\n",
    "max_invoice_date = df2_purchase['invoice_date'].max()\n",
    "\n",
    "df_recency = df2_purchase.loc[:, ['customer_id','invoice_date']].groupby('customer_id').max().reset_index()\n",
    "df_recency['recency_days'] = df_recency['invoice_date'].apply(lambda x:  max_invoice_date - x).dt.days\n",
    "df_recency = df_recency[['customer_id', 'recency_days']].copy()\n",
    "df_ref = pd.merge(df_ref, df_recency, on='customer_id', how='left')\n",
    "df_ref.isna().sum()\n"
   ]
  },
  {
   "cell_type": "markdown",
   "id": "32b80399",
   "metadata": {
    "papermill": {
     "duration": 0.014034,
     "end_time": "2022-10-27T02:04:03.685886",
     "exception": false,
     "start_time": "2022-10-27T02:04:03.671852",
     "status": "completed"
    },
    "tags": []
   },
   "source": [
    "### 3.1.4 Quantity of Items Purchased"
   ]
  },
  {
   "cell_type": "code",
   "execution_count": 26,
   "id": "5afe7a04",
   "metadata": {
    "execution": {
     "iopub.execute_input": "2022-10-27T02:04:03.714850Z",
     "iopub.status.busy": "2022-10-27T02:04:03.714850Z",
     "iopub.status.idle": "2022-10-27T02:04:03.751892Z",
     "shell.execute_reply": "2022-10-27T02:04:03.751028Z"
    },
    "papermill": {
     "duration": 0.053999,
     "end_time": "2022-10-27T02:04:03.753884",
     "exception": false,
     "start_time": "2022-10-27T02:04:03.699885",
     "status": "completed"
    },
    "tags": []
   },
   "outputs": [
    {
     "data": {
      "text/plain": [
       "customer_id        0\n",
       "gross_revenue     91\n",
       "recency_days      91\n",
       "total_quantity    91\n",
       "dtype: int64"
      ]
     },
     "execution_count": 26,
     "metadata": {},
     "output_type": "execute_result"
    }
   ],
   "source": [
    "# total quantity of procucts purchased by customer\n",
    "df_prod = df2_purchase.loc[:, ['customer_id','quantity']].groupby('customer_id').sum().reset_index()\n",
    "df_ref = pd.merge(df_ref, df_prod, on='customer_id', how='left')\n",
    "df_ref = df_ref.rename(columns={'quantity': 'total_quantity'})\n",
    "\n",
    "df_ref.isna().sum()\n"
   ]
  },
  {
   "cell_type": "code",
   "execution_count": 27,
   "id": "65564b92",
   "metadata": {
    "execution": {
     "iopub.execute_input": "2022-10-27T02:04:03.780850Z",
     "iopub.status.busy": "2022-10-27T02:04:03.780850Z",
     "iopub.status.idle": "2022-10-27T02:04:03.799198Z",
     "shell.execute_reply": "2022-10-27T02:04:03.798403Z"
    },
    "papermill": {
     "duration": 0.03431,
     "end_time": "2022-10-27T02:04:03.800198",
     "exception": false,
     "start_time": "2022-10-27T02:04:03.765888",
     "status": "completed"
    },
    "tags": []
   },
   "outputs": [],
   "source": [
    "df_ref1 = df_ref.copy()"
   ]
  },
  {
   "cell_type": "markdown",
   "id": "fffa2e12",
   "metadata": {
    "papermill": {
     "duration": 0.015995,
     "end_time": "2022-10-27T02:04:03.829198",
     "exception": false,
     "start_time": "2022-10-27T02:04:03.813203",
     "status": "completed"
    },
    "tags": []
   },
   "source": [
    "### 3.1.7 Frequency"
   ]
  },
  {
   "cell_type": "code",
   "execution_count": 28,
   "id": "f51edcad",
   "metadata": {
    "execution": {
     "iopub.execute_input": "2022-10-27T02:04:03.856197Z",
     "iopub.status.busy": "2022-10-27T02:04:03.856197Z",
     "iopub.status.idle": "2022-10-27T02:04:05.163200Z",
     "shell.execute_reply": "2022-10-27T02:04:05.163200Z"
    },
    "papermill": {
     "duration": 1.322995,
     "end_time": "2022-10-27T02:04:05.165197",
     "exception": false,
     "start_time": "2022-10-27T02:04:03.842202",
     "status": "completed"
    },
    "tags": []
   },
   "outputs": [],
   "source": [
    "df_aux = ( df2_purchase[['customer_id', 'invoice_date', 'invoice_no']].drop_duplicates()\n",
    "                                                             .groupby('customer_id')\n",
    "                                                             .agg(max_=('invoice_date', 'max'), \n",
    "                                                                  min_=('invoice_date', 'min'),\n",
    "                                                                  days_=('invoice_date', lambda x: ((x.max() - x.min()).days) + 1),\n",
    "                                                                  buy_=('invoice_no', 'count')).reset_index())\n",
    "\n",
    "# frequency\n",
    "df_aux['frequency'] = df_aux[['buy_', 'days_']].apply(lambda x: x['buy_']/x['days_'] if x['days_'] != 0 else 0, axis=1)\n",
    "\n",
    "df_aux.head()\n",
    "\n",
    "# merge\n",
    "df_ref1 = pd.merge(df_ref1, df_aux[['customer_id', 'frequency']], on='customer_id', how='left')"
   ]
  },
  {
   "cell_type": "code",
   "execution_count": 29,
   "id": "c4108a8e",
   "metadata": {
    "execution": {
     "iopub.execute_input": "2022-10-27T02:04:05.209199Z",
     "iopub.status.busy": "2022-10-27T02:04:05.208202Z",
     "iopub.status.idle": "2022-10-27T02:04:05.227199Z",
     "shell.execute_reply": "2022-10-27T02:04:05.226199Z"
    },
    "papermill": {
     "duration": 0.045042,
     "end_time": "2022-10-27T02:04:05.229239",
     "exception": false,
     "start_time": "2022-10-27T02:04:05.184197",
     "status": "completed"
    },
    "tags": []
   },
   "outputs": [
    {
     "data": {
      "text/plain": [
       "customer_id        0\n",
       "gross_revenue     91\n",
       "recency_days      91\n",
       "total_quantity    91\n",
       "frequency         91\n",
       "dtype: int64"
      ]
     },
     "execution_count": 29,
     "metadata": {},
     "output_type": "execute_result"
    }
   ],
   "source": [
    "df_ref1.isna().sum()"
   ]
  },
  {
   "cell_type": "markdown",
   "id": "d12b69f3",
   "metadata": {
    "papermill": {
     "duration": 0.031,
     "end_time": "2022-10-27T02:04:05.286200",
     "exception": false,
     "start_time": "2022-10-27T02:04:05.255200",
     "status": "completed"
    },
    "tags": []
   },
   "source": [
    "### 3.1.8 Returns"
   ]
  },
  {
   "cell_type": "code",
   "execution_count": 30,
   "id": "36b6c8f3",
   "metadata": {
    "execution": {
     "iopub.execute_input": "2022-10-27T02:04:05.368201Z",
     "iopub.status.busy": "2022-10-27T02:04:05.367200Z",
     "iopub.status.idle": "2022-10-27T02:04:05.402199Z",
     "shell.execute_reply": "2022-10-27T02:04:05.401194Z"
    },
    "papermill": {
     "duration": 0.077995,
     "end_time": "2022-10-27T02:04:05.405198",
     "exception": false,
     "start_time": "2022-10-27T02:04:05.327203",
     "status": "completed"
    },
    "tags": []
   },
   "outputs": [
    {
     "data": {
      "text/plain": [
       "customer_id        0\n",
       "gross_revenue     91\n",
       "recency_days      91\n",
       "total_quantity    91\n",
       "frequency         91\n",
       "qty_returns        0\n",
       "dtype: int64"
      ]
     },
     "execution_count": 30,
     "metadata": {},
     "output_type": "execute_result"
    }
   ],
   "source": [
    "df_returns = df2_returns[['customer_id', 'quantity']].groupby('customer_id').sum().reset_index().rename(columns={'quantity':'qty_returns'})\n",
    "df_returns['qty_returns'] = df_returns['qty_returns']*(-1)\n",
    "\n",
    "df_ref1 = pd.merge(df_ref1, df_returns, on='customer_id', how='left')\n",
    "df_ref1.loc[df_ref1['qty_returns'].isna(), 'qty_returns'] = 0\n",
    "df_ref1.isna().sum()"
   ]
  },
  {
   "cell_type": "code",
   "execution_count": 31,
   "id": "a6c540d8",
   "metadata": {
    "execution": {
     "iopub.execute_input": "2022-10-27T02:04:05.449200Z",
     "iopub.status.busy": "2022-10-27T02:04:05.449200Z",
     "iopub.status.idle": "2022-10-27T02:04:05.466200Z",
     "shell.execute_reply": "2022-10-27T02:04:05.465199Z"
    },
    "papermill": {
     "duration": 0.043016,
     "end_time": "2022-10-27T02:04:05.468218",
     "exception": false,
     "start_time": "2022-10-27T02:04:05.425202",
     "status": "completed"
    },
    "tags": []
   },
   "outputs": [
    {
     "data": {
      "text/html": [
       "<div>\n",
       "<style scoped>\n",
       "    .dataframe tbody tr th:only-of-type {\n",
       "        vertical-align: middle;\n",
       "    }\n",
       "\n",
       "    .dataframe tbody tr th {\n",
       "        vertical-align: top;\n",
       "    }\n",
       "\n",
       "    .dataframe thead th {\n",
       "        text-align: right;\n",
       "    }\n",
       "</style>\n",
       "<table border=\"1\" class=\"dataframe\">\n",
       "  <thead>\n",
       "    <tr style=\"text-align: right;\">\n",
       "      <th></th>\n",
       "      <th>customer_id</th>\n",
       "      <th>gross_revenue</th>\n",
       "      <th>recency_days</th>\n",
       "      <th>total_quantity</th>\n",
       "      <th>frequency</th>\n",
       "      <th>qty_returns</th>\n",
       "    </tr>\n",
       "  </thead>\n",
       "  <tbody>\n",
       "    <tr>\n",
       "      <th>0</th>\n",
       "      <td>17850</td>\n",
       "      <td>5391.21</td>\n",
       "      <td>372.0</td>\n",
       "      <td>1733.0</td>\n",
       "      <td>17.000000</td>\n",
       "      <td>40.0</td>\n",
       "    </tr>\n",
       "    <tr>\n",
       "      <th>1</th>\n",
       "      <td>13047</td>\n",
       "      <td>3232.59</td>\n",
       "      <td>56.0</td>\n",
       "      <td>1390.0</td>\n",
       "      <td>0.028302</td>\n",
       "      <td>35.0</td>\n",
       "    </tr>\n",
       "    <tr>\n",
       "      <th>2</th>\n",
       "      <td>12583</td>\n",
       "      <td>6705.38</td>\n",
       "      <td>2.0</td>\n",
       "      <td>5028.0</td>\n",
       "      <td>0.040323</td>\n",
       "      <td>50.0</td>\n",
       "    </tr>\n",
       "    <tr>\n",
       "      <th>3</th>\n",
       "      <td>13748</td>\n",
       "      <td>948.25</td>\n",
       "      <td>95.0</td>\n",
       "      <td>439.0</td>\n",
       "      <td>0.017921</td>\n",
       "      <td>0.0</td>\n",
       "    </tr>\n",
       "    <tr>\n",
       "      <th>4</th>\n",
       "      <td>15100</td>\n",
       "      <td>876.00</td>\n",
       "      <td>333.0</td>\n",
       "      <td>80.0</td>\n",
       "      <td>0.073171</td>\n",
       "      <td>22.0</td>\n",
       "    </tr>\n",
       "  </tbody>\n",
       "</table>\n",
       "</div>"
      ],
      "text/plain": [
       "   customer_id  gross_revenue  recency_days  total_quantity  frequency  \\\n",
       "0        17850        5391.21         372.0          1733.0  17.000000   \n",
       "1        13047        3232.59          56.0          1390.0   0.028302   \n",
       "2        12583        6705.38           2.0          5028.0   0.040323   \n",
       "3        13748         948.25          95.0           439.0   0.017921   \n",
       "4        15100         876.00         333.0            80.0   0.073171   \n",
       "\n",
       "   qty_returns  \n",
       "0         40.0  \n",
       "1         35.0  \n",
       "2         50.0  \n",
       "3          0.0  \n",
       "4         22.0  "
      ]
     },
     "execution_count": 31,
     "metadata": {},
     "output_type": "execute_result"
    }
   ],
   "source": [
    "df_ref1.head()"
   ]
  },
  {
   "cell_type": "markdown",
   "id": "00de9732",
   "metadata": {
    "papermill": {
     "duration": 0.014995,
     "end_time": "2022-10-27T02:04:05.501206",
     "exception": false,
     "start_time": "2022-10-27T02:04:05.486211",
     "status": "completed"
    },
    "tags": []
   },
   "source": [
    "# 4.0 EXPLORATORY DATA ANALYSIS"
   ]
  },
  {
   "cell_type": "code",
   "execution_count": 32,
   "id": "7c42aa54",
   "metadata": {
    "execution": {
     "iopub.execute_input": "2022-10-27T02:04:05.531211Z",
     "iopub.status.busy": "2022-10-27T02:04:05.531211Z",
     "iopub.status.idle": "2022-10-27T02:04:05.544220Z",
     "shell.execute_reply": "2022-10-27T02:04:05.543382Z"
    },
    "papermill": {
     "duration": 0.030033,
     "end_time": "2022-10-27T02:04:05.546238",
     "exception": false,
     "start_time": "2022-10-27T02:04:05.516205",
     "status": "completed"
    },
    "tags": []
   },
   "outputs": [
    {
     "data": {
      "text/plain": [
       "customer_id       0\n",
       "gross_revenue     0\n",
       "recency_days      0\n",
       "total_quantity    0\n",
       "frequency         0\n",
       "qty_returns       0\n",
       "dtype: int64"
      ]
     },
     "execution_count": 32,
     "metadata": {},
     "output_type": "execute_result"
    }
   ],
   "source": [
    "df4 = df_ref1.copy()\n",
    "df4 = df4.dropna()\n",
    "df4.isna().sum()"
   ]
  },
  {
   "cell_type": "markdown",
   "id": "188938a0",
   "metadata": {
    "papermill": {
     "duration": 0.015987,
     "end_time": "2022-10-27T02:04:05.577196",
     "exception": false,
     "start_time": "2022-10-27T02:04:05.561209",
     "status": "completed"
    },
    "tags": []
   },
   "source": [
    "## 4.3 Embedding study"
   ]
  },
  {
   "cell_type": "code",
   "execution_count": 33,
   "id": "fda52f8c",
   "metadata": {
    "execution": {
     "iopub.execute_input": "2022-10-27T02:04:05.613212Z",
     "iopub.status.busy": "2022-10-27T02:04:05.613212Z",
     "iopub.status.idle": "2022-10-27T02:04:05.622198Z",
     "shell.execute_reply": "2022-10-27T02:04:05.621348Z"
    },
    "papermill": {
     "duration": 0.029971,
     "end_time": "2022-10-27T02:04:05.624212",
     "exception": false,
     "start_time": "2022-10-27T02:04:05.594241",
     "status": "completed"
    },
    "tags": []
   },
   "outputs": [],
   "source": [
    "# df43 = df4.drop(columns=['customer_id'], axis=1).copy()\n",
    "\n",
    "cols_selected = ['customer_id', 'gross_revenue', 'recency_days', 'total_quantity', 'frequency', 'qty_returns']\n",
    "df43 = df4[cols_selected].copy() "
   ]
  },
  {
   "cell_type": "code",
   "execution_count": 34,
   "id": "8d860d3d",
   "metadata": {
    "execution": {
     "iopub.execute_input": "2022-10-27T02:04:05.661213Z",
     "iopub.status.busy": "2022-10-27T02:04:05.661213Z",
     "iopub.status.idle": "2022-10-27T02:04:05.685934Z",
     "shell.execute_reply": "2022-10-27T02:04:05.684898Z"
    },
    "papermill": {
     "duration": 0.045754,
     "end_time": "2022-10-27T02:04:05.687952",
     "exception": false,
     "start_time": "2022-10-27T02:04:05.642198",
     "status": "completed"
    },
    "tags": []
   },
   "outputs": [],
   "source": [
    "mm = pp.MinMaxScaler()\n",
    "\n",
    "df43['gross_revenue']      = mm.fit_transform(df43[['gross_revenue']])\n",
    "df43['recency_days']       = mm.fit_transform(df43[['recency_days']])\n",
    "df43['total_quantity']     = mm.fit_transform(df43[['total_quantity']])\n",
    "df43['frequency']          = mm.fit_transform(df43[['frequency']])\n",
    "df43['qty_returns']        = mm.fit_transform(df43[['qty_returns']])\n",
    "\n",
    "\n",
    "\n"
   ]
  },
  {
   "cell_type": "code",
   "execution_count": 35,
   "id": "6e28c26d",
   "metadata": {
    "execution": {
     "iopub.execute_input": "2022-10-27T02:04:05.719963Z",
     "iopub.status.busy": "2022-10-27T02:04:05.719963Z",
     "iopub.status.idle": "2022-10-27T02:04:05.732933Z",
     "shell.execute_reply": "2022-10-27T02:04:05.732127Z"
    },
    "papermill": {
     "duration": 0.031998,
     "end_time": "2022-10-27T02:04:05.734928",
     "exception": false,
     "start_time": "2022-10-27T02:04:05.702930",
     "status": "completed"
    },
    "tags": []
   },
   "outputs": [],
   "source": [
    "X = df43.copy()"
   ]
  },
  {
   "cell_type": "markdown",
   "id": "1857cda2",
   "metadata": {
    "papermill": {
     "duration": 0.014,
     "end_time": "2022-10-27T02:04:05.762942",
     "exception": false,
     "start_time": "2022-10-27T02:04:05.748942",
     "status": "completed"
    },
    "tags": []
   },
   "source": [
    "### 4.3.4 Tree-Based Embedding"
   ]
  },
  {
   "cell_type": "markdown",
   "id": "72fa5dfe",
   "metadata": {
    "papermill": {
     "duration": 0.014991,
     "end_time": "2022-10-27T02:04:05.791938",
     "exception": false,
     "start_time": "2022-10-27T02:04:05.776947",
     "status": "completed"
    },
    "tags": []
   },
   "source": [
    "Tree-Based Embedding is a tool used to organize cluster with a target variable that, in this case, is the **Gross Revenue**.\n",
    "\n",
    "It is a great method to create embedding for clustering when may explain the cluster's proximity but not the points similarity between them"
   ]
  },
  {
   "cell_type": "code",
   "execution_count": 36,
   "id": "24c9dbb5",
   "metadata": {
    "execution": {
     "iopub.execute_input": "2022-10-27T02:04:05.826946Z",
     "iopub.status.busy": "2022-10-27T02:04:05.826946Z",
     "iopub.status.idle": "2022-10-27T02:04:07.335923Z",
     "shell.execute_reply": "2022-10-27T02:04:07.335123Z"
    },
    "papermill": {
     "duration": 1.529007,
     "end_time": "2022-10-27T02:04:07.337942",
     "exception": false,
     "start_time": "2022-10-27T02:04:05.808935",
     "status": "completed"
    },
    "tags": []
   },
   "outputs": [],
   "source": [
    "# training dataset\n",
    "\n",
    "X = df43.drop(columns=['customer_id', 'gross_revenue'], axis=1)\n",
    "y = df43['gross_revenue']\n",
    "\n",
    "# model definition\n",
    "rf_model = en.RandomForestRegressor(n_estimators=100, random_state=42)\n",
    "\n",
    "# model training\n",
    "rf_model.fit(X, y)\n",
    "\n",
    "# Leaf\n",
    "df_leaf = pd.DataFrame(rf_model.apply(X))\n",
    "\n",
    "# dataframe Leaf"
   ]
  },
  {
   "cell_type": "code",
   "execution_count": 37,
   "id": "8a2ac026",
   "metadata": {
    "execution": {
     "iopub.execute_input": "2022-10-27T02:04:07.365919Z",
     "iopub.status.busy": "2022-10-27T02:04:07.365919Z",
     "iopub.status.idle": "2022-10-27T02:04:54.873655Z",
     "shell.execute_reply": "2022-10-27T02:04:54.872823Z"
    },
    "papermill": {
     "duration": 47.525691,
     "end_time": "2022-10-27T02:04:54.875617",
     "exception": false,
     "start_time": "2022-10-27T02:04:07.349926",
     "status": "completed"
    },
    "tags": []
   },
   "outputs": [],
   "source": [
    "# Reducer dimensionality\n",
    "reducer = umap.UMAP(n_neighbors=90, random_state=42)\n",
    "embedding = reducer.fit_transform(df_leaf)\n",
    "\n",
    "# embedding\n",
    "df_tree = pd.DataFrame()\n",
    "df_tree['embedding_x'] = embedding[:, 0]\n",
    "df_tree['embedding_y'] = embedding[:, 1]\n",
    "\n"
   ]
  },
  {
   "cell_type": "markdown",
   "id": "bde0787f",
   "metadata": {
    "papermill": {
     "duration": 0.014985,
     "end_time": "2022-10-27T02:04:54.903649",
     "exception": false,
     "start_time": "2022-10-27T02:04:54.888664",
     "status": "completed"
    },
    "tags": []
   },
   "source": [
    "# 5.0 DATA PREPARATION "
   ]
  },
  {
   "cell_type": "code",
   "execution_count": 38,
   "id": "fbbd505b",
   "metadata": {
    "execution": {
     "iopub.execute_input": "2022-10-27T02:04:54.930665Z",
     "iopub.status.busy": "2022-10-27T02:04:54.930665Z",
     "iopub.status.idle": "2022-10-27T02:04:54.967666Z",
     "shell.execute_reply": "2022-10-27T02:04:54.967666Z"
    },
    "papermill": {
     "duration": 0.051976,
     "end_time": "2022-10-27T02:04:54.969650",
     "exception": false,
     "start_time": "2022-10-27T02:04:54.917674",
     "status": "completed"
    },
    "tags": []
   },
   "outputs": [],
   "source": [
    "df5 = df_tree.copy()\n",
    "df5.to_csv(r'C:\\Users\\diego\\OneDrive\\Área de Trabalho\\projects\\insiders_clustering\\src\\data\\tree_based_embedding.csv', index=False)"
   ]
  },
  {
   "cell_type": "markdown",
   "id": "b5cc6100",
   "metadata": {
    "papermill": {
     "duration": 0.012025,
     "end_time": "2022-10-27T02:04:54.993648",
     "exception": false,
     "start_time": "2022-10-27T02:04:54.981623",
     "status": "completed"
    },
    "tags": []
   },
   "source": [
    "#  7.0 HYPERPARAMETER FINE-TUNING"
   ]
  },
  {
   "cell_type": "code",
   "execution_count": 39,
   "id": "2c838320",
   "metadata": {
    "execution": {
     "iopub.execute_input": "2022-10-27T02:04:55.023644Z",
     "iopub.status.busy": "2022-10-27T02:04:55.023644Z",
     "iopub.status.idle": "2022-10-27T02:04:55.031620Z",
     "shell.execute_reply": "2022-10-27T02:04:55.030733Z"
    },
    "papermill": {
     "duration": 0.027005,
     "end_time": "2022-10-27T02:04:55.034623",
     "exception": false,
     "start_time": "2022-10-27T02:04:55.007618",
     "status": "completed"
    },
    "tags": []
   },
   "outputs": [],
   "source": [
    "X = df_tree.copy()\n",
    "# X = df_tsne.copy()"
   ]
  },
  {
   "cell_type": "markdown",
   "id": "63eeb16e",
   "metadata": {
    "papermill": {
     "duration": 0.014034,
     "end_time": "2022-10-27T02:04:55.060651",
     "exception": false,
     "start_time": "2022-10-27T02:04:55.046617",
     "status": "completed"
    },
    "tags": []
   },
   "source": [
    "#  8.0 MODEL TRAINING"
   ]
  },
  {
   "cell_type": "markdown",
   "id": "515c22d0",
   "metadata": {
    "papermill": {
     "duration": 0.014003,
     "end_time": "2022-10-27T02:04:55.087654",
     "exception": false,
     "start_time": "2022-10-27T02:04:55.073651",
     "status": "completed"
    },
    "tags": []
   },
   "source": [
    "## 8.1 Final Model"
   ]
  },
  {
   "cell_type": "code",
   "execution_count": 40,
   "id": "13434df8",
   "metadata": {
    "execution": {
     "iopub.execute_input": "2022-10-27T02:04:55.116621Z",
     "iopub.status.busy": "2022-10-27T02:04:55.115616Z",
     "iopub.status.idle": "2022-10-27T02:04:55.221612Z",
     "shell.execute_reply": "2022-10-27T02:04:55.221612Z"
    },
    "papermill": {
     "duration": 0.122939,
     "end_time": "2022-10-27T02:04:55.224612",
     "exception": false,
     "start_time": "2022-10-27T02:04:55.101673",
     "status": "completed"
    },
    "tags": []
   },
   "outputs": [],
   "source": [
    "# model definition\n",
    "k = 6\n",
    "kmeans = c.KMeans(init='random', n_clusters=k, n_init=10, max_iter=300, random_state=42)\n",
    "\n",
    "# model training\n",
    "kmeans.fit(X)\n",
    "\n",
    "# clustering\n",
    "labels = kmeans.labels_"
   ]
  },
  {
   "cell_type": "markdown",
   "id": "074c918f",
   "metadata": {
    "papermill": {
     "duration": 0.024003,
     "end_time": "2022-10-27T02:04:55.269616",
     "exception": false,
     "start_time": "2022-10-27T02:04:55.245613",
     "status": "completed"
    },
    "tags": []
   },
   "source": [
    "## 8.2 Cluster Validation"
   ]
  },
  {
   "cell_type": "code",
   "execution_count": 41,
   "id": "8935c65a",
   "metadata": {
    "execution": {
     "iopub.execute_input": "2022-10-27T02:04:55.312616Z",
     "iopub.status.busy": "2022-10-27T02:04:55.312616Z",
     "iopub.status.idle": "2022-10-27T02:04:56.193627Z",
     "shell.execute_reply": "2022-10-27T02:04:56.191719Z"
    },
    "papermill": {
     "duration": 0.905056,
     "end_time": "2022-10-27T02:04:56.196670",
     "exception": false,
     "start_time": "2022-10-27T02:04:55.291614",
     "status": "completed"
    },
    "tags": []
   },
   "outputs": [
    {
     "name": "stdout",
     "output_type": "stream",
     "text": [
      "wss value: 103028.84375\n"
     ]
    },
    {
     "name": "stdout",
     "output_type": "stream",
     "text": [
      "SS value: 0.5715615749359131\n"
     ]
    }
   ],
   "source": [
    "## WSS (Within-cluster Sum of Square)\n",
    "print('wss value: {}'.format(kmeans.inertia_))\n",
    "\n",
    "## SS (Silhouette Score)\n",
    "print('SS value: {}'. format(m.silhouette_score(X, labels, metric='euclidean')))\n"
   ]
  },
  {
   "cell_type": "markdown",
   "id": "0c877642",
   "metadata": {
    "papermill": {
     "duration": 0.030006,
     "end_time": "2022-10-27T02:04:56.255625",
     "exception": false,
     "start_time": "2022-10-27T02:04:56.225619",
     "status": "completed"
    },
    "tags": []
   },
   "source": [
    "## 9.2 Cluster profile"
   ]
  },
  {
   "cell_type": "code",
   "execution_count": 42,
   "id": "545a2193",
   "metadata": {
    "execution": {
     "iopub.execute_input": "2022-10-27T02:04:56.319671Z",
     "iopub.status.busy": "2022-10-27T02:04:56.318628Z",
     "iopub.status.idle": "2022-10-27T02:04:56.349628Z",
     "shell.execute_reply": "2022-10-27T02:04:56.348632Z"
    },
    "papermill": {
     "duration": 0.069011,
     "end_time": "2022-10-27T02:04:56.353673",
     "exception": false,
     "start_time": "2022-10-27T02:04:56.284662",
     "status": "completed"
    },
    "tags": []
   },
   "outputs": [
    {
     "data": {
      "text/html": [
       "<div>\n",
       "<style scoped>\n",
       "    .dataframe tbody tr th:only-of-type {\n",
       "        vertical-align: middle;\n",
       "    }\n",
       "\n",
       "    .dataframe tbody tr th {\n",
       "        vertical-align: top;\n",
       "    }\n",
       "\n",
       "    .dataframe thead th {\n",
       "        text-align: right;\n",
       "    }\n",
       "</style>\n",
       "<table border=\"1\" class=\"dataframe\">\n",
       "  <thead>\n",
       "    <tr style=\"text-align: right;\">\n",
       "      <th></th>\n",
       "      <th>customer_id</th>\n",
       "      <th>gross_revenue</th>\n",
       "      <th>recency_days</th>\n",
       "      <th>total_quantity</th>\n",
       "      <th>frequency</th>\n",
       "      <th>qty_returns</th>\n",
       "      <th>cluster</th>\n",
       "    </tr>\n",
       "  </thead>\n",
       "  <tbody>\n",
       "    <tr>\n",
       "      <th>0</th>\n",
       "      <td>17850</td>\n",
       "      <td>5391.21</td>\n",
       "      <td>372</td>\n",
       "      <td>1733</td>\n",
       "      <td>17.000000</td>\n",
       "      <td>40</td>\n",
       "      <td>0</td>\n",
       "    </tr>\n",
       "    <tr>\n",
       "      <th>1</th>\n",
       "      <td>13047</td>\n",
       "      <td>3232.59</td>\n",
       "      <td>56</td>\n",
       "      <td>1390</td>\n",
       "      <td>0.028302</td>\n",
       "      <td>35</td>\n",
       "      <td>3</td>\n",
       "    </tr>\n",
       "    <tr>\n",
       "      <th>2</th>\n",
       "      <td>12583</td>\n",
       "      <td>6705.38</td>\n",
       "      <td>2</td>\n",
       "      <td>5028</td>\n",
       "      <td>0.040323</td>\n",
       "      <td>50</td>\n",
       "      <td>0</td>\n",
       "    </tr>\n",
       "    <tr>\n",
       "      <th>3</th>\n",
       "      <td>13748</td>\n",
       "      <td>948.25</td>\n",
       "      <td>95</td>\n",
       "      <td>439</td>\n",
       "      <td>0.017921</td>\n",
       "      <td>0</td>\n",
       "      <td>4</td>\n",
       "    </tr>\n",
       "    <tr>\n",
       "      <th>4</th>\n",
       "      <td>15100</td>\n",
       "      <td>876.00</td>\n",
       "      <td>333</td>\n",
       "      <td>80</td>\n",
       "      <td>0.073171</td>\n",
       "      <td>22</td>\n",
       "      <td>1</td>\n",
       "    </tr>\n",
       "  </tbody>\n",
       "</table>\n",
       "</div>"
      ],
      "text/plain": [
       "   customer_id  gross_revenue  recency_days  total_quantity  frequency  \\\n",
       "0        17850        5391.21           372            1733  17.000000   \n",
       "1        13047        3232.59            56            1390   0.028302   \n",
       "2        12583        6705.38             2            5028   0.040323   \n",
       "3        13748         948.25            95             439   0.017921   \n",
       "4        15100         876.00           333              80   0.073171   \n",
       "\n",
       "   qty_returns  cluster  \n",
       "0           40        0  \n",
       "1           35        3  \n",
       "2           50        0  \n",
       "3            0        4  \n",
       "4           22        1  "
      ]
     },
     "execution_count": 42,
     "metadata": {},
     "output_type": "execute_result"
    }
   ],
   "source": [
    "df92 = df4[cols_selected].copy()\n",
    "df92['cluster'] = labels\n",
    "df92.head()\n",
    "\n",
    "# change the types\n",
    "df92['recency_days'] = df92['recency_days'].astype(np.int64)\n",
    "df92['total_quantity'] = df92['total_quantity'].astype(np.int64)\n",
    "df92['qty_returns'] = df92['qty_returns'].astype(np.int64)\n",
    "\n",
    "# df92['last_training_timestamp'] = datetime.now().strftime('%Y-%m-%d %H:%M:%S')\n",
    "\n",
    "df92.head()"
   ]
  },
  {
   "cell_type": "code",
   "execution_count": 43,
   "id": "000ffe9e",
   "metadata": {
    "execution": {
     "iopub.execute_input": "2022-10-27T02:04:56.424631Z",
     "iopub.status.busy": "2022-10-27T02:04:56.424631Z",
     "iopub.status.idle": "2022-10-27T02:04:56.523631Z",
     "shell.execute_reply": "2022-10-27T02:04:56.522664Z"
    },
    "papermill": {
     "duration": 0.143964,
     "end_time": "2022-10-27T02:04:56.527626",
     "exception": false,
     "start_time": "2022-10-27T02:04:56.383662",
     "status": "completed"
    },
    "tags": []
   },
   "outputs": [
    {
     "data": {
      "text/html": [
       "<div>\n",
       "<style scoped>\n",
       "    .dataframe tbody tr th:only-of-type {\n",
       "        vertical-align: middle;\n",
       "    }\n",
       "\n",
       "    .dataframe tbody tr th {\n",
       "        vertical-align: top;\n",
       "    }\n",
       "\n",
       "    .dataframe thead th {\n",
       "        text-align: right;\n",
       "    }\n",
       "</style>\n",
       "<table border=\"1\" class=\"dataframe\">\n",
       "  <thead>\n",
       "    <tr style=\"text-align: right;\">\n",
       "      <th></th>\n",
       "      <th>cluster</th>\n",
       "      <th>customer_id</th>\n",
       "      <th>perc_cluster</th>\n",
       "      <th>gross_revenue</th>\n",
       "      <th>recency_days</th>\n",
       "      <th>total_quantity</th>\n",
       "      <th>frequency</th>\n",
       "      <th>qty_returns</th>\n",
       "    </tr>\n",
       "  </thead>\n",
       "  <tbody>\n",
       "    <tr>\n",
       "      <th>0</th>\n",
       "      <td>0</td>\n",
       "      <td>715</td>\n",
       "      <td>12.554873</td>\n",
       "      <td>8669.412727</td>\n",
       "      <td>43.739860</td>\n",
       "      <td>5057.772028</td>\n",
       "      <td>0.204235</td>\n",
       "      <td>211.667133</td>\n",
       "    </tr>\n",
       "    <tr>\n",
       "      <th>3</th>\n",
       "      <td>3</td>\n",
       "      <td>1038</td>\n",
       "      <td>18.226514</td>\n",
       "      <td>1873.850164</td>\n",
       "      <td>62.394027</td>\n",
       "      <td>998.972062</td>\n",
       "      <td>0.206859</td>\n",
       "      <td>15.008671</td>\n",
       "    </tr>\n",
       "    <tr>\n",
       "      <th>2</th>\n",
       "      <td>2</td>\n",
       "      <td>538</td>\n",
       "      <td>9.446883</td>\n",
       "      <td>1185.906468</td>\n",
       "      <td>112.481413</td>\n",
       "      <td>514.334572</td>\n",
       "      <td>0.612521</td>\n",
       "      <td>7.734201</td>\n",
       "    </tr>\n",
       "    <tr>\n",
       "      <th>4</th>\n",
       "      <td>4</td>\n",
       "      <td>1293</td>\n",
       "      <td>22.704126</td>\n",
       "      <td>684.597920</td>\n",
       "      <td>108.976798</td>\n",
       "      <td>310.640371</td>\n",
       "      <td>0.448812</td>\n",
       "      <td>3.738592</td>\n",
       "    </tr>\n",
       "    <tr>\n",
       "      <th>1</th>\n",
       "      <td>1</td>\n",
       "      <td>1233</td>\n",
       "      <td>21.650571</td>\n",
       "      <td>304.541792</td>\n",
       "      <td>161.281427</td>\n",
       "      <td>117.021898</td>\n",
       "      <td>0.800100</td>\n",
       "      <td>1.424980</td>\n",
       "    </tr>\n",
       "    <tr>\n",
       "      <th>5</th>\n",
       "      <td>5</td>\n",
       "      <td>878</td>\n",
       "      <td>15.417032</td>\n",
       "      <td>70.921367</td>\n",
       "      <td>193.145786</td>\n",
       "      <td>18.800683</td>\n",
       "      <td>0.979196</td>\n",
       "      <td>0.455581</td>\n",
       "    </tr>\n",
       "  </tbody>\n",
       "</table>\n",
       "</div>"
      ],
      "text/plain": [
       "   cluster  customer_id  perc_cluster  gross_revenue  recency_days  \\\n",
       "0        0          715     12.554873    8669.412727     43.739860   \n",
       "3        3         1038     18.226514    1873.850164     62.394027   \n",
       "2        2          538      9.446883    1185.906468    112.481413   \n",
       "4        4         1293     22.704126     684.597920    108.976798   \n",
       "1        1         1233     21.650571     304.541792    161.281427   \n",
       "5        5          878     15.417032      70.921367    193.145786   \n",
       "\n",
       "   total_quantity  frequency  qty_returns  \n",
       "0     5057.772028   0.204235   211.667133  \n",
       "3      998.972062   0.206859    15.008671  \n",
       "2      514.334572   0.612521     7.734201  \n",
       "4      310.640371   0.448812     3.738592  \n",
       "1      117.021898   0.800100     1.424980  \n",
       "5       18.800683   0.979196     0.455581  "
      ]
     },
     "execution_count": 43,
     "metadata": {},
     "output_type": "execute_result"
    }
   ],
   "source": [
    "# number of customers\n",
    "df_cluster = df92[['customer_id','cluster']].groupby('cluster').count().reset_index()\n",
    "df_cluster['perc_cluster'] = (df_cluster['customer_id']/df_cluster['customer_id'].sum())*100\n",
    "\n",
    "# Avg Gross revenue\n",
    "df_avg_gross_revenue = df92[['gross_revenue', 'cluster']].groupby('cluster').mean().reset_index()\n",
    "df_cluster = pd.merge(df_cluster, df_avg_gross_revenue, how='inner', on='cluster')\n",
    "\n",
    "# Avg recency days\n",
    "df_recency_days = df92[['recency_days', 'cluster']].groupby('cluster').mean().reset_index()\n",
    "df_cluster = pd.merge(df_cluster, df_recency_days, how='inner', on='cluster')\n",
    "\n",
    "# Avg quantity\n",
    "df_qty = df92[['total_quantity', 'cluster']].groupby('cluster').mean().reset_index()\n",
    "df_cluster = pd.merge(df_cluster, df_qty, how='inner', on='cluster')\n",
    "\n",
    "# frequency\n",
    "df_frequency = df92[['frequency', 'cluster']].groupby('cluster').mean().reset_index()\n",
    "df_cluster = pd.merge(df_cluster, df_frequency, how='inner', on='cluster')\n",
    "\n",
    "# qty_returns\n",
    "df_returns = df92[['qty_returns', 'cluster']].groupby('cluster').mean().reset_index()\n",
    "df_cluster = pd.merge(df_cluster, df_returns, how='inner', on='cluster')\n",
    "\n",
    "df_cluster.sort_values('gross_revenue', ascending=False)"
   ]
  },
  {
   "cell_type": "markdown",
   "id": "1a2b68a3",
   "metadata": {
    "papermill": {
     "duration": 0.037961,
     "end_time": "2022-10-27T02:04:56.597625",
     "exception": false,
     "start_time": "2022-10-27T02:04:56.559664",
     "status": "completed"
    },
    "tags": []
   },
   "source": [
    "# 10.0 DEPLOY TO PRODUCTION"
   ]
  },
  {
   "cell_type": "code",
   "execution_count": 44,
   "id": "1e6a7202",
   "metadata": {
    "execution": {
     "iopub.execute_input": "2022-10-27T02:04:56.674623Z",
     "iopub.status.busy": "2022-10-27T02:04:56.673620Z",
     "iopub.status.idle": "2022-10-27T02:04:56.698623Z",
     "shell.execute_reply": "2022-10-27T02:04:56.696619Z"
    },
    "papermill": {
     "duration": 0.069992,
     "end_time": "2022-10-27T02:04:56.703618",
     "exception": false,
     "start_time": "2022-10-27T02:04:56.633626",
     "status": "completed"
    },
    "tags": []
   },
   "outputs": [
    {
     "data": {
      "text/plain": [
       "customer_id         int64\n",
       "gross_revenue     float64\n",
       "recency_days        int64\n",
       "total_quantity      int64\n",
       "frequency         float64\n",
       "qty_returns         int64\n",
       "cluster             int32\n",
       "dtype: object"
      ]
     },
     "execution_count": 44,
     "metadata": {},
     "output_type": "execute_result"
    }
   ],
   "source": [
    "df92.dtypes"
   ]
  },
  {
   "cell_type": "markdown",
   "id": "d4c9499f",
   "metadata": {
    "papermill": {
     "duration": 0.042,
     "end_time": "2022-10-27T02:04:56.792622",
     "exception": false,
     "start_time": "2022-10-27T02:04:56.750622",
     "status": "completed"
    },
    "tags": []
   },
   "source": [
    "## 10.1 Insert into SQLITE"
   ]
  },
  {
   "cell_type": "markdown",
   "id": "cda1c89f",
   "metadata": {
    "tags": [
     "papermill-error-cell-tag"
    ]
   },
   "source": [
    "<span id=\"papermill-error-cell\" style=\"color:red; font-family:Helvetica Neue, Helvetica, Arial, sans-serif; font-size:2em;\">Execution using papermill encountered an exception here and stopped:</span>"
   ]
  },
  {
   "cell_type": "code",
   "execution_count": 45,
   "id": "e8cd7ab1",
   "metadata": {
    "execution": {
     "iopub.execute_input": "2022-10-27T02:04:56.866622Z",
     "iopub.status.busy": "2022-10-27T02:04:56.864621Z",
     "iopub.status.idle": "2022-10-27T02:04:59.758622Z",
     "shell.execute_reply": "2022-10-27T02:04:59.756819Z"
    },
    "papermill": {
     "duration": 2.93204,
     "end_time": "2022-10-27T02:04:59.759658",
     "exception": true,
     "start_time": "2022-10-27T02:04:56.827618",
     "status": "failed"
    },
    "tags": []
   },
   "outputs": [
    {
     "ename": "OperationalError",
     "evalue": "(sqlite3.OperationalError) no such table: insiders\n[SQL: \n    DROP TABLE insiders\n\n\n]\n(Background on this error at: https://sqlalche.me/e/14/e3q8)",
     "output_type": "error",
     "traceback": [
      "\u001b[1;31m---------------------------------------------------------------------------\u001b[0m",
      "\u001b[1;31mOperationalError\u001b[0m                          Traceback (most recent call last)",
      "File \u001b[1;32m~\\anaconda3\\lib\\site-packages\\sqlalchemy\\engine\\base.py:1808\u001b[0m, in \u001b[0;36mConnection._execute_context\u001b[1;34m(self, dialect, constructor, statement, parameters, execution_options, *args, **kw)\u001b[0m\n\u001b[0;32m   1807\u001b[0m     \u001b[38;5;28;01mif\u001b[39;00m \u001b[38;5;129;01mnot\u001b[39;00m evt_handled:\n\u001b[1;32m-> 1808\u001b[0m         \u001b[38;5;28;43mself\u001b[39;49m\u001b[38;5;241;43m.\u001b[39;49m\u001b[43mdialect\u001b[49m\u001b[38;5;241;43m.\u001b[39;49m\u001b[43mdo_execute\u001b[49m\u001b[43m(\u001b[49m\n\u001b[0;32m   1809\u001b[0m \u001b[43m            \u001b[49m\u001b[43mcursor\u001b[49m\u001b[43m,\u001b[49m\u001b[43m \u001b[49m\u001b[43mstatement\u001b[49m\u001b[43m,\u001b[49m\u001b[43m \u001b[49m\u001b[43mparameters\u001b[49m\u001b[43m,\u001b[49m\u001b[43m \u001b[49m\u001b[43mcontext\u001b[49m\n\u001b[0;32m   1810\u001b[0m \u001b[43m        \u001b[49m\u001b[43m)\u001b[49m\n\u001b[0;32m   1812\u001b[0m \u001b[38;5;28;01mif\u001b[39;00m \u001b[38;5;28mself\u001b[39m\u001b[38;5;241m.\u001b[39m_has_events \u001b[38;5;129;01mor\u001b[39;00m \u001b[38;5;28mself\u001b[39m\u001b[38;5;241m.\u001b[39mengine\u001b[38;5;241m.\u001b[39m_has_events:\n",
      "File \u001b[1;32m~\\anaconda3\\lib\\site-packages\\sqlalchemy\\engine\\default.py:732\u001b[0m, in \u001b[0;36mDefaultDialect.do_execute\u001b[1;34m(self, cursor, statement, parameters, context)\u001b[0m\n\u001b[0;32m    731\u001b[0m \u001b[38;5;28;01mdef\u001b[39;00m \u001b[38;5;21mdo_execute\u001b[39m(\u001b[38;5;28mself\u001b[39m, cursor, statement, parameters, context\u001b[38;5;241m=\u001b[39m\u001b[38;5;28;01mNone\u001b[39;00m):\n\u001b[1;32m--> 732\u001b[0m     \u001b[43mcursor\u001b[49m\u001b[38;5;241;43m.\u001b[39;49m\u001b[43mexecute\u001b[49m\u001b[43m(\u001b[49m\u001b[43mstatement\u001b[49m\u001b[43m,\u001b[49m\u001b[43m \u001b[49m\u001b[43mparameters\u001b[49m\u001b[43m)\u001b[49m\n",
      "\u001b[1;31mOperationalError\u001b[0m: no such table: insiders",
      "\nThe above exception was the direct cause of the following exception:\n",
      "\u001b[1;31mOperationalError\u001b[0m                          Traceback (most recent call last)",
      "Input \u001b[1;32mIn [45]\u001b[0m, in \u001b[0;36m<cell line: 23>\u001b[1;34m()\u001b[0m\n\u001b[0;32m     11\u001b[0m \u001b[38;5;66;03m# create table\u001b[39;00m\n\u001b[0;32m     12\u001b[0m query_create_table_insiders \u001b[38;5;241m=\u001b[39m \u001b[38;5;124m\"\"\"\u001b[39m\n\u001b[0;32m     13\u001b[0m \u001b[38;5;124m    CREATE TABLE insiders (\u001b[39m\n\u001b[0;32m     14\u001b[0m \u001b[38;5;124m        customer_id     INTEGER,\u001b[39m\n\u001b[1;32m   (...)\u001b[0m\n\u001b[0;32m     20\u001b[0m \u001b[38;5;124m        cluster         INTEGER\u001b[39m\n\u001b[0;32m     21\u001b[0m \u001b[38;5;124m        ) \u001b[39m\u001b[38;5;124m\"\"\"\u001b[39m\n\u001b[1;32m---> 23\u001b[0m \u001b[43mconn\u001b[49m\u001b[38;5;241;43m.\u001b[39;49m\u001b[43mexecute\u001b[49m\u001b[43m(\u001b[49m\u001b[43mquery_drop_insiders\u001b[49m\u001b[43m)\u001b[49m\n\u001b[0;32m     25\u001b[0m \u001b[38;5;66;03m# insert data\u001b[39;00m\n\u001b[0;32m     26\u001b[0m df92\u001b[38;5;241m.\u001b[39mto_sql(\u001b[38;5;124m'\u001b[39m\u001b[38;5;124minsiders\u001b[39m\u001b[38;5;124m'\u001b[39m, con\u001b[38;5;241m=\u001b[39mconn, if_exists\u001b[38;5;241m=\u001b[39m\u001b[38;5;124m'\u001b[39m\u001b[38;5;124mappend\u001b[39m\u001b[38;5;124m'\u001b[39m, index\u001b[38;5;241m=\u001b[39m\u001b[38;5;28;01mFalse\u001b[39;00m)\n",
      "File \u001b[1;32m<string>:2\u001b[0m, in \u001b[0;36mexecute\u001b[1;34m(self, statement, *multiparams, **params)\u001b[0m\n",
      "File \u001b[1;32m~\\anaconda3\\lib\\site-packages\\sqlalchemy\\util\\deprecations.py:401\u001b[0m, in \u001b[0;36m_decorate_with_warning.<locals>.warned\u001b[1;34m(fn, *args, **kwargs)\u001b[0m\n\u001b[0;32m    399\u001b[0m \u001b[38;5;28;01mif\u001b[39;00m \u001b[38;5;129;01mnot\u001b[39;00m skip_warning:\n\u001b[0;32m    400\u001b[0m     _warn_with_version(message, version, wtype, stacklevel\u001b[38;5;241m=\u001b[39m\u001b[38;5;241m3\u001b[39m)\n\u001b[1;32m--> 401\u001b[0m \u001b[38;5;28;01mreturn\u001b[39;00m fn(\u001b[38;5;241m*\u001b[39margs, \u001b[38;5;241m*\u001b[39m\u001b[38;5;241m*\u001b[39mkwargs)\n",
      "File \u001b[1;32m~\\anaconda3\\lib\\site-packages\\sqlalchemy\\engine\\base.py:3152\u001b[0m, in \u001b[0;36mEngine.execute\u001b[1;34m(self, statement, *multiparams, **params)\u001b[0m\n\u001b[0;32m   3134\u001b[0m \u001b[38;5;124;03m\"\"\"Executes the given construct and returns a\u001b[39;00m\n\u001b[0;32m   3135\u001b[0m \u001b[38;5;124;03m:class:`_engine.CursorResult`.\u001b[39;00m\n\u001b[0;32m   3136\u001b[0m \n\u001b[1;32m   (...)\u001b[0m\n\u001b[0;32m   3149\u001b[0m \n\u001b[0;32m   3150\u001b[0m \u001b[38;5;124;03m\"\"\"\u001b[39;00m\n\u001b[0;32m   3151\u001b[0m connection \u001b[38;5;241m=\u001b[39m \u001b[38;5;28mself\u001b[39m\u001b[38;5;241m.\u001b[39mconnect(close_with_result\u001b[38;5;241m=\u001b[39m\u001b[38;5;28;01mTrue\u001b[39;00m)\n\u001b[1;32m-> 3152\u001b[0m \u001b[38;5;28;01mreturn\u001b[39;00m connection\u001b[38;5;241m.\u001b[39mexecute(statement, \u001b[38;5;241m*\u001b[39mmultiparams, \u001b[38;5;241m*\u001b[39m\u001b[38;5;241m*\u001b[39mparams)\n",
      "File \u001b[1;32m~\\anaconda3\\lib\\site-packages\\sqlalchemy\\engine\\base.py:1280\u001b[0m, in \u001b[0;36mConnection.execute\u001b[1;34m(self, statement, *multiparams, **params)\u001b[0m\n\u001b[0;32m   1271\u001b[0m \u001b[38;5;28;01mif\u001b[39;00m \u001b[38;5;28misinstance\u001b[39m(statement, util\u001b[38;5;241m.\u001b[39mstring_types):\n\u001b[0;32m   1272\u001b[0m     util\u001b[38;5;241m.\u001b[39mwarn_deprecated_20(\n\u001b[0;32m   1273\u001b[0m         \u001b[38;5;124m\"\u001b[39m\u001b[38;5;124mPassing a string to Connection.execute() is \u001b[39m\u001b[38;5;124m\"\u001b[39m\n\u001b[0;32m   1274\u001b[0m         \u001b[38;5;124m\"\u001b[39m\u001b[38;5;124mdeprecated and will be removed in version 2.0.  Use the \u001b[39m\u001b[38;5;124m\"\u001b[39m\n\u001b[1;32m   (...)\u001b[0m\n\u001b[0;32m   1277\u001b[0m         \u001b[38;5;124m\"\u001b[39m\u001b[38;5;124mdriver-level SQL string.\u001b[39m\u001b[38;5;124m\"\u001b[39m\n\u001b[0;32m   1278\u001b[0m     )\n\u001b[1;32m-> 1280\u001b[0m     \u001b[38;5;28;01mreturn\u001b[39;00m \u001b[38;5;28;43mself\u001b[39;49m\u001b[38;5;241;43m.\u001b[39;49m\u001b[43m_exec_driver_sql\u001b[49m\u001b[43m(\u001b[49m\n\u001b[0;32m   1281\u001b[0m \u001b[43m        \u001b[49m\u001b[43mstatement\u001b[49m\u001b[43m,\u001b[49m\n\u001b[0;32m   1282\u001b[0m \u001b[43m        \u001b[49m\u001b[43mmultiparams\u001b[49m\u001b[43m,\u001b[49m\n\u001b[0;32m   1283\u001b[0m \u001b[43m        \u001b[49m\u001b[43mparams\u001b[49m\u001b[43m,\u001b[49m\n\u001b[0;32m   1284\u001b[0m \u001b[43m        \u001b[49m\u001b[43m_EMPTY_EXECUTION_OPTS\u001b[49m\u001b[43m,\u001b[49m\n\u001b[0;32m   1285\u001b[0m \u001b[43m        \u001b[49m\u001b[43mfuture\u001b[49m\u001b[38;5;241;43m=\u001b[39;49m\u001b[38;5;28;43;01mFalse\u001b[39;49;00m\u001b[43m,\u001b[49m\n\u001b[0;32m   1286\u001b[0m \u001b[43m    \u001b[49m\u001b[43m)\u001b[49m\n\u001b[0;32m   1288\u001b[0m \u001b[38;5;28;01mtry\u001b[39;00m:\n\u001b[0;32m   1289\u001b[0m     meth \u001b[38;5;241m=\u001b[39m statement\u001b[38;5;241m.\u001b[39m_execute_on_connection\n",
      "File \u001b[1;32m~\\anaconda3\\lib\\site-packages\\sqlalchemy\\engine\\base.py:1584\u001b[0m, in \u001b[0;36mConnection._exec_driver_sql\u001b[1;34m(self, statement, multiparams, params, execution_options, future)\u001b[0m\n\u001b[0;32m   1574\u001b[0m         (\n\u001b[0;32m   1575\u001b[0m             statement,\n\u001b[0;32m   1576\u001b[0m             distilled_params,\n\u001b[1;32m   (...)\u001b[0m\n\u001b[0;32m   1580\u001b[0m             statement, distilled_parameters, execution_options\n\u001b[0;32m   1581\u001b[0m         )\n\u001b[0;32m   1583\u001b[0m dialect \u001b[38;5;241m=\u001b[39m \u001b[38;5;28mself\u001b[39m\u001b[38;5;241m.\u001b[39mdialect\n\u001b[1;32m-> 1584\u001b[0m ret \u001b[38;5;241m=\u001b[39m \u001b[38;5;28;43mself\u001b[39;49m\u001b[38;5;241;43m.\u001b[39;49m\u001b[43m_execute_context\u001b[49m\u001b[43m(\u001b[49m\n\u001b[0;32m   1585\u001b[0m \u001b[43m    \u001b[49m\u001b[43mdialect\u001b[49m\u001b[43m,\u001b[49m\n\u001b[0;32m   1586\u001b[0m \u001b[43m    \u001b[49m\u001b[43mdialect\u001b[49m\u001b[38;5;241;43m.\u001b[39;49m\u001b[43mexecution_ctx_cls\u001b[49m\u001b[38;5;241;43m.\u001b[39;49m\u001b[43m_init_statement\u001b[49m\u001b[43m,\u001b[49m\n\u001b[0;32m   1587\u001b[0m \u001b[43m    \u001b[49m\u001b[43mstatement\u001b[49m\u001b[43m,\u001b[49m\n\u001b[0;32m   1588\u001b[0m \u001b[43m    \u001b[49m\u001b[43mdistilled_parameters\u001b[49m\u001b[43m,\u001b[49m\n\u001b[0;32m   1589\u001b[0m \u001b[43m    \u001b[49m\u001b[43mexecution_options\u001b[49m\u001b[43m,\u001b[49m\n\u001b[0;32m   1590\u001b[0m \u001b[43m    \u001b[49m\u001b[43mstatement\u001b[49m\u001b[43m,\u001b[49m\n\u001b[0;32m   1591\u001b[0m \u001b[43m    \u001b[49m\u001b[43mdistilled_parameters\u001b[49m\u001b[43m,\u001b[49m\n\u001b[0;32m   1592\u001b[0m \u001b[43m\u001b[49m\u001b[43m)\u001b[49m\n\u001b[0;32m   1594\u001b[0m \u001b[38;5;28;01mif\u001b[39;00m \u001b[38;5;129;01mnot\u001b[39;00m future:\n\u001b[0;32m   1595\u001b[0m     \u001b[38;5;28;01mif\u001b[39;00m \u001b[38;5;28mself\u001b[39m\u001b[38;5;241m.\u001b[39m_has_events \u001b[38;5;129;01mor\u001b[39;00m \u001b[38;5;28mself\u001b[39m\u001b[38;5;241m.\u001b[39mengine\u001b[38;5;241m.\u001b[39m_has_events:\n",
      "File \u001b[1;32m~\\anaconda3\\lib\\site-packages\\sqlalchemy\\engine\\base.py:1851\u001b[0m, in \u001b[0;36mConnection._execute_context\u001b[1;34m(self, dialect, constructor, statement, parameters, execution_options, *args, **kw)\u001b[0m\n\u001b[0;32m   1848\u001b[0m             branched\u001b[38;5;241m.\u001b[39mclose()\n\u001b[0;32m   1850\u001b[0m \u001b[38;5;28;01mexcept\u001b[39;00m \u001b[38;5;167;01mBaseException\u001b[39;00m \u001b[38;5;28;01mas\u001b[39;00m e:\n\u001b[1;32m-> 1851\u001b[0m     \u001b[38;5;28;43mself\u001b[39;49m\u001b[38;5;241;43m.\u001b[39;49m\u001b[43m_handle_dbapi_exception\u001b[49m\u001b[43m(\u001b[49m\n\u001b[0;32m   1852\u001b[0m \u001b[43m        \u001b[49m\u001b[43me\u001b[49m\u001b[43m,\u001b[49m\u001b[43m \u001b[49m\u001b[43mstatement\u001b[49m\u001b[43m,\u001b[49m\u001b[43m \u001b[49m\u001b[43mparameters\u001b[49m\u001b[43m,\u001b[49m\u001b[43m \u001b[49m\u001b[43mcursor\u001b[49m\u001b[43m,\u001b[49m\u001b[43m \u001b[49m\u001b[43mcontext\u001b[49m\n\u001b[0;32m   1853\u001b[0m \u001b[43m    \u001b[49m\u001b[43m)\u001b[49m\n\u001b[0;32m   1855\u001b[0m \u001b[38;5;28;01mreturn\u001b[39;00m result\n",
      "File \u001b[1;32m~\\anaconda3\\lib\\site-packages\\sqlalchemy\\engine\\base.py:2032\u001b[0m, in \u001b[0;36mConnection._handle_dbapi_exception\u001b[1;34m(self, e, statement, parameters, cursor, context)\u001b[0m\n\u001b[0;32m   2030\u001b[0m     util\u001b[38;5;241m.\u001b[39mraise_(newraise, with_traceback\u001b[38;5;241m=\u001b[39mexc_info[\u001b[38;5;241m2\u001b[39m], from_\u001b[38;5;241m=\u001b[39me)\n\u001b[0;32m   2031\u001b[0m \u001b[38;5;28;01melif\u001b[39;00m should_wrap:\n\u001b[1;32m-> 2032\u001b[0m     \u001b[43mutil\u001b[49m\u001b[38;5;241;43m.\u001b[39;49m\u001b[43mraise_\u001b[49m\u001b[43m(\u001b[49m\n\u001b[0;32m   2033\u001b[0m \u001b[43m        \u001b[49m\u001b[43msqlalchemy_exception\u001b[49m\u001b[43m,\u001b[49m\u001b[43m \u001b[49m\u001b[43mwith_traceback\u001b[49m\u001b[38;5;241;43m=\u001b[39;49m\u001b[43mexc_info\u001b[49m\u001b[43m[\u001b[49m\u001b[38;5;241;43m2\u001b[39;49m\u001b[43m]\u001b[49m\u001b[43m,\u001b[49m\u001b[43m \u001b[49m\u001b[43mfrom_\u001b[49m\u001b[38;5;241;43m=\u001b[39;49m\u001b[43me\u001b[49m\n\u001b[0;32m   2034\u001b[0m \u001b[43m    \u001b[49m\u001b[43m)\u001b[49m\n\u001b[0;32m   2035\u001b[0m \u001b[38;5;28;01melse\u001b[39;00m:\n\u001b[0;32m   2036\u001b[0m     util\u001b[38;5;241m.\u001b[39mraise_(exc_info[\u001b[38;5;241m1\u001b[39m], with_traceback\u001b[38;5;241m=\u001b[39mexc_info[\u001b[38;5;241m2\u001b[39m])\n",
      "File \u001b[1;32m~\\anaconda3\\lib\\site-packages\\sqlalchemy\\util\\compat.py:207\u001b[0m, in \u001b[0;36mraise_\u001b[1;34m(***failed resolving arguments***)\u001b[0m\n\u001b[0;32m    204\u001b[0m     exception\u001b[38;5;241m.\u001b[39m__cause__ \u001b[38;5;241m=\u001b[39m replace_context\n\u001b[0;32m    206\u001b[0m \u001b[38;5;28;01mtry\u001b[39;00m:\n\u001b[1;32m--> 207\u001b[0m     \u001b[38;5;28;01mraise\u001b[39;00m exception\n\u001b[0;32m    208\u001b[0m \u001b[38;5;28;01mfinally\u001b[39;00m:\n\u001b[0;32m    209\u001b[0m     \u001b[38;5;66;03m# credit to\u001b[39;00m\n\u001b[0;32m    210\u001b[0m     \u001b[38;5;66;03m# https://cosmicpercolator.com/2016/01/13/exception-leaks-in-python-2-and-3/\u001b[39;00m\n\u001b[0;32m    211\u001b[0m     \u001b[38;5;66;03m# as the __traceback__ object creates a cycle\u001b[39;00m\n\u001b[0;32m    212\u001b[0m     \u001b[38;5;28;01mdel\u001b[39;00m exception, replace_context, from_, with_traceback\n",
      "File \u001b[1;32m~\\anaconda3\\lib\\site-packages\\sqlalchemy\\engine\\base.py:1808\u001b[0m, in \u001b[0;36mConnection._execute_context\u001b[1;34m(self, dialect, constructor, statement, parameters, execution_options, *args, **kw)\u001b[0m\n\u001b[0;32m   1806\u001b[0m                 \u001b[38;5;28;01mbreak\u001b[39;00m\n\u001b[0;32m   1807\u001b[0m     \u001b[38;5;28;01mif\u001b[39;00m \u001b[38;5;129;01mnot\u001b[39;00m evt_handled:\n\u001b[1;32m-> 1808\u001b[0m         \u001b[38;5;28;43mself\u001b[39;49m\u001b[38;5;241;43m.\u001b[39;49m\u001b[43mdialect\u001b[49m\u001b[38;5;241;43m.\u001b[39;49m\u001b[43mdo_execute\u001b[49m\u001b[43m(\u001b[49m\n\u001b[0;32m   1809\u001b[0m \u001b[43m            \u001b[49m\u001b[43mcursor\u001b[49m\u001b[43m,\u001b[49m\u001b[43m \u001b[49m\u001b[43mstatement\u001b[49m\u001b[43m,\u001b[49m\u001b[43m \u001b[49m\u001b[43mparameters\u001b[49m\u001b[43m,\u001b[49m\u001b[43m \u001b[49m\u001b[43mcontext\u001b[49m\n\u001b[0;32m   1810\u001b[0m \u001b[43m        \u001b[49m\u001b[43m)\u001b[49m\n\u001b[0;32m   1812\u001b[0m \u001b[38;5;28;01mif\u001b[39;00m \u001b[38;5;28mself\u001b[39m\u001b[38;5;241m.\u001b[39m_has_events \u001b[38;5;129;01mor\u001b[39;00m \u001b[38;5;28mself\u001b[39m\u001b[38;5;241m.\u001b[39mengine\u001b[38;5;241m.\u001b[39m_has_events:\n\u001b[0;32m   1813\u001b[0m     \u001b[38;5;28mself\u001b[39m\u001b[38;5;241m.\u001b[39mdispatch\u001b[38;5;241m.\u001b[39mafter_cursor_execute(\n\u001b[0;32m   1814\u001b[0m         \u001b[38;5;28mself\u001b[39m,\n\u001b[0;32m   1815\u001b[0m         cursor,\n\u001b[1;32m   (...)\u001b[0m\n\u001b[0;32m   1819\u001b[0m         context\u001b[38;5;241m.\u001b[39mexecutemany,\n\u001b[0;32m   1820\u001b[0m     )\n",
      "File \u001b[1;32m~\\anaconda3\\lib\\site-packages\\sqlalchemy\\engine\\default.py:732\u001b[0m, in \u001b[0;36mDefaultDialect.do_execute\u001b[1;34m(self, cursor, statement, parameters, context)\u001b[0m\n\u001b[0;32m    731\u001b[0m \u001b[38;5;28;01mdef\u001b[39;00m \u001b[38;5;21mdo_execute\u001b[39m(\u001b[38;5;28mself\u001b[39m, cursor, statement, parameters, context\u001b[38;5;241m=\u001b[39m\u001b[38;5;28;01mNone\u001b[39;00m):\n\u001b[1;32m--> 732\u001b[0m     \u001b[43mcursor\u001b[49m\u001b[38;5;241;43m.\u001b[39;49m\u001b[43mexecute\u001b[49m\u001b[43m(\u001b[49m\u001b[43mstatement\u001b[49m\u001b[43m,\u001b[49m\u001b[43m \u001b[49m\u001b[43mparameters\u001b[49m\u001b[43m)\u001b[49m\n",
      "\u001b[1;31mOperationalError\u001b[0m: (sqlite3.OperationalError) no such table: insiders\n[SQL: \n    DROP TABLE insiders\n\n\n]\n(Background on this error at: https://sqlalche.me/e/14/e3q8)"
     ]
    }
   ],
   "source": [
    "# database connection\n",
    "conn = create_engine('sqlite:///insiders_db.sqlite')\n",
    "\n",
    "# drop table\n",
    "query_drop_insiders = \"\"\"\n",
    "    DROP TABLE insiders\n",
    "\n",
    "\n",
    "\"\"\"\n",
    "\n",
    "# create table\n",
    "query_create_table_insiders = \"\"\"\n",
    "    CREATE TABLE insiders (\n",
    "        customer_id     INTEGER,\n",
    "        gross_revenue   REAL,\n",
    "        recency_days    INTEGER,\n",
    "        total_quantity  INTEGER,\n",
    "        frequency       REAL,\n",
    "        qty_returns     INTEGER,\n",
    "        cluster         INTEGER\n",
    "        ) \"\"\"\n",
    "\n",
    "conn.execute(query_drop_insiders)\n",
    "\n",
    "# insert data\n",
    "df92.to_sql('insiders', con=conn, if_exists='append', index=False)\n",
    "\n",
    "# select data"
   ]
  },
  {
   "cell_type": "code",
   "execution_count": null,
   "id": "26c319e6",
   "metadata": {
    "papermill": {
     "duration": null,
     "end_time": null,
     "exception": null,
     "start_time": null,
     "status": "pending"
    },
    "tags": []
   },
   "outputs": [],
   "source": [
    "# consulting database\n",
    "# query = \"\"\"\n",
    "#     SELECT * FROM insiders\n",
    "#     \"\"\"\n",
    "\n",
    "# df = pd.read_sql_query(query, conn)\n",
    "# df.head()"
   ]
  },
  {
   "cell_type": "code",
   "execution_count": null,
   "id": "e17f9d25",
   "metadata": {
    "papermill": {
     "duration": null,
     "end_time": null,
     "exception": null,
     "start_time": null,
     "status": "pending"
    },
    "tags": []
   },
   "outputs": [],
   "source": [
    "df.head()"
   ]
  }
 ],
 "metadata": {
  "kernelspec": {
   "display_name": "Python 3.9.12 ('base')",
   "language": "python",
   "name": "python3"
  },
  "language_info": {
   "codemirror_mode": {
    "name": "ipython",
    "version": 3
   },
   "file_extension": ".py",
   "mimetype": "text/x-python",
   "name": "python",
   "nbconvert_exporter": "python",
   "pygments_lexer": "ipython3",
   "version": "3.9.12"
  },
  "papermill": {
   "default_parameters": {},
   "duration": 84.562355,
   "end_time": "2022-10-27T02:05:01.341708",
   "environment_variables": {},
   "exception": true,
   "input_path": "notebooks\\insiders_clustering_deploy.ipynb",
   "output_path": "reports\\insiders_clustering_deploy_2022_10_26.ipynb",
   "parameters": {},
   "start_time": "2022-10-27T02:03:36.779353",
   "version": "2.4.0"
  },
  "vscode": {
   "interpreter": {
    "hash": "465bc43bf4cbae58c142e3527ff2b05702dd810bc8ebc4f627e0af6c067b87a4"
   }
  }
 },
 "nbformat": 4,
 "nbformat_minor": 5
}