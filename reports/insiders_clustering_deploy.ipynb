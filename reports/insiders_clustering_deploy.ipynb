{
 "cells": [
  {
   "cell_type": "markdown",
   "id": "09f5927b",
   "metadata": {
    "tags": [
     "papermill-error-cell-tag"
    ]
   },
   "source": [
    "<span style=\"color:red; font-family:Helvetica Neue, Helvetica, Arial, sans-serif; font-size:2em;\">An Exception was encountered at '<a href=\"#papermill-error-cell\">In [38]</a>'.</span>"
   ]
  },
  {
   "cell_type": "markdown",
   "id": "c3775ae9",
   "metadata": {
    "papermill": {
     "duration": 0.017073,
     "end_time": "2022-10-25T14:57:19.527207",
     "exception": false,
     "start_time": "2022-10-25T14:57:19.510134",
     "status": "completed"
    },
    "tags": []
   },
   "source": [
    "## 0.1 Imports"
   ]
  },
  {
   "cell_type": "code",
   "execution_count": 1,
   "id": "57d8aeef",
   "metadata": {
    "execution": {
     "iopub.execute_input": "2022-10-25T14:57:19.556219Z",
     "iopub.status.busy": "2022-10-25T14:57:19.556219Z",
     "iopub.status.idle": "2022-10-25T14:57:28.405393Z",
     "shell.execute_reply": "2022-10-25T14:57:28.404568Z"
    },
    "papermill": {
     "duration": 8.867191,
     "end_time": "2022-10-25T14:57:28.407411",
     "exception": false,
     "start_time": "2022-10-25T14:57:19.540220",
     "status": "completed"
    },
    "tags": []
   },
   "outputs": [],
   "source": [
    "import numpy as np\n",
    "import pandas as pd\n",
    "import seaborn as sns\n",
    "import umap.umap_ as umap\n",
    "import re\n",
    "\n",
    "from matplotlib import pyplot as plt\n",
    "from datetime import datetime\n",
    "\n",
    "from matplotlib import cm\n",
    "\n",
    "from sklearn import metrics as m\n",
    "from sklearn import cluster as c\n",
    "from sklearn import preprocessing as pp\n",
    "from sklearn import decomposition as dd\n",
    "from sklearn.manifold import TSNE\n",
    "from sklearn.neighbors import NearestNeighbors\n",
    "from sklearn import mixture as mx\n",
    "from scipy.cluster import hierarchy as hc\n",
    "from sklearn import ensemble as en\n",
    "import sqlite3\n",
    "from sqlalchemy import create_engine\n",
    "\n",
    "from plotly import express as px"
   ]
  },
  {
   "cell_type": "markdown",
   "id": "0679c050",
   "metadata": {
    "papermill": {
     "duration": 0.011999,
     "end_time": "2022-10-25T14:57:28.432369",
     "exception": false,
     "start_time": "2022-10-25T14:57:28.420370",
     "status": "completed"
    },
    "tags": []
   },
   "source": [
    "## 0.3 Load dataset"
   ]
  },
  {
   "cell_type": "code",
   "execution_count": 2,
   "id": "996cc764",
   "metadata": {
    "execution": {
     "iopub.execute_input": "2022-10-25T14:57:28.456373Z",
     "iopub.status.busy": "2022-10-25T14:57:28.456373Z",
     "iopub.status.idle": "2022-10-25T14:57:29.169413Z",
     "shell.execute_reply": "2022-10-25T14:57:29.169413Z"
    },
    "papermill": {
     "duration": 0.730038,
     "end_time": "2022-10-25T14:57:29.172409",
     "exception": false,
     "start_time": "2022-10-25T14:57:28.442371",
     "status": "completed"
    },
    "tags": []
   },
   "outputs": [],
   "source": [
    "# load data\n",
    "df_raw = pd.read_csv(r\"C:\\Users\\diego\\OneDrive\\Área de Trabalho\\projects\\insiders_clustering\\data\\Ecommerce.csv\", encoding='unicode_escape')\n",
    "\n",
    "# drop extra column\n",
    "df_raw = df_raw.drop(columns=['Unnamed: 8'], axis=1)\n",
    "\n"
   ]
  },
  {
   "cell_type": "markdown",
   "id": "54c2a181",
   "metadata": {
    "papermill": {
     "duration": 0.017005,
     "end_time": "2022-10-25T14:57:29.203376",
     "exception": false,
     "start_time": "2022-10-25T14:57:29.186371",
     "status": "completed"
    },
    "tags": []
   },
   "source": [
    "# 1.0 DATA DESCRIPTION"
   ]
  },
  {
   "cell_type": "code",
   "execution_count": 3,
   "id": "9b5788a1",
   "metadata": {
    "execution": {
     "iopub.execute_input": "2022-10-25T14:57:29.234408Z",
     "iopub.status.busy": "2022-10-25T14:57:29.234408Z",
     "iopub.status.idle": "2022-10-25T14:57:29.265390Z",
     "shell.execute_reply": "2022-10-25T14:57:29.264570Z"
    },
    "papermill": {
     "duration": 0.047954,
     "end_time": "2022-10-25T14:57:29.267370",
     "exception": false,
     "start_time": "2022-10-25T14:57:29.219416",
     "status": "completed"
    },
    "tags": []
   },
   "outputs": [],
   "source": [
    "df1 = df_raw.copy()"
   ]
  },
  {
   "cell_type": "code",
   "execution_count": 4,
   "id": "27276172",
   "metadata": {
    "execution": {
     "iopub.execute_input": "2022-10-25T14:57:29.291370Z",
     "iopub.status.busy": "2022-10-25T14:57:29.291370Z",
     "iopub.status.idle": "2022-10-25T14:57:29.312381Z",
     "shell.execute_reply": "2022-10-25T14:57:29.311523Z"
    },
    "papermill": {
     "duration": 0.034035,
     "end_time": "2022-10-25T14:57:29.314405",
     "exception": false,
     "start_time": "2022-10-25T14:57:29.280370",
     "status": "completed"
    },
    "tags": []
   },
   "outputs": [
    {
     "data": {
      "text/html": [
       "<div>\n",
       "<style scoped>\n",
       "    .dataframe tbody tr th:only-of-type {\n",
       "        vertical-align: middle;\n",
       "    }\n",
       "\n",
       "    .dataframe tbody tr th {\n",
       "        vertical-align: top;\n",
       "    }\n",
       "\n",
       "    .dataframe thead th {\n",
       "        text-align: right;\n",
       "    }\n",
       "</style>\n",
       "<table border=\"1\" class=\"dataframe\">\n",
       "  <thead>\n",
       "    <tr style=\"text-align: right;\">\n",
       "      <th></th>\n",
       "      <th>InvoiceNo</th>\n",
       "      <th>StockCode</th>\n",
       "      <th>Description</th>\n",
       "      <th>Quantity</th>\n",
       "      <th>InvoiceDate</th>\n",
       "      <th>UnitPrice</th>\n",
       "      <th>CustomerID</th>\n",
       "      <th>Country</th>\n",
       "    </tr>\n",
       "  </thead>\n",
       "  <tbody>\n",
       "    <tr>\n",
       "      <th>0</th>\n",
       "      <td>536365</td>\n",
       "      <td>85123A</td>\n",
       "      <td>WHITE HANGING HEART T-LIGHT HOLDER</td>\n",
       "      <td>6</td>\n",
       "      <td>29-Nov-16</td>\n",
       "      <td>2.55</td>\n",
       "      <td>17850.0</td>\n",
       "      <td>United Kingdom</td>\n",
       "    </tr>\n",
       "    <tr>\n",
       "      <th>1</th>\n",
       "      <td>536365</td>\n",
       "      <td>71053</td>\n",
       "      <td>WHITE METAL LANTERN</td>\n",
       "      <td>6</td>\n",
       "      <td>29-Nov-16</td>\n",
       "      <td>3.39</td>\n",
       "      <td>17850.0</td>\n",
       "      <td>United Kingdom</td>\n",
       "    </tr>\n",
       "    <tr>\n",
       "      <th>2</th>\n",
       "      <td>536365</td>\n",
       "      <td>84406B</td>\n",
       "      <td>CREAM CUPID HEARTS COAT HANGER</td>\n",
       "      <td>8</td>\n",
       "      <td>29-Nov-16</td>\n",
       "      <td>2.75</td>\n",
       "      <td>17850.0</td>\n",
       "      <td>United Kingdom</td>\n",
       "    </tr>\n",
       "    <tr>\n",
       "      <th>3</th>\n",
       "      <td>536365</td>\n",
       "      <td>84029G</td>\n",
       "      <td>KNITTED UNION FLAG HOT WATER BOTTLE</td>\n",
       "      <td>6</td>\n",
       "      <td>29-Nov-16</td>\n",
       "      <td>3.39</td>\n",
       "      <td>17850.0</td>\n",
       "      <td>United Kingdom</td>\n",
       "    </tr>\n",
       "    <tr>\n",
       "      <th>4</th>\n",
       "      <td>536365</td>\n",
       "      <td>84029E</td>\n",
       "      <td>RED WOOLLY HOTTIE WHITE HEART.</td>\n",
       "      <td>6</td>\n",
       "      <td>29-Nov-16</td>\n",
       "      <td>3.39</td>\n",
       "      <td>17850.0</td>\n",
       "      <td>United Kingdom</td>\n",
       "    </tr>\n",
       "  </tbody>\n",
       "</table>\n",
       "</div>"
      ],
      "text/plain": [
       "  InvoiceNo StockCode                          Description  Quantity  \\\n",
       "0    536365    85123A   WHITE HANGING HEART T-LIGHT HOLDER         6   \n",
       "1    536365     71053                  WHITE METAL LANTERN         6   \n",
       "2    536365    84406B       CREAM CUPID HEARTS COAT HANGER         8   \n",
       "3    536365    84029G  KNITTED UNION FLAG HOT WATER BOTTLE         6   \n",
       "4    536365    84029E       RED WOOLLY HOTTIE WHITE HEART.         6   \n",
       "\n",
       "  InvoiceDate  UnitPrice  CustomerID         Country  \n",
       "0   29-Nov-16       2.55     17850.0  United Kingdom  \n",
       "1   29-Nov-16       3.39     17850.0  United Kingdom  \n",
       "2   29-Nov-16       2.75     17850.0  United Kingdom  \n",
       "3   29-Nov-16       3.39     17850.0  United Kingdom  \n",
       "4   29-Nov-16       3.39     17850.0  United Kingdom  "
      ]
     },
     "execution_count": 4,
     "metadata": {},
     "output_type": "execute_result"
    }
   ],
   "source": [
    "df1.head()"
   ]
  },
  {
   "cell_type": "markdown",
   "id": "d92f1d1a",
   "metadata": {
    "papermill": {
     "duration": 0.013001,
     "end_time": "2022-10-25T14:57:29.338372",
     "exception": false,
     "start_time": "2022-10-25T14:57:29.325371",
     "status": "completed"
    },
    "tags": []
   },
   "source": [
    "## 1.1 Rename columns"
   ]
  },
  {
   "cell_type": "code",
   "execution_count": 5,
   "id": "efac64ae",
   "metadata": {
    "execution": {
     "iopub.execute_input": "2022-10-25T14:57:29.366375Z",
     "iopub.status.busy": "2022-10-25T14:57:29.365379Z",
     "iopub.status.idle": "2022-10-25T14:57:29.376379Z",
     "shell.execute_reply": "2022-10-25T14:57:29.375372Z"
    },
    "papermill": {
     "duration": 0.028,
     "end_time": "2022-10-25T14:57:29.379373",
     "exception": false,
     "start_time": "2022-10-25T14:57:29.351373",
     "status": "completed"
    },
    "tags": []
   },
   "outputs": [],
   "source": [
    "cols_new = ['invoice_no', 'stock_code', 'description', 'quantity', 'invoice_date',\n",
    "       'unit_price', 'customer_id', 'country']\n",
    "df1.columns = cols_new"
   ]
  },
  {
   "cell_type": "markdown",
   "id": "10c1f3c6",
   "metadata": {
    "papermill": {
     "duration": 0.011041,
     "end_time": "2022-10-25T14:57:29.401413",
     "exception": false,
     "start_time": "2022-10-25T14:57:29.390372",
     "status": "completed"
    },
    "tags": []
   },
   "source": [
    "## 1.2 Data dimensions"
   ]
  },
  {
   "cell_type": "code",
   "execution_count": 6,
   "id": "2dfeff1e",
   "metadata": {
    "execution": {
     "iopub.execute_input": "2022-10-25T14:57:29.425373Z",
     "iopub.status.busy": "2022-10-25T14:57:29.425373Z",
     "iopub.status.idle": "2022-10-25T14:57:29.438401Z",
     "shell.execute_reply": "2022-10-25T14:57:29.438401Z"
    },
    "papermill": {
     "duration": 0.027002,
     "end_time": "2022-10-25T14:57:29.440375",
     "exception": false,
     "start_time": "2022-10-25T14:57:29.413373",
     "status": "completed"
    },
    "tags": []
   },
   "outputs": [
    {
     "name": "stdout",
     "output_type": "stream",
     "text": [
      "Number of rows: 541909\n",
      "Number of columns: 8\n"
     ]
    }
   ],
   "source": [
    "print('Number of rows: {}'.format(df1.shape[0]))\n",
    "print('Number of columns: {}'.format(df1.shape[1]))"
   ]
  },
  {
   "cell_type": "markdown",
   "id": "2af2fa53",
   "metadata": {
    "papermill": {
     "duration": 0.013995,
     "end_time": "2022-10-25T14:57:29.465375",
     "exception": false,
     "start_time": "2022-10-25T14:57:29.451380",
     "status": "completed"
    },
    "tags": []
   },
   "source": [
    "## 1.3 Data types"
   ]
  },
  {
   "cell_type": "code",
   "execution_count": 7,
   "id": "bafe9fd2",
   "metadata": {
    "execution": {
     "iopub.execute_input": "2022-10-25T14:57:29.486374Z",
     "iopub.status.busy": "2022-10-25T14:57:29.486374Z",
     "iopub.status.idle": "2022-10-25T14:57:29.500371Z",
     "shell.execute_reply": "2022-10-25T14:57:29.499577Z"
    },
    "papermill": {
     "duration": 0.025998,
     "end_time": "2022-10-25T14:57:29.501370",
     "exception": false,
     "start_time": "2022-10-25T14:57:29.475372",
     "status": "completed"
    },
    "tags": []
   },
   "outputs": [
    {
     "data": {
      "text/plain": [
       "invoice_no       object\n",
       "stock_code       object\n",
       "description      object\n",
       "quantity          int64\n",
       "invoice_date     object\n",
       "unit_price      float64\n",
       "customer_id     float64\n",
       "country          object\n",
       "dtype: object"
      ]
     },
     "execution_count": 7,
     "metadata": {},
     "output_type": "execute_result"
    }
   ],
   "source": [
    "df1.dtypes"
   ]
  },
  {
   "cell_type": "markdown",
   "id": "a5dd6fb5",
   "metadata": {
    "papermill": {
     "duration": 0.009005,
     "end_time": "2022-10-25T14:57:29.521405",
     "exception": false,
     "start_time": "2022-10-25T14:57:29.512400",
     "status": "completed"
    },
    "tags": []
   },
   "source": [
    "## 1.4 Check NA"
   ]
  },
  {
   "cell_type": "code",
   "execution_count": 8,
   "id": "34516dfc",
   "metadata": {
    "execution": {
     "iopub.execute_input": "2022-10-25T14:57:29.549376Z",
     "iopub.status.busy": "2022-10-25T14:57:29.548373Z",
     "iopub.status.idle": "2022-10-25T14:57:30.009375Z",
     "shell.execute_reply": "2022-10-25T14:57:30.008369Z"
    },
    "papermill": {
     "duration": 0.478999,
     "end_time": "2022-10-25T14:57:30.011369",
     "exception": false,
     "start_time": "2022-10-25T14:57:29.532370",
     "status": "completed"
    },
    "tags": []
   },
   "outputs": [
    {
     "data": {
      "text/plain": [
       "invoice_no           0\n",
       "stock_code           0\n",
       "description       1454\n",
       "quantity             0\n",
       "invoice_date         0\n",
       "unit_price           0\n",
       "customer_id     135080\n",
       "country              0\n",
       "dtype: int64"
      ]
     },
     "execution_count": 8,
     "metadata": {},
     "output_type": "execute_result"
    }
   ],
   "source": [
    "df1.isna().sum()"
   ]
  },
  {
   "cell_type": "markdown",
   "id": "353f1f5c",
   "metadata": {
    "papermill": {
     "duration": 0.012992,
     "end_time": "2022-10-25T14:57:30.033369",
     "exception": false,
     "start_time": "2022-10-25T14:57:30.020377",
     "status": "completed"
    },
    "tags": []
   },
   "source": [
    "## 1.5 Replace NA"
   ]
  },
  {
   "cell_type": "code",
   "execution_count": 9,
   "id": "969193e0",
   "metadata": {
    "execution": {
     "iopub.execute_input": "2022-10-25T14:57:30.055371Z",
     "iopub.status.busy": "2022-10-25T14:57:30.055371Z",
     "iopub.status.idle": "2022-10-25T14:57:30.104389Z",
     "shell.execute_reply": "2022-10-25T14:57:30.104389Z"
    },
    "papermill": {
     "duration": 0.063035,
     "end_time": "2022-10-25T14:57:30.106404",
     "exception": false,
     "start_time": "2022-10-25T14:57:30.043369",
     "status": "completed"
    },
    "tags": []
   },
   "outputs": [],
   "source": [
    "# spliting NA\n",
    "df_missing = df1.loc[df1['customer_id'].isna(), :]\n",
    "df_not_missing = df1.loc[~df1['customer_id'].isna(), :]"
   ]
  },
  {
   "cell_type": "code",
   "execution_count": 10,
   "id": "52ae748c",
   "metadata": {
    "execution": {
     "iopub.execute_input": "2022-10-25T14:57:30.129370Z",
     "iopub.status.busy": "2022-10-25T14:57:30.129370Z",
     "iopub.status.idle": "2022-10-25T14:57:30.311374Z",
     "shell.execute_reply": "2022-10-25T14:57:30.310565Z"
    },
    "papermill": {
     "duration": 0.196,
     "end_time": "2022-10-25T14:57:30.313371",
     "exception": false,
     "start_time": "2022-10-25T14:57:30.117371",
     "status": "completed"
    },
    "tags": []
   },
   "outputs": [],
   "source": [
    "# create reference\n",
    "df_backup = pd.DataFrame(df_missing['invoice_no'].drop_duplicates())\n",
    "df_backup['customer_id'] = np.arange(19000, 19000+len(df_backup), 1)\n",
    "\n",
    "# merge original with reference dataframe\n",
    "df1 = pd.merge(df1, df_backup, how='left', on='invoice_no')\n",
    "\n",
    "# coalesce\n",
    "df1['customer_id'] = df1['customer_id_x'].combine_first(df1['customer_id_y'])\n",
    "\n",
    "# drop extra columns\n",
    "df1 = df1.drop(columns=['customer_id_x', 'customer_id_y'])"
   ]
  },
  {
   "cell_type": "code",
   "execution_count": 11,
   "id": "ba8b18cc",
   "metadata": {
    "execution": {
     "iopub.execute_input": "2022-10-25T14:57:30.336406Z",
     "iopub.status.busy": "2022-10-25T14:57:30.336406Z",
     "iopub.status.idle": "2022-10-25T14:57:30.720403Z",
     "shell.execute_reply": "2022-10-25T14:57:30.720403Z"
    },
    "papermill": {
     "duration": 0.398979,
     "end_time": "2022-10-25T14:57:30.722371",
     "exception": false,
     "start_time": "2022-10-25T14:57:30.323392",
     "status": "completed"
    },
    "tags": []
   },
   "outputs": [
    {
     "data": {
      "text/plain": [
       "invoice_no         0\n",
       "stock_code         0\n",
       "description     1454\n",
       "quantity           0\n",
       "invoice_date       0\n",
       "unit_price         0\n",
       "country            0\n",
       "customer_id        0\n",
       "dtype: int64"
      ]
     },
     "execution_count": 11,
     "metadata": {},
     "output_type": "execute_result"
    }
   ],
   "source": [
    "df1.isna().sum()"
   ]
  },
  {
   "cell_type": "markdown",
   "id": "c8a7d58d",
   "metadata": {
    "papermill": {
     "duration": 0.010972,
     "end_time": "2022-10-25T14:57:30.744381",
     "exception": false,
     "start_time": "2022-10-25T14:57:30.733409",
     "status": "completed"
    },
    "tags": []
   },
   "source": [
    "## 1.6 Change dtypes"
   ]
  },
  {
   "cell_type": "code",
   "execution_count": 12,
   "id": "13c45ae9",
   "metadata": {
    "execution": {
     "iopub.execute_input": "2022-10-25T14:57:30.769406Z",
     "iopub.status.busy": "2022-10-25T14:57:30.769406Z",
     "iopub.status.idle": "2022-10-25T14:57:30.848384Z",
     "shell.execute_reply": "2022-10-25T14:57:30.847578Z"
    },
    "papermill": {
     "duration": 0.094994,
     "end_time": "2022-10-25T14:57:30.850369",
     "exception": false,
     "start_time": "2022-10-25T14:57:30.755375",
     "status": "completed"
    },
    "tags": []
   },
   "outputs": [],
   "source": [
    "# invoice data\n",
    "df1['invoice_date'] = pd.to_datetime(df1['invoice_date'], format = '%d-%b-%y')\n",
    "\n",
    "# customer id\n",
    "df1['customer_id'] = df1['customer_id'].astype(np.int64)"
   ]
  },
  {
   "cell_type": "markdown",
   "id": "3177c1a5",
   "metadata": {
    "papermill": {
     "duration": 0.011001,
     "end_time": "2022-10-25T14:57:30.872371",
     "exception": false,
     "start_time": "2022-10-25T14:57:30.861370",
     "status": "completed"
    },
    "tags": []
   },
   "source": [
    "## 1.7 Descriptive statistics"
   ]
  },
  {
   "cell_type": "code",
   "execution_count": 13,
   "id": "0700d440",
   "metadata": {
    "execution": {
     "iopub.execute_input": "2022-10-25T14:57:30.898371Z",
     "iopub.status.busy": "2022-10-25T14:57:30.897377Z",
     "iopub.status.idle": "2022-10-25T14:57:30.912371Z",
     "shell.execute_reply": "2022-10-25T14:57:30.911369Z"
    },
    "papermill": {
     "duration": 0.029002,
     "end_time": "2022-10-25T14:57:30.913371",
     "exception": false,
     "start_time": "2022-10-25T14:57:30.884369",
     "status": "completed"
    },
    "tags": []
   },
   "outputs": [],
   "source": [
    "num_attributes = df1.select_dtypes(include=['int64', 'float64'])\n",
    "cat_attributes = df1.select_dtypes(exclude=['int64', 'float64', 'datetime64[ns]'])"
   ]
  },
  {
   "cell_type": "markdown",
   "id": "c465f238",
   "metadata": {
    "papermill": {
     "duration": 0.011999,
     "end_time": "2022-10-25T14:57:30.936374",
     "exception": false,
     "start_time": "2022-10-25T14:57:30.924375",
     "status": "completed"
    },
    "tags": []
   },
   "source": [
    "### 1.7.1 Numerical attributes"
   ]
  },
  {
   "cell_type": "code",
   "execution_count": 14,
   "id": "ebb1ecb5",
   "metadata": {
    "execution": {
     "iopub.execute_input": "2022-10-25T14:57:30.960378Z",
     "iopub.status.busy": "2022-10-25T14:57:30.960378Z",
     "iopub.status.idle": "2022-10-25T14:57:31.040372Z",
     "shell.execute_reply": "2022-10-25T14:57:31.039565Z"
    },
    "papermill": {
     "duration": 0.094999,
     "end_time": "2022-10-25T14:57:31.042371",
     "exception": false,
     "start_time": "2022-10-25T14:57:30.947372",
     "status": "completed"
    },
    "tags": []
   },
   "outputs": [
    {
     "data": {
      "text/html": [
       "<div>\n",
       "<style scoped>\n",
       "    .dataframe tbody tr th:only-of-type {\n",
       "        vertical-align: middle;\n",
       "    }\n",
       "\n",
       "    .dataframe tbody tr th {\n",
       "        vertical-align: top;\n",
       "    }\n",
       "\n",
       "    .dataframe thead th {\n",
       "        text-align: right;\n",
       "    }\n",
       "</style>\n",
       "<table border=\"1\" class=\"dataframe\">\n",
       "  <thead>\n",
       "    <tr style=\"text-align: right;\">\n",
       "      <th></th>\n",
       "      <th>mean</th>\n",
       "      <th>median</th>\n",
       "      <th>std</th>\n",
       "      <th>min</th>\n",
       "      <th>max</th>\n",
       "      <th>skew</th>\n",
       "      <th>kurtosis</th>\n",
       "    </tr>\n",
       "  </thead>\n",
       "  <tbody>\n",
       "    <tr>\n",
       "      <th>quantity</th>\n",
       "      <td>9.552250</td>\n",
       "      <td>3.00</td>\n",
       "      <td>218.081158</td>\n",
       "      <td>-80995.00</td>\n",
       "      <td>80995.0</td>\n",
       "      <td>-0.264076</td>\n",
       "      <td>119769.160031</td>\n",
       "    </tr>\n",
       "    <tr>\n",
       "      <th>unit_price</th>\n",
       "      <td>4.611114</td>\n",
       "      <td>2.08</td>\n",
       "      <td>96.759853</td>\n",
       "      <td>-11062.06</td>\n",
       "      <td>38970.0</td>\n",
       "      <td>186.506972</td>\n",
       "      <td>59005.719097</td>\n",
       "    </tr>\n",
       "    <tr>\n",
       "      <th>customer_id</th>\n",
       "      <td>16688.840453</td>\n",
       "      <td>16249.00</td>\n",
       "      <td>2911.411352</td>\n",
       "      <td>12346.00</td>\n",
       "      <td>22709.0</td>\n",
       "      <td>0.487449</td>\n",
       "      <td>-0.804287</td>\n",
       "    </tr>\n",
       "  </tbody>\n",
       "</table>\n",
       "</div>"
      ],
      "text/plain": [
       "                     mean    median          std       min      max  \\\n",
       "quantity         9.552250      3.00   218.081158 -80995.00  80995.0   \n",
       "unit_price       4.611114      2.08    96.759853 -11062.06  38970.0   \n",
       "customer_id  16688.840453  16249.00  2911.411352  12346.00  22709.0   \n",
       "\n",
       "                   skew       kurtosis  \n",
       "quantity      -0.264076  119769.160031  \n",
       "unit_price   186.506972   59005.719097  \n",
       "customer_id    0.487449      -0.804287  "
      ]
     },
     "execution_count": 14,
     "metadata": {},
     "output_type": "execute_result"
    }
   ],
   "source": [
    "num_attributes.agg([\"mean\",\"median\",\"std\",\"min\",\"max\",\"skew\",\"kurtosis\"]).T\n"
   ]
  },
  {
   "cell_type": "markdown",
   "id": "3db2fe6d",
   "metadata": {
    "papermill": {
     "duration": 0.01299,
     "end_time": "2022-10-25T14:57:31.066369",
     "exception": false,
     "start_time": "2022-10-25T14:57:31.053379",
     "status": "completed"
    },
    "tags": []
   },
   "source": [
    "### 1.7.2 Categorical attributes"
   ]
  },
  {
   "cell_type": "markdown",
   "id": "3aecfb8b",
   "metadata": {
    "papermill": {
     "duration": 0.010962,
     "end_time": "2022-10-25T14:57:31.089370",
     "exception": false,
     "start_time": "2022-10-25T14:57:31.078408",
     "status": "completed"
    },
    "tags": []
   },
   "source": [
    "### Invoice No"
   ]
  },
  {
   "cell_type": "code",
   "execution_count": 15,
   "id": "c0b4d7d4",
   "metadata": {
    "execution": {
     "iopub.execute_input": "2022-10-25T14:57:31.113373Z",
     "iopub.status.busy": "2022-10-25T14:57:31.113373Z",
     "iopub.status.idle": "2022-10-25T14:57:31.727085Z",
     "shell.execute_reply": "2022-10-25T14:57:31.726086Z"
    },
    "papermill": {
     "duration": 0.628714,
     "end_time": "2022-10-25T14:57:31.729087",
     "exception": false,
     "start_time": "2022-10-25T14:57:31.100373",
     "status": "completed"
    },
    "tags": []
   },
   "outputs": [
    {
     "name": "stdout",
     "output_type": "stream",
     "text": [
      "Total number of invoices with letters: 9291\n",
      "Total number of negatives quantities: 9288\n"
     ]
    }
   ],
   "source": [
    "# df1['invoice_no'].astype(np.int64) - problem: invoice contains numbers and words\n",
    "\n",
    "# identification\n",
    "df_letter_invoices = df1.loc[df1['invoice_no'].apply(lambda x: bool(re.search('[^0-9]+', x))),:]\n",
    "df_letter_invoices.head()\n",
    "\n",
    "print('Total number of invoices with letters: {}'.format(len(df_letter_invoices)))\n",
    "print('Total number of negatives quantities: {}'.format(len(df_letter_invoices[df_letter_invoices['quantity'] < 0])))"
   ]
  },
  {
   "cell_type": "markdown",
   "id": "d8c0431e",
   "metadata": {
    "papermill": {
     "duration": 0.016962,
     "end_time": "2022-10-25T14:57:31.794088",
     "exception": false,
     "start_time": "2022-10-25T14:57:31.777126",
     "status": "completed"
    },
    "tags": []
   },
   "source": [
    "### Stock Code"
   ]
  },
  {
   "cell_type": "code",
   "execution_count": 16,
   "id": "b7a99c31",
   "metadata": {
    "execution": {
     "iopub.execute_input": "2022-10-25T14:57:31.819084Z",
     "iopub.status.busy": "2022-10-25T14:57:31.819084Z",
     "iopub.status.idle": "2022-10-25T14:57:32.429143Z",
     "shell.execute_reply": "2022-10-25T14:57:32.428257Z"
    },
    "papermill": {
     "duration": 0.625998,
     "end_time": "2022-10-25T14:57:32.431119",
     "exception": false,
     "start_time": "2022-10-25T14:57:31.805121",
     "status": "completed"
    },
    "tags": []
   },
   "outputs": [
    {
     "data": {
      "text/plain": [
       "array(['POST', 'D', 'DOT', 'M', 'S', 'AMAZONFEE', 'm', 'DCGSSBOY',\n",
       "       'DCGSSGIRL', 'PADS', 'B', 'CRUK'], dtype=object)"
      ]
     },
     "execution_count": 16,
     "metadata": {},
     "output_type": "execute_result"
    }
   ],
   "source": [
    "df1.loc[df1['stock_code'].apply(lambda x: bool(re.search('^[a-zA-Z]+$', x))), 'stock_code'].unique()"
   ]
  },
  {
   "cell_type": "markdown",
   "id": "e2c3a76b",
   "metadata": {
    "papermill": {
     "duration": 0.019032,
     "end_time": "2022-10-25T14:57:32.464128",
     "exception": false,
     "start_time": "2022-10-25T14:57:32.445096",
     "status": "completed"
    },
    "tags": []
   },
   "source": [
    "### Description"
   ]
  },
  {
   "cell_type": "code",
   "execution_count": 17,
   "id": "1cf48c12",
   "metadata": {
    "execution": {
     "iopub.execute_input": "2022-10-25T14:57:32.498218Z",
     "iopub.status.busy": "2022-10-25T14:57:32.498218Z",
     "iopub.status.idle": "2022-10-25T14:57:32.509181Z",
     "shell.execute_reply": "2022-10-25T14:57:32.508220Z"
    },
    "papermill": {
     "duration": 0.030972,
     "end_time": "2022-10-25T14:57:32.511220",
     "exception": false,
     "start_time": "2022-10-25T14:57:32.480248",
     "status": "completed"
    },
    "tags": []
   },
   "outputs": [
    {
     "data": {
      "text/plain": [
       "0     WHITE HANGING HEART T-LIGHT HOLDER\n",
       "1                    WHITE METAL LANTERN\n",
       "2         CREAM CUPID HEARTS COAT HANGER\n",
       "3    KNITTED UNION FLAG HOT WATER BOTTLE\n",
       "4         RED WOOLLY HOTTIE WHITE HEART.\n",
       "Name: description, dtype: object"
      ]
     },
     "execution_count": 17,
     "metadata": {},
     "output_type": "execute_result"
    }
   ],
   "source": [
    "df1['description'].head()"
   ]
  },
  {
   "cell_type": "markdown",
   "id": "62cf212f",
   "metadata": {
    "papermill": {
     "duration": 0.01696,
     "end_time": "2022-10-25T14:57:32.545180",
     "exception": false,
     "start_time": "2022-10-25T14:57:32.528220",
     "status": "completed"
    },
    "tags": []
   },
   "source": [
    "Description will be deleted from data since it does not give any perceptive feature to the problem"
   ]
  },
  {
   "cell_type": "markdown",
   "id": "92086282",
   "metadata": {
    "papermill": {
     "duration": 0.020957,
     "end_time": "2022-10-25T14:57:32.582176",
     "exception": false,
     "start_time": "2022-10-25T14:57:32.561219",
     "status": "completed"
    },
    "tags": []
   },
   "source": [
    "### Country"
   ]
  },
  {
   "cell_type": "code",
   "execution_count": 18,
   "id": "a55187b2",
   "metadata": {
    "execution": {
     "iopub.execute_input": "2022-10-25T14:57:32.617177Z",
     "iopub.status.busy": "2022-10-25T14:57:32.617177Z",
     "iopub.status.idle": "2022-10-25T14:57:32.668176Z",
     "shell.execute_reply": "2022-10-25T14:57:32.667174Z"
    },
    "papermill": {
     "duration": 0.069991,
     "end_time": "2022-10-25T14:57:32.670214",
     "exception": false,
     "start_time": "2022-10-25T14:57:32.600223",
     "status": "completed"
    },
    "tags": []
   },
   "outputs": [
    {
     "data": {
      "text/plain": [
       "array(['United Kingdom', 'France', 'Australia', 'Netherlands', 'Germany',\n",
       "       'Norway', 'EIRE', 'Switzerland', 'Spain', 'Poland', 'Portugal',\n",
       "       'Italy', 'Belgium', 'Lithuania', 'Japan', 'Iceland',\n",
       "       'Channel Islands', 'Denmark', 'Cyprus', 'Sweden', 'Austria',\n",
       "       'Israel', 'Finland', 'Bahrain', 'Greece', 'Hong Kong', 'Singapore',\n",
       "       'Lebanon', 'United Arab Emirates', 'Saudi Arabia',\n",
       "       'Czech Republic', 'Canada', 'Unspecified', 'Brazil', 'USA',\n",
       "       'European Community', 'Malta', 'RSA'], dtype=object)"
      ]
     },
     "execution_count": 18,
     "metadata": {},
     "output_type": "execute_result"
    }
   ],
   "source": [
    "df1['country'].unique()"
   ]
  },
  {
   "cell_type": "code",
   "execution_count": 19,
   "id": "7a044fa1",
   "metadata": {
    "execution": {
     "iopub.execute_input": "2022-10-25T14:57:32.706176Z",
     "iopub.status.busy": "2022-10-25T14:57:32.706176Z",
     "iopub.status.idle": "2022-10-25T14:57:32.828178Z",
     "shell.execute_reply": "2022-10-25T14:57:32.827175Z"
    },
    "papermill": {
     "duration": 0.142959,
     "end_time": "2022-10-25T14:57:32.830179",
     "exception": false,
     "start_time": "2022-10-25T14:57:32.687220",
     "status": "completed"
    },
    "tags": []
   },
   "outputs": [
    {
     "data": {
      "text/html": [
       "<div>\n",
       "<style scoped>\n",
       "    .dataframe tbody tr th:only-of-type {\n",
       "        vertical-align: middle;\n",
       "    }\n",
       "\n",
       "    .dataframe tbody tr th {\n",
       "        vertical-align: top;\n",
       "    }\n",
       "\n",
       "    .dataframe thead th {\n",
       "        text-align: right;\n",
       "    }\n",
       "</style>\n",
       "<table border=\"1\" class=\"dataframe\">\n",
       "  <thead>\n",
       "    <tr style=\"text-align: right;\">\n",
       "      <th></th>\n",
       "      <th>country</th>\n",
       "      <th>customer_id</th>\n",
       "    </tr>\n",
       "  </thead>\n",
       "  <tbody>\n",
       "    <tr>\n",
       "      <th>36</th>\n",
       "      <td>United Kingdom</td>\n",
       "      <td>7587</td>\n",
       "    </tr>\n",
       "    <tr>\n",
       "      <th>14</th>\n",
       "      <td>Germany</td>\n",
       "      <td>95</td>\n",
       "    </tr>\n",
       "    <tr>\n",
       "      <th>13</th>\n",
       "      <td>France</td>\n",
       "      <td>90</td>\n",
       "    </tr>\n",
       "    <tr>\n",
       "      <th>10</th>\n",
       "      <td>EIRE</td>\n",
       "      <td>44</td>\n",
       "    </tr>\n",
       "    <tr>\n",
       "      <th>31</th>\n",
       "      <td>Spain</td>\n",
       "      <td>31</td>\n",
       "    </tr>\n",
       "  </tbody>\n",
       "</table>\n",
       "</div>"
      ],
      "text/plain": [
       "           country  customer_id\n",
       "36  United Kingdom         7587\n",
       "14         Germany           95\n",
       "13          France           90\n",
       "10            EIRE           44\n",
       "31           Spain           31"
      ]
     },
     "execution_count": 19,
     "metadata": {},
     "output_type": "execute_result"
    }
   ],
   "source": [
    "df1[['customer_id', 'country']].drop_duplicates().groupby('country').count().reset_index().sort_values('customer_id', ascending=False).head()"
   ]
  },
  {
   "cell_type": "markdown",
   "id": "c1c9f4f1",
   "metadata": {
    "papermill": {
     "duration": 0.014998,
     "end_time": "2022-10-25T14:57:32.863215",
     "exception": false,
     "start_time": "2022-10-25T14:57:32.848217",
     "status": "completed"
    },
    "tags": []
   },
   "source": [
    "# 2.0 VARIABLES FILTERING"
   ]
  },
  {
   "cell_type": "code",
   "execution_count": 20,
   "id": "385c52c8",
   "metadata": {
    "execution": {
     "iopub.execute_input": "2022-10-25T14:57:32.900215Z",
     "iopub.status.busy": "2022-10-25T14:57:32.900215Z",
     "iopub.status.idle": "2022-10-25T14:57:32.923186Z",
     "shell.execute_reply": "2022-10-25T14:57:32.922381Z"
    },
    "papermill": {
     "duration": 0.046001,
     "end_time": "2022-10-25T14:57:32.925177",
     "exception": false,
     "start_time": "2022-10-25T14:57:32.879176",
     "status": "completed"
    },
    "tags": []
   },
   "outputs": [],
   "source": [
    "df2 = df1.copy()"
   ]
  },
  {
   "cell_type": "code",
   "execution_count": 21,
   "id": "c2c78aaf",
   "metadata": {
    "execution": {
     "iopub.execute_input": "2022-10-25T14:57:32.957179Z",
     "iopub.status.busy": "2022-10-25T14:57:32.957179Z",
     "iopub.status.idle": "2022-10-25T14:57:33.322179Z",
     "shell.execute_reply": "2022-10-25T14:57:33.321395Z"
    },
    "papermill": {
     "duration": 0.385006,
     "end_time": "2022-10-25T14:57:33.325184",
     "exception": false,
     "start_time": "2022-10-25T14:57:32.940178",
     "status": "completed"
    },
    "tags": []
   },
   "outputs": [],
   "source": [
    "# ==== Numerical Attributes ====\n",
    "# unit price > 0\n",
    "df2= df2.loc[df2['unit_price'] >= 0.04, :]\n",
    "\n",
    "# ==== Categorical Attributes ====\n",
    "# stock code != ['POST', 'D', 'M', 'PADS', 'DOT', 'CRUK']\n",
    "df2 = df2.loc[~df2['stock_code'].isin(['POST', 'D', 'DOT', 'M', 'S', 'AMAZONFEE', 'm', 'DCGSSBOY',\n",
    "       'DCGSSGIRL', 'PADS', 'B', 'CRUK'])]\n",
    "\n",
    "# description\n",
    "df2 = df2.drop(columns='description', axis=1)\n",
    "\n",
    "# map\n",
    "df2 = df2[~df2['country'].isin(['European Community', 'Unspecified'])]\n",
    "\n",
    "# bad users\n",
    "df2 = df2[~df2['customer_id'].isin([16446])]\n",
    "\n",
    "# quantity - Negative numbers will be assumed as product returns\n",
    "df2_returns = df2.loc[df2['quantity'] <= 0, :]\n",
    "df2_purchase = df2.loc[df2['quantity'] > 0, :]\n"
   ]
  },
  {
   "cell_type": "markdown",
   "id": "056ea3bc",
   "metadata": {
    "papermill": {
     "duration": 0.02896,
     "end_time": "2022-10-25T14:57:33.376182",
     "exception": false,
     "start_time": "2022-10-25T14:57:33.347222",
     "status": "completed"
    },
    "tags": []
   },
   "source": [
    "# 3.0 FEATURE ENGINEERING"
   ]
  },
  {
   "cell_type": "code",
   "execution_count": 22,
   "id": "5d50ecdc",
   "metadata": {
    "execution": {
     "iopub.execute_input": "2022-10-25T14:57:33.430179Z",
     "iopub.status.busy": "2022-10-25T14:57:33.430179Z",
     "iopub.status.idle": "2022-10-25T14:57:33.466180Z",
     "shell.execute_reply": "2022-10-25T14:57:33.465284Z"
    },
    "papermill": {
     "duration": 0.067991,
     "end_time": "2022-10-25T14:57:33.470227",
     "exception": false,
     "start_time": "2022-10-25T14:57:33.402236",
     "status": "completed"
    },
    "tags": []
   },
   "outputs": [],
   "source": [
    "df3 = df2.copy()"
   ]
  },
  {
   "cell_type": "markdown",
   "id": "7a1bece7",
   "metadata": {
    "papermill": {
     "duration": 0.028957,
     "end_time": "2022-10-25T14:57:33.526183",
     "exception": false,
     "start_time": "2022-10-25T14:57:33.497226",
     "status": "completed"
    },
    "tags": []
   },
   "source": [
    "## 3.1 Feature creation"
   ]
  },
  {
   "cell_type": "code",
   "execution_count": 23,
   "id": "5deac374",
   "metadata": {
    "execution": {
     "iopub.execute_input": "2022-10-25T14:57:33.580178Z",
     "iopub.status.busy": "2022-10-25T14:57:33.580178Z",
     "iopub.status.idle": "2022-10-25T14:57:33.656179Z",
     "shell.execute_reply": "2022-10-25T14:57:33.654323Z"
    },
    "papermill": {
     "duration": 0.106948,
     "end_time": "2022-10-25T14:57:33.659186",
     "exception": false,
     "start_time": "2022-10-25T14:57:33.552238",
     "status": "completed"
    },
    "tags": []
   },
   "outputs": [],
   "source": [
    "# data reference\n",
    "df_ref = df3.drop(['invoice_no', 'stock_code', \n",
    "                  'quantity', 'invoice_date', 'unit_price', 'country'], axis=1).drop_duplicates(ignore_index=True)"
   ]
  },
  {
   "cell_type": "markdown",
   "id": "42433ddc",
   "metadata": {
    "papermill": {
     "duration": 0.030003,
     "end_time": "2022-10-25T14:57:33.716188",
     "exception": false,
     "start_time": "2022-10-25T14:57:33.686185",
     "status": "completed"
    },
    "tags": []
   },
   "source": [
    "### 3.1.1 Gross Revenue"
   ]
  },
  {
   "cell_type": "code",
   "execution_count": 24,
   "id": "9f5c8d21",
   "metadata": {
    "execution": {
     "iopub.execute_input": "2022-10-25T14:57:33.770180Z",
     "iopub.status.busy": "2022-10-25T14:57:33.770180Z",
     "iopub.status.idle": "2022-10-25T14:57:45.648805Z",
     "shell.execute_reply": "2022-10-25T14:57:45.648087Z"
    },
    "papermill": {
     "duration": 11.909552,
     "end_time": "2022-10-25T14:57:45.651754",
     "exception": false,
     "start_time": "2022-10-25T14:57:33.742202",
     "status": "completed"
    },
    "tags": []
   },
   "outputs": [
    {
     "name": "stderr",
     "output_type": "stream",
     "text": [
      "C:\\Users\\diego\\AppData\\Local\\Temp\\ipykernel_10404\\59910178.py:2: SettingWithCopyWarning: \n",
      "A value is trying to be set on a copy of a slice from a DataFrame.\n",
      "Try using .loc[row_indexer,col_indexer] = value instead\n",
      "\n",
      "See the caveats in the documentation: https://pandas.pydata.org/pandas-docs/stable/user_guide/indexing.html#returning-a-view-versus-a-copy\n",
      "  df2_purchase['gross_revenue'] = df2_purchase.apply(lambda x: x['quantity'] * x['unit_price'], axis = 1)\n"
     ]
    },
    {
     "data": {
      "text/plain": [
       "customer_id       0\n",
       "gross_revenue    91\n",
       "dtype: int64"
      ]
     },
     "execution_count": 24,
     "metadata": {},
     "output_type": "execute_result"
    }
   ],
   "source": [
    "# Gross Revenue: quantity * price\n",
    "df2_purchase['gross_revenue'] = df2_purchase.apply(lambda x: x['quantity'] * x['unit_price'], axis = 1)\n",
    "\n",
    "# Monetary\n",
    "df_monetary = df2_purchase[[ 'customer_id', 'gross_revenue']].groupby('customer_id').sum().reset_index()\n",
    "df_ref = pd.merge(df_ref, df_monetary, how='left', on='customer_id')\n",
    "df_ref.isna().sum()\n"
   ]
  },
  {
   "cell_type": "markdown",
   "id": "af1e352e",
   "metadata": {
    "papermill": {
     "duration": 0.015031,
     "end_time": "2022-10-25T14:57:45.677807",
     "exception": false,
     "start_time": "2022-10-25T14:57:45.662776",
     "status": "completed"
    },
    "tags": []
   },
   "source": [
    "### 3.1.2 Recency"
   ]
  },
  {
   "cell_type": "code",
   "execution_count": 25,
   "id": "087d3c71",
   "metadata": {
    "execution": {
     "iopub.execute_input": "2022-10-25T14:57:45.705789Z",
     "iopub.status.busy": "2022-10-25T14:57:45.705789Z",
     "iopub.status.idle": "2022-10-25T14:57:45.807811Z",
     "shell.execute_reply": "2022-10-25T14:57:45.806929Z"
    },
    "papermill": {
     "duration": 0.118996,
     "end_time": "2022-10-25T14:57:45.809787",
     "exception": false,
     "start_time": "2022-10-25T14:57:45.690791",
     "status": "completed"
    },
    "tags": []
   },
   "outputs": [
    {
     "data": {
      "text/plain": [
       "customer_id       0\n",
       "gross_revenue    91\n",
       "recency_days     91\n",
       "dtype: int64"
      ]
     },
     "execution_count": 25,
     "metadata": {},
     "output_type": "execute_result"
    }
   ],
   "source": [
    "# Recency - Last day purchase\n",
    "\n",
    "max_invoice_date = df2_purchase['invoice_date'].max()\n",
    "\n",
    "df_recency = df2_purchase.loc[:, ['customer_id','invoice_date']].groupby('customer_id').max().reset_index()\n",
    "df_recency['recency_days'] = df_recency['invoice_date'].apply(lambda x:  max_invoice_date - x).dt.days\n",
    "df_recency = df_recency[['customer_id', 'recency_days']].copy()\n",
    "df_ref = pd.merge(df_ref, df_recency, on='customer_id', how='left')\n",
    "df_ref.isna().sum()\n"
   ]
  },
  {
   "cell_type": "markdown",
   "id": "1733d66d",
   "metadata": {
    "papermill": {
     "duration": 0.017999,
     "end_time": "2022-10-25T14:57:45.839745",
     "exception": false,
     "start_time": "2022-10-25T14:57:45.821746",
     "status": "completed"
    },
    "tags": []
   },
   "source": [
    "### 3.1.4 Quantity of Items Purchased"
   ]
  },
  {
   "cell_type": "code",
   "execution_count": 26,
   "id": "b1ee22c8",
   "metadata": {
    "execution": {
     "iopub.execute_input": "2022-10-25T14:57:45.869744Z",
     "iopub.status.busy": "2022-10-25T14:57:45.868759Z",
     "iopub.status.idle": "2022-10-25T14:57:45.919744Z",
     "shell.execute_reply": "2022-10-25T14:57:45.918788Z"
    },
    "papermill": {
     "duration": 0.068004,
     "end_time": "2022-10-25T14:57:45.921779",
     "exception": false,
     "start_time": "2022-10-25T14:57:45.853775",
     "status": "completed"
    },
    "tags": []
   },
   "outputs": [
    {
     "data": {
      "text/plain": [
       "customer_id        0\n",
       "gross_revenue     91\n",
       "recency_days      91\n",
       "total_quantity    91\n",
       "dtype: int64"
      ]
     },
     "execution_count": 26,
     "metadata": {},
     "output_type": "execute_result"
    }
   ],
   "source": [
    "# total quantity of procucts purchased by customer\n",
    "df_prod = df2_purchase.loc[:, ['customer_id','quantity']].groupby('customer_id').sum().reset_index()\n",
    "df_ref = pd.merge(df_ref, df_prod, on='customer_id', how='left')\n",
    "df_ref = df_ref.rename(columns={'quantity': 'total_quantity'})\n",
    "\n",
    "df_ref.isna().sum()\n"
   ]
  },
  {
   "cell_type": "code",
   "execution_count": 27,
   "id": "b9cec701",
   "metadata": {
    "execution": {
     "iopub.execute_input": "2022-10-25T14:57:45.948754Z",
     "iopub.status.busy": "2022-10-25T14:57:45.948754Z",
     "iopub.status.idle": "2022-10-25T14:57:45.966763Z",
     "shell.execute_reply": "2022-10-25T14:57:45.966011Z"
    },
    "papermill": {
     "duration": 0.035001,
     "end_time": "2022-10-25T14:57:45.968758",
     "exception": false,
     "start_time": "2022-10-25T14:57:45.933757",
     "status": "completed"
    },
    "tags": []
   },
   "outputs": [],
   "source": [
    "df_ref1 = df_ref.copy()"
   ]
  },
  {
   "cell_type": "markdown",
   "id": "728f1f88",
   "metadata": {
    "papermill": {
     "duration": 0.013004,
     "end_time": "2022-10-25T14:57:45.992753",
     "exception": false,
     "start_time": "2022-10-25T14:57:45.979749",
     "status": "completed"
    },
    "tags": []
   },
   "source": [
    "### 3.1.7 Frequency"
   ]
  },
  {
   "cell_type": "code",
   "execution_count": 28,
   "id": "82a97591",
   "metadata": {
    "execution": {
     "iopub.execute_input": "2022-10-25T14:57:46.019797Z",
     "iopub.status.busy": "2022-10-25T14:57:46.019797Z",
     "iopub.status.idle": "2022-10-25T14:57:47.150762Z",
     "shell.execute_reply": "2022-10-25T14:57:47.149757Z"
    },
    "papermill": {
     "duration": 1.146825,
     "end_time": "2022-10-25T14:57:47.152758",
     "exception": false,
     "start_time": "2022-10-25T14:57:46.005933",
     "status": "completed"
    },
    "tags": []
   },
   "outputs": [],
   "source": [
    "df_aux = ( df2_purchase[['customer_id', 'invoice_date', 'invoice_no']].drop_duplicates()\n",
    "                                                             .groupby('customer_id')\n",
    "                                                             .agg(max_=('invoice_date', 'max'), \n",
    "                                                                  min_=('invoice_date', 'min'),\n",
    "                                                                  days_=('invoice_date', lambda x: ((x.max() - x.min()).days) + 1),\n",
    "                                                                  buy_=('invoice_no', 'count')).reset_index())\n",
    "\n",
    "# frequency\n",
    "df_aux['frequency'] = df_aux[['buy_', 'days_']].apply(lambda x: x['buy_']/x['days_'] if x['days_'] != 0 else 0, axis=1)\n",
    "\n",
    "df_aux.head()\n",
    "\n",
    "# merge\n",
    "df_ref1 = pd.merge(df_ref1, df_aux[['customer_id', 'frequency']], on='customer_id', how='left')"
   ]
  },
  {
   "cell_type": "code",
   "execution_count": 29,
   "id": "6b7be8a4",
   "metadata": {
    "execution": {
     "iopub.execute_input": "2022-10-25T14:57:47.188748Z",
     "iopub.status.busy": "2022-10-25T14:57:47.188748Z",
     "iopub.status.idle": "2022-10-25T14:57:47.213754Z",
     "shell.execute_reply": "2022-10-25T14:57:47.212788Z"
    },
    "papermill": {
     "duration": 0.047,
     "end_time": "2022-10-25T14:57:47.216746",
     "exception": false,
     "start_time": "2022-10-25T14:57:47.169746",
     "status": "completed"
    },
    "tags": []
   },
   "outputs": [
    {
     "data": {
      "text/plain": [
       "customer_id        0\n",
       "gross_revenue     91\n",
       "recency_days      91\n",
       "total_quantity    91\n",
       "frequency         91\n",
       "dtype: int64"
      ]
     },
     "execution_count": 29,
     "metadata": {},
     "output_type": "execute_result"
    }
   ],
   "source": [
    "df_ref1.isna().sum()"
   ]
  },
  {
   "cell_type": "markdown",
   "id": "55cbf5f0",
   "metadata": {
    "papermill": {
     "duration": 0.015991,
     "end_time": "2022-10-25T14:57:47.248757",
     "exception": false,
     "start_time": "2022-10-25T14:57:47.232766",
     "status": "completed"
    },
    "tags": []
   },
   "source": [
    "### 3.1.8 Returns"
   ]
  },
  {
   "cell_type": "code",
   "execution_count": 30,
   "id": "5aba9849",
   "metadata": {
    "execution": {
     "iopub.execute_input": "2022-10-25T14:57:47.284759Z",
     "iopub.status.busy": "2022-10-25T14:57:47.284759Z",
     "iopub.status.idle": "2022-10-25T14:57:47.309780Z",
     "shell.execute_reply": "2022-10-25T14:57:47.308752Z"
    },
    "papermill": {
     "duration": 0.047017,
     "end_time": "2022-10-25T14:57:47.311762",
     "exception": false,
     "start_time": "2022-10-25T14:57:47.264745",
     "status": "completed"
    },
    "tags": []
   },
   "outputs": [
    {
     "data": {
      "text/plain": [
       "customer_id        0\n",
       "gross_revenue     91\n",
       "recency_days      91\n",
       "total_quantity    91\n",
       "frequency         91\n",
       "qty_returns        0\n",
       "dtype: int64"
      ]
     },
     "execution_count": 30,
     "metadata": {},
     "output_type": "execute_result"
    }
   ],
   "source": [
    "df_returns = df2_returns[['customer_id', 'quantity']].groupby('customer_id').sum().reset_index().rename(columns={'quantity':'qty_returns'})\n",
    "df_returns['qty_returns'] = df_returns['qty_returns']*(-1)\n",
    "\n",
    "df_ref1 = pd.merge(df_ref1, df_returns, on='customer_id', how='left')\n",
    "df_ref1.loc[df_ref1['qty_returns'].isna(), 'qty_returns'] = 0\n",
    "df_ref1.isna().sum()"
   ]
  },
  {
   "cell_type": "code",
   "execution_count": 31,
   "id": "64bc355d",
   "metadata": {
    "execution": {
     "iopub.execute_input": "2022-10-25T14:57:47.348745Z",
     "iopub.status.busy": "2022-10-25T14:57:47.347803Z",
     "iopub.status.idle": "2022-10-25T14:57:47.372746Z",
     "shell.execute_reply": "2022-10-25T14:57:47.372746Z"
    },
    "papermill": {
     "duration": 0.048003,
     "end_time": "2022-10-25T14:57:47.375756",
     "exception": false,
     "start_time": "2022-10-25T14:57:47.327753",
     "status": "completed"
    },
    "tags": []
   },
   "outputs": [
    {
     "data": {
      "text/html": [
       "<div>\n",
       "<style scoped>\n",
       "    .dataframe tbody tr th:only-of-type {\n",
       "        vertical-align: middle;\n",
       "    }\n",
       "\n",
       "    .dataframe tbody tr th {\n",
       "        vertical-align: top;\n",
       "    }\n",
       "\n",
       "    .dataframe thead th {\n",
       "        text-align: right;\n",
       "    }\n",
       "</style>\n",
       "<table border=\"1\" class=\"dataframe\">\n",
       "  <thead>\n",
       "    <tr style=\"text-align: right;\">\n",
       "      <th></th>\n",
       "      <th>customer_id</th>\n",
       "      <th>gross_revenue</th>\n",
       "      <th>recency_days</th>\n",
       "      <th>total_quantity</th>\n",
       "      <th>frequency</th>\n",
       "      <th>qty_returns</th>\n",
       "    </tr>\n",
       "  </thead>\n",
       "  <tbody>\n",
       "    <tr>\n",
       "      <th>0</th>\n",
       "      <td>17850</td>\n",
       "      <td>5391.21</td>\n",
       "      <td>372.0</td>\n",
       "      <td>1733.0</td>\n",
       "      <td>17.000000</td>\n",
       "      <td>40.0</td>\n",
       "    </tr>\n",
       "    <tr>\n",
       "      <th>1</th>\n",
       "      <td>13047</td>\n",
       "      <td>3232.59</td>\n",
       "      <td>56.0</td>\n",
       "      <td>1390.0</td>\n",
       "      <td>0.028302</td>\n",
       "      <td>35.0</td>\n",
       "    </tr>\n",
       "    <tr>\n",
       "      <th>2</th>\n",
       "      <td>12583</td>\n",
       "      <td>6705.38</td>\n",
       "      <td>2.0</td>\n",
       "      <td>5028.0</td>\n",
       "      <td>0.040323</td>\n",
       "      <td>50.0</td>\n",
       "    </tr>\n",
       "    <tr>\n",
       "      <th>3</th>\n",
       "      <td>13748</td>\n",
       "      <td>948.25</td>\n",
       "      <td>95.0</td>\n",
       "      <td>439.0</td>\n",
       "      <td>0.017921</td>\n",
       "      <td>0.0</td>\n",
       "    </tr>\n",
       "    <tr>\n",
       "      <th>4</th>\n",
       "      <td>15100</td>\n",
       "      <td>876.00</td>\n",
       "      <td>333.0</td>\n",
       "      <td>80.0</td>\n",
       "      <td>0.073171</td>\n",
       "      <td>22.0</td>\n",
       "    </tr>\n",
       "  </tbody>\n",
       "</table>\n",
       "</div>"
      ],
      "text/plain": [
       "   customer_id  gross_revenue  recency_days  total_quantity  frequency  \\\n",
       "0        17850        5391.21         372.0          1733.0  17.000000   \n",
       "1        13047        3232.59          56.0          1390.0   0.028302   \n",
       "2        12583        6705.38           2.0          5028.0   0.040323   \n",
       "3        13748         948.25          95.0           439.0   0.017921   \n",
       "4        15100         876.00         333.0            80.0   0.073171   \n",
       "\n",
       "   qty_returns  \n",
       "0         40.0  \n",
       "1         35.0  \n",
       "2         50.0  \n",
       "3          0.0  \n",
       "4         22.0  "
      ]
     },
     "execution_count": 31,
     "metadata": {},
     "output_type": "execute_result"
    }
   ],
   "source": [
    "df_ref1.head()"
   ]
  },
  {
   "cell_type": "markdown",
   "id": "2f0605cb",
   "metadata": {
    "papermill": {
     "duration": 0.020985,
     "end_time": "2022-10-25T14:57:47.416749",
     "exception": false,
     "start_time": "2022-10-25T14:57:47.395764",
     "status": "completed"
    },
    "tags": []
   },
   "source": [
    "# 4.0 EXPLORATORY DATA ANALYSIS"
   ]
  },
  {
   "cell_type": "code",
   "execution_count": 32,
   "id": "334e2bf0",
   "metadata": {
    "execution": {
     "iopub.execute_input": "2022-10-25T14:57:47.468756Z",
     "iopub.status.busy": "2022-10-25T14:57:47.467745Z",
     "iopub.status.idle": "2022-10-25T14:57:47.484745Z",
     "shell.execute_reply": "2022-10-25T14:57:47.483757Z"
    },
    "papermill": {
     "duration": 0.041013,
     "end_time": "2022-10-25T14:57:47.485760",
     "exception": false,
     "start_time": "2022-10-25T14:57:47.444747",
     "status": "completed"
    },
    "tags": []
   },
   "outputs": [
    {
     "data": {
      "text/plain": [
       "customer_id       0\n",
       "gross_revenue     0\n",
       "recency_days      0\n",
       "total_quantity    0\n",
       "frequency         0\n",
       "qty_returns       0\n",
       "dtype: int64"
      ]
     },
     "execution_count": 32,
     "metadata": {},
     "output_type": "execute_result"
    }
   ],
   "source": [
    "df4 = df_ref1.copy()\n",
    "df4 = df4.dropna()\n",
    "df4.isna().sum()"
   ]
  },
  {
   "cell_type": "markdown",
   "id": "98d9cb68",
   "metadata": {
    "papermill": {
     "duration": 0.016998,
     "end_time": "2022-10-25T14:57:47.518744",
     "exception": false,
     "start_time": "2022-10-25T14:57:47.501746",
     "status": "completed"
    },
    "tags": []
   },
   "source": [
    "## 4.3 Embedding study"
   ]
  },
  {
   "cell_type": "code",
   "execution_count": 33,
   "id": "4265729e",
   "metadata": {
    "execution": {
     "iopub.execute_input": "2022-10-25T14:57:47.549752Z",
     "iopub.status.busy": "2022-10-25T14:57:47.548758Z",
     "iopub.status.idle": "2022-10-25T14:57:47.564752Z",
     "shell.execute_reply": "2022-10-25T14:57:47.563920Z"
    },
    "papermill": {
     "duration": 0.030964,
     "end_time": "2022-10-25T14:57:47.566747",
     "exception": false,
     "start_time": "2022-10-25T14:57:47.535783",
     "status": "completed"
    },
    "tags": []
   },
   "outputs": [],
   "source": [
    "# df43 = df4.drop(columns=['customer_id'], axis=1).copy()\n",
    "\n",
    "cols_selected = ['customer_id', 'gross_revenue', 'recency_days', 'total_quantity', 'frequency', 'qty_returns']\n",
    "df43 = df4[cols_selected].copy() "
   ]
  },
  {
   "cell_type": "code",
   "execution_count": 34,
   "id": "79f6bfed",
   "metadata": {
    "execution": {
     "iopub.execute_input": "2022-10-25T14:57:47.594762Z",
     "iopub.status.busy": "2022-10-25T14:57:47.594762Z",
     "iopub.status.idle": "2022-10-25T14:57:47.626787Z",
     "shell.execute_reply": "2022-10-25T14:57:47.625925Z"
    },
    "papermill": {
     "duration": 0.048945,
     "end_time": "2022-10-25T14:57:47.627752",
     "exception": false,
     "start_time": "2022-10-25T14:57:47.578807",
     "status": "completed"
    },
    "tags": []
   },
   "outputs": [],
   "source": [
    "mm = pp.MinMaxScaler()\n",
    "\n",
    "df43['gross_revenue']      = mm.fit_transform(df43[['gross_revenue']])\n",
    "df43['recency_days']       = mm.fit_transform(df43[['recency_days']])\n",
    "df43['total_quantity']     = mm.fit_transform(df43[['total_quantity']])\n",
    "df43['frequency']          = mm.fit_transform(df43[['frequency']])\n",
    "df43['qty_returns']        = mm.fit_transform(df43[['qty_returns']])\n",
    "\n",
    "\n",
    "\n"
   ]
  },
  {
   "cell_type": "code",
   "execution_count": 35,
   "id": "ab1372ba",
   "metadata": {
    "execution": {
     "iopub.execute_input": "2022-10-25T14:57:47.655782Z",
     "iopub.status.busy": "2022-10-25T14:57:47.654790Z",
     "iopub.status.idle": "2022-10-25T14:57:47.673799Z",
     "shell.execute_reply": "2022-10-25T14:57:47.672927Z"
    },
    "papermill": {
     "duration": 0.035026,
     "end_time": "2022-10-25T14:57:47.675778",
     "exception": false,
     "start_time": "2022-10-25T14:57:47.640752",
     "status": "completed"
    },
    "tags": []
   },
   "outputs": [],
   "source": [
    "X = df43.copy()"
   ]
  },
  {
   "cell_type": "markdown",
   "id": "26f59c63",
   "metadata": {
    "papermill": {
     "duration": 0.017034,
     "end_time": "2022-10-25T14:57:47.705802",
     "exception": false,
     "start_time": "2022-10-25T14:57:47.688768",
     "status": "completed"
    },
    "tags": []
   },
   "source": [
    "### 4.3.4 Tree-Based Embedding"
   ]
  },
  {
   "cell_type": "markdown",
   "id": "e9013daf",
   "metadata": {
    "papermill": {
     "duration": 0.013957,
     "end_time": "2022-10-25T14:57:47.732746",
     "exception": false,
     "start_time": "2022-10-25T14:57:47.718789",
     "status": "completed"
    },
    "tags": []
   },
   "source": [
    "Tree-Based Embedding is a tool used to organize cluster with a target variable that, in this case, is the **Gross Revenue**.\n",
    "\n",
    "It is a great method to create embedding for clustering when may explain the cluster's proximity but not the points similarity between them"
   ]
  },
  {
   "cell_type": "code",
   "execution_count": 36,
   "id": "35d7f72b",
   "metadata": {
    "execution": {
     "iopub.execute_input": "2022-10-25T14:57:47.759765Z",
     "iopub.status.busy": "2022-10-25T14:57:47.759765Z",
     "iopub.status.idle": "2022-10-25T14:57:49.269758Z",
     "shell.execute_reply": "2022-10-25T14:57:49.268957Z"
    },
    "papermill": {
     "duration": 1.526038,
     "end_time": "2022-10-25T14:57:49.271786",
     "exception": false,
     "start_time": "2022-10-25T14:57:47.745748",
     "status": "completed"
    },
    "tags": []
   },
   "outputs": [],
   "source": [
    "# training dataset\n",
    "\n",
    "X = df43.drop(columns=['customer_id', 'gross_revenue'], axis=1)\n",
    "y = df43['gross_revenue']\n",
    "\n",
    "# model definition\n",
    "rf_model = en.RandomForestRegressor(n_estimators=100, random_state=42)\n",
    "\n",
    "# model training\n",
    "rf_model.fit(X, y)\n",
    "\n",
    "# Leaf\n",
    "df_leaf = pd.DataFrame(rf_model.apply(X))\n",
    "\n",
    "# dataframe Leaf"
   ]
  },
  {
   "cell_type": "code",
   "execution_count": 37,
   "id": "9b7936f8",
   "metadata": {
    "execution": {
     "iopub.execute_input": "2022-10-25T14:57:49.302770Z",
     "iopub.status.busy": "2022-10-25T14:57:49.301762Z",
     "iopub.status.idle": "2022-10-25T14:58:38.625744Z",
     "shell.execute_reply": "2022-10-25T14:58:38.624884Z"
    },
    "papermill": {
     "duration": 49.344009,
     "end_time": "2022-10-25T14:58:38.628766",
     "exception": false,
     "start_time": "2022-10-25T14:57:49.284757",
     "status": "completed"
    },
    "tags": []
   },
   "outputs": [],
   "source": [
    "# Reducer dimensionality\n",
    "reducer = umap.UMAP(n_neighbors=90, random_state=42)\n",
    "embedding = reducer.fit_transform(df_leaf)\n",
    "\n",
    "# embedding\n",
    "df_tree = pd.DataFrame()\n",
    "df_tree['embedding_x'] = embedding[:, 0]\n",
    "df_tree['embedding_y'] = embedding[:, 1]\n",
    "\n"
   ]
  },
  {
   "cell_type": "markdown",
   "id": "2f5573f5",
   "metadata": {
    "papermill": {
     "duration": 0.014961,
     "end_time": "2022-10-25T14:58:38.655729",
     "exception": false,
     "start_time": "2022-10-25T14:58:38.640768",
     "status": "completed"
    },
    "tags": []
   },
   "source": [
    "# 5.0 DATA PREPARATION "
   ]
  },
  {
   "cell_type": "markdown",
   "id": "5e9ee200",
   "metadata": {
    "tags": [
     "papermill-error-cell-tag"
    ]
   },
   "source": [
    "<span id=\"papermill-error-cell\" style=\"color:red; font-family:Helvetica Neue, Helvetica, Arial, sans-serif; font-size:2em;\">Execution using papermill encountered an exception here and stopped:</span>"
   ]
  },
  {
   "cell_type": "code",
   "execution_count": 38,
   "id": "5a34af2a",
   "metadata": {
    "execution": {
     "iopub.execute_input": "2022-10-25T14:58:38.684721Z",
     "iopub.status.busy": "2022-10-25T14:58:38.684721Z",
     "iopub.status.idle": "2022-10-25T14:58:40.976440Z",
     "shell.execute_reply": "2022-10-25T14:58:40.974489Z"
    },
    "papermill": {
     "duration": 2.310725,
     "end_time": "2022-10-25T14:58:40.980488",
     "exception": true,
     "start_time": "2022-10-25T14:58:38.669763",
     "status": "failed"
    },
    "tags": []
   },
   "outputs": [
    {
     "ename": "OSError",
     "evalue": "Cannot save file into a non-existent directory: '..\\src\\data'",
     "output_type": "error",
     "traceback": [
      "\u001b[1;31m---------------------------------------------------------------------------\u001b[0m",
      "\u001b[1;31mOSError\u001b[0m                                   Traceback (most recent call last)",
      "Input \u001b[1;32mIn [38]\u001b[0m, in \u001b[0;36m<cell line: 2>\u001b[1;34m()\u001b[0m\n\u001b[0;32m      1\u001b[0m df5 \u001b[38;5;241m=\u001b[39m df_tree\u001b[38;5;241m.\u001b[39mcopy()\n\u001b[1;32m----> 2\u001b[0m \u001b[43mdf5\u001b[49m\u001b[38;5;241;43m.\u001b[39;49m\u001b[43mto_csv\u001b[49m\u001b[43m(\u001b[49m\u001b[38;5;124;43m'\u001b[39;49m\u001b[38;5;124;43m../src/data/tree_based_embedding.csv\u001b[39;49m\u001b[38;5;124;43m'\u001b[39;49m\u001b[43m,\u001b[49m\u001b[43m \u001b[49m\u001b[43mindex\u001b[49m\u001b[38;5;241;43m=\u001b[39;49m\u001b[38;5;28;43;01mFalse\u001b[39;49;00m\u001b[43m)\u001b[49m\n",
      "File \u001b[1;32m~\\anaconda3\\lib\\site-packages\\pandas\\core\\generic.py:3551\u001b[0m, in \u001b[0;36mNDFrame.to_csv\u001b[1;34m(self, path_or_buf, sep, na_rep, float_format, columns, header, index, index_label, mode, encoding, compression, quoting, quotechar, line_terminator, chunksize, date_format, doublequote, escapechar, decimal, errors, storage_options)\u001b[0m\n\u001b[0;32m   3540\u001b[0m df \u001b[38;5;241m=\u001b[39m \u001b[38;5;28mself\u001b[39m \u001b[38;5;28;01mif\u001b[39;00m \u001b[38;5;28misinstance\u001b[39m(\u001b[38;5;28mself\u001b[39m, ABCDataFrame) \u001b[38;5;28;01melse\u001b[39;00m \u001b[38;5;28mself\u001b[39m\u001b[38;5;241m.\u001b[39mto_frame()\n\u001b[0;32m   3542\u001b[0m formatter \u001b[38;5;241m=\u001b[39m DataFrameFormatter(\n\u001b[0;32m   3543\u001b[0m     frame\u001b[38;5;241m=\u001b[39mdf,\n\u001b[0;32m   3544\u001b[0m     header\u001b[38;5;241m=\u001b[39mheader,\n\u001b[1;32m   (...)\u001b[0m\n\u001b[0;32m   3548\u001b[0m     decimal\u001b[38;5;241m=\u001b[39mdecimal,\n\u001b[0;32m   3549\u001b[0m )\n\u001b[1;32m-> 3551\u001b[0m \u001b[38;5;28;01mreturn\u001b[39;00m \u001b[43mDataFrameRenderer\u001b[49m\u001b[43m(\u001b[49m\u001b[43mformatter\u001b[49m\u001b[43m)\u001b[49m\u001b[38;5;241;43m.\u001b[39;49m\u001b[43mto_csv\u001b[49m\u001b[43m(\u001b[49m\n\u001b[0;32m   3552\u001b[0m \u001b[43m    \u001b[49m\u001b[43mpath_or_buf\u001b[49m\u001b[43m,\u001b[49m\n\u001b[0;32m   3553\u001b[0m \u001b[43m    \u001b[49m\u001b[43mline_terminator\u001b[49m\u001b[38;5;241;43m=\u001b[39;49m\u001b[43mline_terminator\u001b[49m\u001b[43m,\u001b[49m\n\u001b[0;32m   3554\u001b[0m \u001b[43m    \u001b[49m\u001b[43msep\u001b[49m\u001b[38;5;241;43m=\u001b[39;49m\u001b[43msep\u001b[49m\u001b[43m,\u001b[49m\n\u001b[0;32m   3555\u001b[0m \u001b[43m    \u001b[49m\u001b[43mencoding\u001b[49m\u001b[38;5;241;43m=\u001b[39;49m\u001b[43mencoding\u001b[49m\u001b[43m,\u001b[49m\n\u001b[0;32m   3556\u001b[0m \u001b[43m    \u001b[49m\u001b[43merrors\u001b[49m\u001b[38;5;241;43m=\u001b[39;49m\u001b[43merrors\u001b[49m\u001b[43m,\u001b[49m\n\u001b[0;32m   3557\u001b[0m \u001b[43m    \u001b[49m\u001b[43mcompression\u001b[49m\u001b[38;5;241;43m=\u001b[39;49m\u001b[43mcompression\u001b[49m\u001b[43m,\u001b[49m\n\u001b[0;32m   3558\u001b[0m \u001b[43m    \u001b[49m\u001b[43mquoting\u001b[49m\u001b[38;5;241;43m=\u001b[39;49m\u001b[43mquoting\u001b[49m\u001b[43m,\u001b[49m\n\u001b[0;32m   3559\u001b[0m \u001b[43m    \u001b[49m\u001b[43mcolumns\u001b[49m\u001b[38;5;241;43m=\u001b[39;49m\u001b[43mcolumns\u001b[49m\u001b[43m,\u001b[49m\n\u001b[0;32m   3560\u001b[0m \u001b[43m    \u001b[49m\u001b[43mindex_label\u001b[49m\u001b[38;5;241;43m=\u001b[39;49m\u001b[43mindex_label\u001b[49m\u001b[43m,\u001b[49m\n\u001b[0;32m   3561\u001b[0m \u001b[43m    \u001b[49m\u001b[43mmode\u001b[49m\u001b[38;5;241;43m=\u001b[39;49m\u001b[43mmode\u001b[49m\u001b[43m,\u001b[49m\n\u001b[0;32m   3562\u001b[0m \u001b[43m    \u001b[49m\u001b[43mchunksize\u001b[49m\u001b[38;5;241;43m=\u001b[39;49m\u001b[43mchunksize\u001b[49m\u001b[43m,\u001b[49m\n\u001b[0;32m   3563\u001b[0m \u001b[43m    \u001b[49m\u001b[43mquotechar\u001b[49m\u001b[38;5;241;43m=\u001b[39;49m\u001b[43mquotechar\u001b[49m\u001b[43m,\u001b[49m\n\u001b[0;32m   3564\u001b[0m \u001b[43m    \u001b[49m\u001b[43mdate_format\u001b[49m\u001b[38;5;241;43m=\u001b[39;49m\u001b[43mdate_format\u001b[49m\u001b[43m,\u001b[49m\n\u001b[0;32m   3565\u001b[0m \u001b[43m    \u001b[49m\u001b[43mdoublequote\u001b[49m\u001b[38;5;241;43m=\u001b[39;49m\u001b[43mdoublequote\u001b[49m\u001b[43m,\u001b[49m\n\u001b[0;32m   3566\u001b[0m \u001b[43m    \u001b[49m\u001b[43mescapechar\u001b[49m\u001b[38;5;241;43m=\u001b[39;49m\u001b[43mescapechar\u001b[49m\u001b[43m,\u001b[49m\n\u001b[0;32m   3567\u001b[0m \u001b[43m    \u001b[49m\u001b[43mstorage_options\u001b[49m\u001b[38;5;241;43m=\u001b[39;49m\u001b[43mstorage_options\u001b[49m\u001b[43m,\u001b[49m\n\u001b[0;32m   3568\u001b[0m \u001b[43m\u001b[49m\u001b[43m)\u001b[49m\n",
      "File \u001b[1;32m~\\anaconda3\\lib\\site-packages\\pandas\\io\\formats\\format.py:1180\u001b[0m, in \u001b[0;36mDataFrameRenderer.to_csv\u001b[1;34m(self, path_or_buf, encoding, sep, columns, index_label, mode, compression, quoting, quotechar, line_terminator, chunksize, date_format, doublequote, escapechar, errors, storage_options)\u001b[0m\n\u001b[0;32m   1159\u001b[0m     created_buffer \u001b[38;5;241m=\u001b[39m \u001b[38;5;28;01mFalse\u001b[39;00m\n\u001b[0;32m   1161\u001b[0m csv_formatter \u001b[38;5;241m=\u001b[39m CSVFormatter(\n\u001b[0;32m   1162\u001b[0m     path_or_buf\u001b[38;5;241m=\u001b[39mpath_or_buf,\n\u001b[0;32m   1163\u001b[0m     line_terminator\u001b[38;5;241m=\u001b[39mline_terminator,\n\u001b[1;32m   (...)\u001b[0m\n\u001b[0;32m   1178\u001b[0m     formatter\u001b[38;5;241m=\u001b[39m\u001b[38;5;28mself\u001b[39m\u001b[38;5;241m.\u001b[39mfmt,\n\u001b[0;32m   1179\u001b[0m )\n\u001b[1;32m-> 1180\u001b[0m \u001b[43mcsv_formatter\u001b[49m\u001b[38;5;241;43m.\u001b[39;49m\u001b[43msave\u001b[49m\u001b[43m(\u001b[49m\u001b[43m)\u001b[49m\n\u001b[0;32m   1182\u001b[0m \u001b[38;5;28;01mif\u001b[39;00m created_buffer:\n\u001b[0;32m   1183\u001b[0m     \u001b[38;5;28;01massert\u001b[39;00m \u001b[38;5;28misinstance\u001b[39m(path_or_buf, StringIO)\n",
      "File \u001b[1;32m~\\anaconda3\\lib\\site-packages\\pandas\\io\\formats\\csvs.py:241\u001b[0m, in \u001b[0;36mCSVFormatter.save\u001b[1;34m(self)\u001b[0m\n\u001b[0;32m    237\u001b[0m \u001b[38;5;124;03m\"\"\"\u001b[39;00m\n\u001b[0;32m    238\u001b[0m \u001b[38;5;124;03mCreate the writer & save.\u001b[39;00m\n\u001b[0;32m    239\u001b[0m \u001b[38;5;124;03m\"\"\"\u001b[39;00m\n\u001b[0;32m    240\u001b[0m \u001b[38;5;66;03m# apply compression and byte/text conversion\u001b[39;00m\n\u001b[1;32m--> 241\u001b[0m \u001b[38;5;28;01mwith\u001b[39;00m \u001b[43mget_handle\u001b[49m\u001b[43m(\u001b[49m\n\u001b[0;32m    242\u001b[0m \u001b[43m    \u001b[49m\u001b[38;5;28;43mself\u001b[39;49m\u001b[38;5;241;43m.\u001b[39;49m\u001b[43mfilepath_or_buffer\u001b[49m\u001b[43m,\u001b[49m\n\u001b[0;32m    243\u001b[0m \u001b[43m    \u001b[49m\u001b[38;5;28;43mself\u001b[39;49m\u001b[38;5;241;43m.\u001b[39;49m\u001b[43mmode\u001b[49m\u001b[43m,\u001b[49m\n\u001b[0;32m    244\u001b[0m \u001b[43m    \u001b[49m\u001b[43mencoding\u001b[49m\u001b[38;5;241;43m=\u001b[39;49m\u001b[38;5;28;43mself\u001b[39;49m\u001b[38;5;241;43m.\u001b[39;49m\u001b[43mencoding\u001b[49m\u001b[43m,\u001b[49m\n\u001b[0;32m    245\u001b[0m \u001b[43m    \u001b[49m\u001b[43merrors\u001b[49m\u001b[38;5;241;43m=\u001b[39;49m\u001b[38;5;28;43mself\u001b[39;49m\u001b[38;5;241;43m.\u001b[39;49m\u001b[43merrors\u001b[49m\u001b[43m,\u001b[49m\n\u001b[0;32m    246\u001b[0m \u001b[43m    \u001b[49m\u001b[43mcompression\u001b[49m\u001b[38;5;241;43m=\u001b[39;49m\u001b[38;5;28;43mself\u001b[39;49m\u001b[38;5;241;43m.\u001b[39;49m\u001b[43mcompression\u001b[49m\u001b[43m,\u001b[49m\n\u001b[0;32m    247\u001b[0m \u001b[43m    \u001b[49m\u001b[43mstorage_options\u001b[49m\u001b[38;5;241;43m=\u001b[39;49m\u001b[38;5;28;43mself\u001b[39;49m\u001b[38;5;241;43m.\u001b[39;49m\u001b[43mstorage_options\u001b[49m\u001b[43m,\u001b[49m\n\u001b[0;32m    248\u001b[0m \u001b[43m\u001b[49m\u001b[43m)\u001b[49m \u001b[38;5;28;01mas\u001b[39;00m handles:\n\u001b[0;32m    249\u001b[0m \n\u001b[0;32m    250\u001b[0m     \u001b[38;5;66;03m# Note: self.encoding is irrelevant here\u001b[39;00m\n\u001b[0;32m    251\u001b[0m     \u001b[38;5;28mself\u001b[39m\u001b[38;5;241m.\u001b[39mwriter \u001b[38;5;241m=\u001b[39m csvlib\u001b[38;5;241m.\u001b[39mwriter(\n\u001b[0;32m    252\u001b[0m         handles\u001b[38;5;241m.\u001b[39mhandle,\n\u001b[0;32m    253\u001b[0m         lineterminator\u001b[38;5;241m=\u001b[39m\u001b[38;5;28mself\u001b[39m\u001b[38;5;241m.\u001b[39mline_terminator,\n\u001b[1;32m   (...)\u001b[0m\n\u001b[0;32m    258\u001b[0m         quotechar\u001b[38;5;241m=\u001b[39m\u001b[38;5;28mself\u001b[39m\u001b[38;5;241m.\u001b[39mquotechar,\n\u001b[0;32m    259\u001b[0m     )\n\u001b[0;32m    261\u001b[0m     \u001b[38;5;28mself\u001b[39m\u001b[38;5;241m.\u001b[39m_save()\n",
      "File \u001b[1;32m~\\anaconda3\\lib\\site-packages\\pandas\\io\\common.py:697\u001b[0m, in \u001b[0;36mget_handle\u001b[1;34m(path_or_buf, mode, encoding, compression, memory_map, is_text, errors, storage_options)\u001b[0m\n\u001b[0;32m    695\u001b[0m \u001b[38;5;66;03m# Only for write methods\u001b[39;00m\n\u001b[0;32m    696\u001b[0m \u001b[38;5;28;01mif\u001b[39;00m \u001b[38;5;124m\"\u001b[39m\u001b[38;5;124mr\u001b[39m\u001b[38;5;124m\"\u001b[39m \u001b[38;5;129;01mnot\u001b[39;00m \u001b[38;5;129;01min\u001b[39;00m mode \u001b[38;5;129;01mand\u001b[39;00m is_path:\n\u001b[1;32m--> 697\u001b[0m     \u001b[43mcheck_parent_directory\u001b[49m\u001b[43m(\u001b[49m\u001b[38;5;28;43mstr\u001b[39;49m\u001b[43m(\u001b[49m\u001b[43mhandle\u001b[49m\u001b[43m)\u001b[49m\u001b[43m)\u001b[49m\n\u001b[0;32m    699\u001b[0m \u001b[38;5;28;01mif\u001b[39;00m compression:\n\u001b[0;32m    700\u001b[0m     \u001b[38;5;28;01mif\u001b[39;00m compression \u001b[38;5;241m!=\u001b[39m \u001b[38;5;124m\"\u001b[39m\u001b[38;5;124mzstd\u001b[39m\u001b[38;5;124m\"\u001b[39m:\n\u001b[0;32m    701\u001b[0m         \u001b[38;5;66;03m# compression libraries do not like an explicit text-mode\u001b[39;00m\n",
      "File \u001b[1;32m~\\anaconda3\\lib\\site-packages\\pandas\\io\\common.py:571\u001b[0m, in \u001b[0;36mcheck_parent_directory\u001b[1;34m(path)\u001b[0m\n\u001b[0;32m    569\u001b[0m parent \u001b[38;5;241m=\u001b[39m Path(path)\u001b[38;5;241m.\u001b[39mparent\n\u001b[0;32m    570\u001b[0m \u001b[38;5;28;01mif\u001b[39;00m \u001b[38;5;129;01mnot\u001b[39;00m parent\u001b[38;5;241m.\u001b[39mis_dir():\n\u001b[1;32m--> 571\u001b[0m     \u001b[38;5;28;01mraise\u001b[39;00m \u001b[38;5;167;01mOSError\u001b[39;00m(\u001b[38;5;124mrf\u001b[39m\u001b[38;5;124m\"\u001b[39m\u001b[38;5;124mCannot save file into a non-existent directory: \u001b[39m\u001b[38;5;124m'\u001b[39m\u001b[38;5;132;01m{\u001b[39;00mparent\u001b[38;5;132;01m}\u001b[39;00m\u001b[38;5;124m'\u001b[39m\u001b[38;5;124m\"\u001b[39m)\n",
      "\u001b[1;31mOSError\u001b[0m: Cannot save file into a non-existent directory: '..\\src\\data'"
     ]
    }
   ],
   "source": [
    "df5 = df_tree.copy()\n",
    "df5.to_csv('../src/data/tree_based_embedding.csv', index=False)"
   ]
  },
  {
   "cell_type": "markdown",
   "id": "fc68e139",
   "metadata": {
    "papermill": {
     "duration": null,
     "end_time": null,
     "exception": null,
     "start_time": null,
     "status": "pending"
    },
    "tags": []
   },
   "source": [
    "#  7.0 HYPERPARAMETER FINE-TUNING"
   ]
  },
  {
   "cell_type": "code",
   "execution_count": null,
   "id": "0d4226d2",
   "metadata": {
    "papermill": {
     "duration": null,
     "end_time": null,
     "exception": null,
     "start_time": null,
     "status": "pending"
    },
    "tags": []
   },
   "outputs": [],
   "source": [
    "X = df_tree.copy()\n",
    "# X = df_tsne.copy()"
   ]
  },
  {
   "cell_type": "markdown",
   "id": "5f133a56",
   "metadata": {
    "papermill": {
     "duration": null,
     "end_time": null,
     "exception": null,
     "start_time": null,
     "status": "pending"
    },
    "tags": []
   },
   "source": [
    "#  8.0 MODEL TRAINING"
   ]
  },
  {
   "cell_type": "markdown",
   "id": "89424d4f",
   "metadata": {
    "papermill": {
     "duration": null,
     "end_time": null,
     "exception": null,
     "start_time": null,
     "status": "pending"
    },
    "tags": []
   },
   "source": [
    "## 8.1 Final Model"
   ]
  },
  {
   "cell_type": "code",
   "execution_count": null,
   "id": "346cab27",
   "metadata": {
    "papermill": {
     "duration": null,
     "end_time": null,
     "exception": null,
     "start_time": null,
     "status": "pending"
    },
    "tags": []
   },
   "outputs": [],
   "source": [
    "# model definition\n",
    "k = 6\n",
    "kmeans = c.KMeans(init='random', n_clusters=k, n_init=10, max_iter=300, random_state=42)\n",
    "\n",
    "# model training\n",
    "kmeans.fit(X)\n",
    "\n",
    "# clustering\n",
    "labels = kmeans.labels_"
   ]
  },
  {
   "cell_type": "markdown",
   "id": "d8f0ac6f",
   "metadata": {
    "papermill": {
     "duration": null,
     "end_time": null,
     "exception": null,
     "start_time": null,
     "status": "pending"
    },
    "tags": []
   },
   "source": [
    "## 8.2 Cluster Validation"
   ]
  },
  {
   "cell_type": "code",
   "execution_count": null,
   "id": "742ff52f",
   "metadata": {
    "papermill": {
     "duration": null,
     "end_time": null,
     "exception": null,
     "start_time": null,
     "status": "pending"
    },
    "tags": []
   },
   "outputs": [],
   "source": [
    "## WSS (Within-cluster Sum of Square)\n",
    "print('wss value: {}'.format(kmeans.inertia_))\n",
    "\n",
    "## SS (Silhouette Score)\n",
    "print('SS value: {}'. format(m.silhouette_score(X, labels, metric='euclidean')))\n"
   ]
  },
  {
   "cell_type": "markdown",
   "id": "d6b8ab74",
   "metadata": {
    "papermill": {
     "duration": null,
     "end_time": null,
     "exception": null,
     "start_time": null,
     "status": "pending"
    },
    "tags": []
   },
   "source": [
    "## 9.2 Cluster profile"
   ]
  },
  {
   "cell_type": "code",
   "execution_count": null,
   "id": "c0ebb51e",
   "metadata": {
    "papermill": {
     "duration": null,
     "end_time": null,
     "exception": null,
     "start_time": null,
     "status": "pending"
    },
    "tags": []
   },
   "outputs": [],
   "source": [
    "df92 = df4[cols_selected].copy()\n",
    "df92['cluster'] = labels\n",
    "df92.head()\n",
    "\n",
    "# change the types\n",
    "df92['recency_days'] = df92['recency_days'].astype(np.int64)\n",
    "df92['total_quantity'] = df92['total_quantity'].astype(np.int64)\n",
    "df92['qty_returns'] = df92['qty_returns'].astype(np.int64)\n",
    "\n",
    "# df92['last_training_timestamp'] = datetime.now().strftime('%Y-%m-%d %H:%M:%S')\n",
    "\n",
    "df92.head()"
   ]
  },
  {
   "cell_type": "code",
   "execution_count": null,
   "id": "57f8444b",
   "metadata": {
    "papermill": {
     "duration": null,
     "end_time": null,
     "exception": null,
     "start_time": null,
     "status": "pending"
    },
    "tags": []
   },
   "outputs": [],
   "source": [
    "# number of customers\n",
    "df_cluster = df92[['customer_id','cluster']].groupby('cluster').count().reset_index()\n",
    "df_cluster['perc_cluster'] = (df_cluster['customer_id']/df_cluster['customer_id'].sum())*100\n",
    "\n",
    "# Avg Gross revenue\n",
    "df_avg_gross_revenue = df92[['gross_revenue', 'cluster']].groupby('cluster').mean().reset_index()\n",
    "df_cluster = pd.merge(df_cluster, df_avg_gross_revenue, how='inner', on='cluster')\n",
    "\n",
    "# Avg recency days\n",
    "df_recency_days = df92[['recency_days', 'cluster']].groupby('cluster').mean().reset_index()\n",
    "df_cluster = pd.merge(df_cluster, df_recency_days, how='inner', on='cluster')\n",
    "\n",
    "# Avg quantity\n",
    "df_qty = df92[['total_quantity', 'cluster']].groupby('cluster').mean().reset_index()\n",
    "df_cluster = pd.merge(df_cluster, df_qty, how='inner', on='cluster')\n",
    "\n",
    "# frequency\n",
    "df_frequency = df92[['frequency', 'cluster']].groupby('cluster').mean().reset_index()\n",
    "df_cluster = pd.merge(df_cluster, df_frequency, how='inner', on='cluster')\n",
    "\n",
    "# qty_returns\n",
    "df_returns = df92[['qty_returns', 'cluster']].groupby('cluster').mean().reset_index()\n",
    "df_cluster = pd.merge(df_cluster, df_returns, how='inner', on='cluster')\n",
    "\n",
    "df_cluster.sort_values('gross_revenue', ascending=False)"
   ]
  },
  {
   "cell_type": "markdown",
   "id": "84d9cdfc",
   "metadata": {
    "papermill": {
     "duration": null,
     "end_time": null,
     "exception": null,
     "start_time": null,
     "status": "pending"
    },
    "tags": []
   },
   "source": [
    "# 10.0 DEPLOY TO PRODUCTION"
   ]
  },
  {
   "cell_type": "code",
   "execution_count": null,
   "id": "f32049b6",
   "metadata": {
    "papermill": {
     "duration": null,
     "end_time": null,
     "exception": null,
     "start_time": null,
     "status": "pending"
    },
    "tags": []
   },
   "outputs": [],
   "source": [
    "df92.dtypes"
   ]
  },
  {
   "cell_type": "markdown",
   "id": "7955d315",
   "metadata": {
    "papermill": {
     "duration": null,
     "end_time": null,
     "exception": null,
     "start_time": null,
     "status": "pending"
    },
    "tags": []
   },
   "source": [
    "## 10.1 Insert into SQLITE"
   ]
  },
  {
   "cell_type": "code",
   "execution_count": null,
   "id": "df22dc85",
   "metadata": {
    "papermill": {
     "duration": null,
     "end_time": null,
     "exception": null,
     "start_time": null,
     "status": "pending"
    },
    "tags": []
   },
   "outputs": [],
   "source": [
    "# database connection\n",
    "conn = create_engine('sqlite:///insiders_db.sqlite')\n",
    "\n",
    "# drop table\n",
    "query_drop_insiders = \"\"\"\n",
    "    DROP TABLE insiders\n",
    "\n",
    "\n",
    "\"\"\"\n",
    "\n",
    "# create table\n",
    "query_create_table_insiders = \"\"\"\n",
    "    CREATE TABLE insiders (\n",
    "        customer_id     INTEGER,\n",
    "        gross_revenue   REAL,\n",
    "        recency_days    INTEGER,\n",
    "        total_quantity  INTEGER,\n",
    "        frequency       REAL,\n",
    "        qty_returns     INTEGER,\n",
    "        cluster         INTEGER\n",
    "        ) \"\"\"\n",
    "\n",
    "conn.execute(query_drop_insiders)\n",
    "\n",
    "# insert data\n",
    "df92.to_sql('insiders', con=conn, if_exists='append', index=False)\n",
    "\n",
    "# select data"
   ]
  },
  {
   "cell_type": "code",
   "execution_count": null,
   "id": "8da8b935",
   "metadata": {
    "papermill": {
     "duration": null,
     "end_time": null,
     "exception": null,
     "start_time": null,
     "status": "pending"
    },
    "tags": []
   },
   "outputs": [],
   "source": [
    "# consulting database\n",
    "# query = \"\"\"\n",
    "#     SELECT * FROM insiders\n",
    "#     \"\"\"\n",
    "\n",
    "# df = pd.read_sql_query(query, conn)\n",
    "# df.head()"
   ]
  },
  {
   "cell_type": "code",
   "execution_count": null,
   "id": "a2714253",
   "metadata": {
    "papermill": {
     "duration": null,
     "end_time": null,
     "exception": null,
     "start_time": null,
     "status": "pending"
    },
    "tags": []
   },
   "outputs": [],
   "source": [
    "df.head()"
   ]
  },
  {
   "cell_type": "code",
   "execution_count": null,
   "id": "fcfa4044",
   "metadata": {
    "papermill": {
     "duration": null,
     "end_time": null,
     "exception": null,
     "start_time": null,
     "status": "pending"
    },
    "tags": []
   },
   "outputs": [],
   "source": []
  }
 ],
 "metadata": {
  "kernelspec": {
   "display_name": "Python 3.9.12 ('base')",
   "language": "python",
   "name": "python3"
  },
  "language_info": {
   "codemirror_mode": {
    "name": "ipython",
    "version": 3
   },
   "file_extension": ".py",
   "mimetype": "text/x-python",
   "name": "python",
   "nbconvert_exporter": "python",
   "pygments_lexer": "ipython3",
   "version": "3.9.12"
  },
  "papermill": {
   "default_parameters": {},
   "duration": 86.96437,
   "end_time": "2022-10-25T14:58:42.809996",
   "environment_variables": {},
   "exception": true,
   "input_path": "src/models/insiders_clustering_deploy.ipynb",
   "output_path": "reports/insiders_clustering_deploy.ipynb",
   "parameters": {},
   "start_time": "2022-10-25T14:57:15.845626",
   "version": "2.4.0"
  },
  "vscode": {
   "interpreter": {
    "hash": "465bc43bf4cbae58c142e3527ff2b05702dd810bc8ebc4f627e0af6c067b87a4"
   }
  }
 },
 "nbformat": 4,
 "nbformat_minor": 5
}